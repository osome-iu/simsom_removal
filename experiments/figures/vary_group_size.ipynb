{
 "cells": [
  {
   "cell_type": "markdown",
   "metadata": {},
   "source": [
    "- Test the robustness of findings under different high-risk group sizes: s_H=10^{-2,-1,1}; half-life=2 day; network of 10^5 nodes\n",
    "- Reproduce Fig.4 in the paper "
   ]
  },
  {
   "cell_type": "code",
   "execution_count": 40,
   "metadata": {},
   "outputs": [],
   "source": [
    "import simsom.utils as utils\n",
    "import numpy as np\n",
    "import pandas as pd\n",
    "import os\n",
    "import glob"
   ]
  },
  {
   "cell_type": "markdown",
   "metadata": {},
   "source": [
    "## Helpers"
   ]
  },
  {
   "cell_type": "code",
   "execution_count": 41,
   "metadata": {},
   "outputs": [],
   "source": [
    "def get_agg_metric(\n",
    "    df,\n",
    "    group_key=\"base_name\",\n",
    "    new_col_prefix=\"baseline\",\n",
    "    metrics=[\n",
    "        \"quality\",\n",
    "        \"illegal_frac\",\n",
    "        \"unique_illegal_frac\",\n",
    "        \"illegal_count\",\n",
    "        \"unique_illegal_count\",\n",
    "    ],\n",
    "    retain_keys=[\"illegal_prob\"],\n",
    "):\n",
    "    \"\"\"\n",
    "    Return a df where the columns of interest are aggregated by mean and std & renamed (prefix with a phrase)\n",
    "    new_col_prefix (str): the prefix to append to aggregated cols\n",
    "    \"\"\"\n",
    "    if any(i not in df.columns for i in retain_keys):\n",
    "        raise ValueError(\n",
    "            \"retain_keys, e.g., `illegal_prob` column not found in the dataframe. This is needed as a dummy column to count the number of observations.\"\n",
    "        )\n",
    "    for metric in metrics:\n",
    "        df[f\"{metric}_std\"] = df[metric]\n",
    "        df = df.rename(columns={metric: f\"{metric}_mean\"})\n",
    "\n",
    "    # aggregate (by mean or std)\n",
    "    agg = dict()\n",
    "    for col in retain_keys:\n",
    "        if col == \"illegal_prob\":\n",
    "            agg[col] = \"count\"\n",
    "        else:\n",
    "            agg[col] = \"first\"\n",
    "    for metric in metrics:\n",
    "        agg[f\"{metric}_mean\"] = \"mean\"\n",
    "        agg[f\"{metric}_std\"] = \"std\"\n",
    "    try:\n",
    "        agg_df = df.groupby(group_key).agg(agg).reset_index()\n",
    "        # rename aggregated cols with the prefix\n",
    "        agg_cols = (\n",
    "            [f\"{metric}_mean\" for metric in metrics]\n",
    "            + [f\"{metric}_std\" for metric in metrics]\n",
    "            + retain_keys\n",
    "        )\n",
    "        rename_dict = {col: f\"{new_col_prefix}_{col}\" for col in agg_cols}\n",
    "        rename_dict[\"illegal_prob\"] = f\"{new_col_prefix}_no_observations\"\n",
    "        agg_df = agg_df[agg_cols + [group_key]].rename(columns=rename_dict)\n",
    "    except Exception as e:\n",
    "        print(e)\n",
    "        raise ValueError(\n",
    "            \"Unable to groupby or rename col, most likely the specified group_key or retain_cols don't exist.\"\n",
    "        )\n",
    "    return agg_df\n",
    "\n",
    "\n",
    "def get_delay_from_name(string):\n",
    "    # 4_0.01__diff_true -> 4\n",
    "    delay = string.split(\"__\")[0].split(\"_\")[0]\n",
    "    if delay != \"b\":\n",
    "        return float(delay)\n",
    "    else:\n",
    "        return -1"
   ]
  },
  {
   "cell_type": "markdown",
   "metadata": {},
   "source": [
    "\n",
    "## Format violin plot"
   ]
  },
  {
   "cell_type": "code",
   "execution_count": 42,
   "metadata": {},
   "outputs": [],
   "source": [
    "import seaborn as sns\n",
    "\n",
    "# orange, blue, teal, purpple, yellow, pink\n",
    "BLUEPALETTE = [\"#F18447\", \"#3863AC\", \"#209B8A\", \"#550F6B\", \"#F8D625\", \"#BC3684\"]\n",
    "\n",
    "\n",
    "def patch_violinplot(ax, palette=BLUEPALETTE, n=1, alpha=1, multicolor=True):\n",
    "    \"\"\"\n",
    "    Recolor the outlines of violin patches using a palette\n",
    "    - palette (list of str): color palette for the patches\n",
    "    - n (int): number of colors to use from the palette\n",
    "    - multicolor (bool): whether to color the patches differently. If False, use the default color (orange)\n",
    "    - alpha (float): transparency\n",
    "    \"\"\"\n",
    "    from matplotlib.collections import PolyCollection\n",
    "\n",
    "    violins = [art for art in ax.get_children() if isinstance(art, PolyCollection)]\n",
    "    for i in range(len(violins)):\n",
    "        if multicolor is False:\n",
    "            violins[i].set_edgecolor(c=\"#F18447\")\n",
    "        else:\n",
    "            colors = sns.color_palette(palette, n_colors=n) * (len(violins) // n)\n",
    "            violins[i].set_edgecolor(colors[i])\n",
    "        violins[i].set_alpha(alpha)\n",
    "\n",
    "\n",
    "def point_violinplot(\n",
    "    ax,\n",
    "    palette=BLUEPALETTE,\n",
    "    n=1,\n",
    "    pointsize=200,\n",
    "    edgecolor=\"white\",\n",
    "    multicolor=True,\n",
    "    linewidth=1.5,\n",
    "):\n",
    "    \"\"\"\n",
    "    Recolor points in the plot based on the violin facecolor\n",
    "    - palette (list of str): color palette for the patches\n",
    "    - n (int): number of colors to use from the palette\n",
    "    - edgecolor (str): point outline color\n",
    "    - pointsize (int): point size\n",
    "    - multicolor (bool): whether to color the patches differently. If False, use the default color (orange)\n",
    "    - alpha (float): transparency\n",
    "    \"\"\"\n",
    "    from matplotlib.collections import PathCollection\n",
    "\n",
    "    violins = [art for art in ax.get_children() if isinstance(art, PathCollection)]\n",
    "    for i in range(len(violins)):\n",
    "        violins[i].set_sizes([pointsize])  # size\n",
    "        violins[i].set_edgecolor(edgecolor)  # outline\n",
    "        violins[i].set_linewidth(linewidth)\n",
    "        if multicolor is False:\n",
    "            violins[i].set_facecolor(c=\"#F18447\")\n",
    "        else:\n",
    "            colors = sns.color_palette(palette, n_colors=n) * (len(violins) // n)\n",
    "            violins[i].set_facecolor(colors[i])"
   ]
  },
  {
   "cell_type": "markdown",
   "metadata": {},
   "source": [
    "## Extract s_H from name"
   ]
  },
  {
   "cell_type": "code",
   "execution_count": 43,
   "metadata": {},
   "outputs": [
    {
     "name": "stdout",
     "output_type": "stream",
     "text": [
      "1.0\n",
      "10.0\n"
     ]
    }
   ],
   "source": [
    "import re\n",
    "\n",
    "\n",
    "def extract_float(input_str):\n",
    "    # Define the regular expression pattern to match the float\n",
    "    pattern = r\"[a-zA-Z0-9]_(\\d+(\\.\\d+)?)__diff_true\"\n",
    "\n",
    "    # Search for the pattern in the input string\n",
    "    match = re.search(pattern, input_str)\n",
    "\n",
    "    # If a match is found, extract the float part\n",
    "    if match:\n",
    "        return float(match.group(1))\n",
    "    else:\n",
    "        raise ValueError(\"The input string does not match the expected format\")\n",
    "\n",
    "\n",
    "# Example usage\n",
    "input_str1 = \"1_1__diff_true\"\n",
    "input_str2 = \"b_10__diff_true\"\n",
    "\n",
    "extracted_float1 = extract_float(input_str1)\n",
    "extracted_float2 = extract_float(input_str2)\n",
    "\n",
    "print(extracted_float1)  # Output: 0.002\n",
    "print(extracted_float2)  # Output: 0.002"
   ]
  },
  {
   "cell_type": "markdown",
   "metadata": {},
   "source": [
    "## Bonferroni correction"
   ]
  },
  {
   "cell_type": "code",
   "execution_count": 44,
   "metadata": {},
   "outputs": [],
   "source": [
    "def bonferroni_correction(p_value, n_comparisons):\n",
    "    \"\"\"\n",
    "    Perform Bonferroni correction on a given p-value for multiple comparisons.\n",
    "    Parameters:\n",
    "    -----------\n",
    "    - p_value (float): The original p-value.\n",
    "    - n_comparisons (int): The number of comparisons being made.\n",
    "    Returns:\n",
    "    -----------\n",
    "    - float: The Bonferroni corrected p-value.\n",
    "    \"\"\"\n",
    "    bonferroni_corrected_p_value = p_value * n_comparisons\n",
    "    # Ensure the corrected p-value is not greater than 1\n",
    "    bonferroni_corrected_p_value = min(1.0, bonferroni_corrected_p_value)\n",
    "    return bonferroni_corrected_p_value"
   ]
  },
  {
   "cell_type": "code",
   "execution_count": 45,
   "metadata": {},
   "outputs": [],
   "source": [
    "def get_corrected_p(plot_data, focal_col=\"s_H\", sig_level=0.05):\n",
    "    # Return a dataframe with corrected p-values for all pairs of probabilities in the plot data\n",
    "    from scipy.stats import mannwhitneyu\n",
    "\n",
    "    results = []\n",
    "    probs = sorted(plot_data[focal_col].dropna().unique())\n",
    "    pairs = [\n",
    "        (probs[i], probs[j])\n",
    "        for i in range(len(probs))\n",
    "        for j in range(i + 1, len(probs))\n",
    "    ]\n",
    "    for pair in pairs:\n",
    "        pop1 = plot_data[plot_data[focal_col] == pair[0]][\"pct_change\"]\n",
    "        pop2 = plot_data[plot_data[focal_col] == pair[1]][\"pct_change\"]\n",
    "        U, p = mannwhitneyu(pop1, pop2, method=\"exact\")\n",
    "        results.append({\"pair\": pair, \"U\": U, \"p\": p})\n",
    "    stats = pd.DataFrame(results)\n",
    "    stats[\"corrected_p\"] = stats[\"p\"].apply(\n",
    "        lambda x: bonferroni_correction(x, len(pairs))\n",
    "    )\n",
    "    print(\"p-values:\", stats)\n",
    "    significant_pairs = stats[stats.corrected_p < sig_level][\"pair\"].tolist()\n",
    "    print(f\"Significant pairs (p<{sig_level}): \", significant_pairs)\n",
    "    return stats, significant_pairs"
   ]
  },
  {
   "cell_type": "markdown",
   "metadata": {},
   "source": [
    "## Annotation "
   ]
  },
  {
   "cell_type": "code",
   "execution_count": 46,
   "metadata": {},
   "outputs": [],
   "source": [
    "# Define the annotation legend\n",
    "annotation_legend = {\n",
    "    (0.05, 1.00): \"ns\",\n",
    "    (0.01, 0.05): \"ns\",\n",
    "    (0.001, 0.01): \"*\",\n",
    "    (0.0001, 0.001): \"**\",\n",
    "    (0.0, 0.0001): \"***\",\n",
    "}\n",
    "\n",
    "\n",
    "# Function to get the annotation based on p-value\n",
    "def get_annotation(p_value):\n",
    "    for (lower, upper), annotation in annotation_legend.items():\n",
    "        if lower < p_value <= upper:\n",
    "            return annotation\n",
    "    return \"Invalid p-value\"\n",
    "\n",
    "\n",
    "# Function to add annotations\n",
    "def add_annotation(ax, x1, x2, y, text):\n",
    "    ax.plot([x1, x1, x2, x2], [y, y + 1, y + 1, y], lw=1.5, color=\"k\")\n",
    "    ax.text(\n",
    "        (x1 + x2) * 0.5, y + 1, text, ha=\"center\", va=\"bottom\", color=\"k\", fontsize=12\n",
    "    )"
   ]
  },
  {
   "cell_type": "markdown",
   "metadata": {},
   "source": [
    "# Read data\n",
    "## tau=1"
   ]
  },
  {
   "cell_type": "code",
   "execution_count": 47,
   "metadata": {},
   "outputs": [
    {
     "name": "stdout",
     "output_type": "stream",
     "text": [
      "Processing 0/40\n",
      "Processing 5/40\n",
      "Processing 10/40\n",
      "Processing 15/40\n",
      "Processing 20/40\n",
      "Processing 25/40\n",
      "Processing 30/40\n",
      "Processing 35/40\n"
     ]
    }
   ],
   "source": [
    "# Directory containing experiment results\n",
    "ABS_PATH = \"/N/u/baotruon/BigRed200/carisma/experiments/20241126_sH\"\n",
    "fpaths = glob.glob(f\"{ABS_PATH}/prevalence*/*.parquet\")\n",
    "dfs = []\n",
    "for idx, fpath in enumerate(fpaths):\n",
    "    if idx % 5 == 0:\n",
    "        print(f\"Processing {idx}/{len(fpaths)}\")\n",
    "    raw = pd.read_parquet(fpath, engine=\"pyarrow\")\n",
    "    dfs += [raw]\n",
    "tau1 = pd.concat(dfs, ignore_index=True)"
   ]
  },
  {
   "cell_type": "markdown",
   "metadata": {},
   "source": [
    "## tau=8"
   ]
  },
  {
   "cell_type": "code",
   "execution_count": 48,
   "metadata": {},
   "outputs": [
    {
     "name": "stdout",
     "output_type": "stream",
     "text": [
      "Processing 0/20\n",
      "Processing 5/20\n",
      "Processing 10/20\n",
      "Processing 15/20\n"
     ]
    }
   ],
   "source": [
    "# Directory containing experiment results\n",
    "ABS_PATH = \"/N/u/baotruon/BigRed200/carisma/experiments/20250112_sH\"\n",
    "fpaths = glob.glob(f\"{ABS_PATH}/prevalence*/*.parquet\")\n",
    "dfs = []\n",
    "for idx, fpath in enumerate(fpaths):\n",
    "    if idx % 5 == 0:\n",
    "        print(f\"Processing {idx}/{len(fpaths)}\")\n",
    "    raw = pd.read_parquet(fpath, engine=\"pyarrow\")\n",
    "    dfs += [raw]\n",
    "tau8 = pd.concat(dfs, ignore_index=True)"
   ]
  },
  {
   "cell_type": "code",
   "execution_count": 49,
   "metadata": {},
   "outputs": [],
   "source": [
    "combined = pd.concat([tau1, tau8], ignore_index=True)"
   ]
  },
  {
   "cell_type": "code",
   "execution_count": 50,
   "metadata": {},
   "outputs": [
    {
     "name": "stdout",
     "output_type": "stream",
     "text": [
      "s_H values: [ 0.1 10.   1. ]\n",
      "len combined data:  420\n",
      "len combined data (after removing nans):  420\n"
     ]
    }
   ],
   "source": [
    "combined[\"base_name\"] = combined[\"fpath\"].apply(lambda x: os.path.basename(x))\n",
    "combined[\"s_H\"] = combined[\"base_name\"].apply(extract_float)\n",
    "print(\"s_H values:\", combined[\"s_H\"].unique())\n",
    "print(\"len combined data: \", len(combined))\n",
    "data = combined[~combined[\"unique_illegal_frac\"].isna()]\n",
    "print(\"len combined data (after removing nans): \", len(data))"
   ]
  },
  {
   "cell_type": "code",
   "execution_count": 51,
   "metadata": {},
   "outputs": [
    {
     "data": {
      "text/html": [
       "<div>\n",
       "<style scoped>\n",
       "    .dataframe tbody tr th:only-of-type {\n",
       "        vertical-align: middle;\n",
       "    }\n",
       "\n",
       "    .dataframe tbody tr th {\n",
       "        vertical-align: top;\n",
       "    }\n",
       "\n",
       "    .dataframe thead th {\n",
       "        text-align: right;\n",
       "    }\n",
       "</style>\n",
       "<table border=\"1\" class=\"dataframe\">\n",
       "  <thead>\n",
       "    <tr style=\"text-align: right;\">\n",
       "      <th></th>\n",
       "      <th>illegal_frac</th>\n",
       "      <th>unique_illegal_frac</th>\n",
       "      <th>illegal_count</th>\n",
       "      <th>unique_illegal_count</th>\n",
       "      <th>s_H</th>\n",
       "      <th>half_life</th>\n",
       "    </tr>\n",
       "  </thead>\n",
       "  <tbody>\n",
       "    <tr>\n",
       "      <th>0</th>\n",
       "      <td>0.004503</td>\n",
       "      <td>0.002620</td>\n",
       "      <td>669</td>\n",
       "      <td>14</td>\n",
       "      <td>0.1</td>\n",
       "      <td>2.0</td>\n",
       "    </tr>\n",
       "    <tr>\n",
       "      <th>1</th>\n",
       "      <td>0.009259</td>\n",
       "      <td>0.011238</td>\n",
       "      <td>1388</td>\n",
       "      <td>59</td>\n",
       "      <td>0.1</td>\n",
       "      <td>-1.0</td>\n",
       "    </tr>\n",
       "    <tr>\n",
       "      <th>2</th>\n",
       "      <td>0.005624</td>\n",
       "      <td>0.004229</td>\n",
       "      <td>843</td>\n",
       "      <td>23</td>\n",
       "      <td>10.0</td>\n",
       "      <td>2.0</td>\n",
       "    </tr>\n",
       "    <tr>\n",
       "      <th>3</th>\n",
       "      <td>0.004910</td>\n",
       "      <td>0.005426</td>\n",
       "      <td>735</td>\n",
       "      <td>28</td>\n",
       "      <td>1.0</td>\n",
       "      <td>2.0</td>\n",
       "    </tr>\n",
       "    <tr>\n",
       "      <th>4</th>\n",
       "      <td>0.008692</td>\n",
       "      <td>0.010021</td>\n",
       "      <td>1303</td>\n",
       "      <td>56</td>\n",
       "      <td>1.0</td>\n",
       "      <td>-1.0</td>\n",
       "    </tr>\n",
       "  </tbody>\n",
       "</table>\n",
       "</div>"
      ],
      "text/plain": [
       "   illegal_frac  unique_illegal_frac  illegal_count  unique_illegal_count  \\\n",
       "0      0.004503             0.002620            669                    14   \n",
       "1      0.009259             0.011238           1388                    59   \n",
       "2      0.005624             0.004229            843                    23   \n",
       "3      0.004910             0.005426            735                    28   \n",
       "4      0.008692             0.010021           1303                    56   \n",
       "\n",
       "    s_H  half_life  \n",
       "0   0.1        2.0  \n",
       "1   0.1       -1.0  \n",
       "2  10.0        2.0  \n",
       "3   1.0        2.0  \n",
       "4   1.0       -1.0  "
      ]
     },
     "execution_count": 51,
     "metadata": {},
     "output_type": "execute_result"
    }
   ],
   "source": [
    "data[\"half_life\"] = data.apply(\n",
    "    lambda row: -1 if \"b_\" in row[\"base_name\"] else row[\"moderation_half_life\"], axis=1\n",
    ")\n",
    "retain_cols = [\n",
    "    \"illegal_frac\",\n",
    "    \"unique_illegal_frac\",\n",
    "    \"illegal_count\",\n",
    "    \"unique_illegal_count\",\n",
    "    \"s_H\",\n",
    "    \"half_life\",\n",
    "]\n",
    "data = data[retain_cols]\n",
    "data.head()"
   ]
  },
  {
   "cell_type": "code",
   "execution_count": 52,
   "metadata": {},
   "outputs": [
    {
     "data": {
      "text/plain": [
       "array([ 2., -1.,  8.])"
      ]
     },
     "execution_count": 52,
     "metadata": {},
     "output_type": "execute_result"
    }
   ],
   "source": [
    "data.half_life.unique()"
   ]
  },
  {
   "cell_type": "markdown",
   "metadata": {},
   "source": [
    "# Count number of observations for each param"
   ]
  },
  {
   "cell_type": "markdown",
   "metadata": {},
   "source": [
    "## Baseline"
   ]
  },
  {
   "cell_type": "code",
   "execution_count": 53,
   "metadata": {},
   "outputs": [
    {
     "data": {
      "text/plain": [
       "s_H\n",
       "0.1     60\n",
       "1.0     60\n",
       "10.0    60\n",
       "dtype: int64"
      ]
     },
     "execution_count": 53,
     "metadata": {},
     "output_type": "execute_result"
    }
   ],
   "source": [
    "# Count the number of rows for each combination of 'half_life' and 'illegal_content_probability'\n",
    "data[data.half_life == -1].groupby(\"s_H\").size()"
   ]
  },
  {
   "cell_type": "markdown",
   "metadata": {},
   "source": [
    "## Non-baseline"
   ]
  },
  {
   "cell_type": "code",
   "execution_count": 54,
   "metadata": {},
   "outputs": [
    {
     "data": {
      "text/html": [
       "<div>\n",
       "<style scoped>\n",
       "    .dataframe tbody tr th:only-of-type {\n",
       "        vertical-align: middle;\n",
       "    }\n",
       "\n",
       "    .dataframe tbody tr th {\n",
       "        vertical-align: top;\n",
       "    }\n",
       "\n",
       "    .dataframe thead th {\n",
       "        text-align: right;\n",
       "    }\n",
       "</style>\n",
       "<table border=\"1\" class=\"dataframe\">\n",
       "  <thead>\n",
       "    <tr style=\"text-align: right;\">\n",
       "      <th></th>\n",
       "      <th>s_H</th>\n",
       "      <th>half_life</th>\n",
       "      <th>count</th>\n",
       "    </tr>\n",
       "  </thead>\n",
       "  <tbody>\n",
       "    <tr>\n",
       "      <th>0</th>\n",
       "      <td>0.1</td>\n",
       "      <td>2.0</td>\n",
       "      <td>60</td>\n",
       "    </tr>\n",
       "    <tr>\n",
       "      <th>1</th>\n",
       "      <td>0.1</td>\n",
       "      <td>8.0</td>\n",
       "      <td>20</td>\n",
       "    </tr>\n",
       "    <tr>\n",
       "      <th>2</th>\n",
       "      <td>1.0</td>\n",
       "      <td>2.0</td>\n",
       "      <td>60</td>\n",
       "    </tr>\n",
       "    <tr>\n",
       "      <th>3</th>\n",
       "      <td>1.0</td>\n",
       "      <td>8.0</td>\n",
       "      <td>20</td>\n",
       "    </tr>\n",
       "    <tr>\n",
       "      <th>4</th>\n",
       "      <td>10.0</td>\n",
       "      <td>2.0</td>\n",
       "      <td>60</td>\n",
       "    </tr>\n",
       "    <tr>\n",
       "      <th>5</th>\n",
       "      <td>10.0</td>\n",
       "      <td>8.0</td>\n",
       "      <td>20</td>\n",
       "    </tr>\n",
       "  </tbody>\n",
       "</table>\n",
       "</div>"
      ],
      "text/plain": [
       "    s_H  half_life  count\n",
       "0   0.1        2.0     60\n",
       "1   0.1        8.0     20\n",
       "2   1.0        2.0     60\n",
       "3   1.0        8.0     20\n",
       "4  10.0        2.0     60\n",
       "5  10.0        8.0     20"
      ]
     },
     "execution_count": 54,
     "metadata": {},
     "output_type": "execute_result"
    }
   ],
   "source": [
    "# Count the number of rows for each combination of 'moderation_half_life' and 'illegal_content_probability'\n",
    "row_counts = (\n",
    "    data[data.half_life != -1]\n",
    "    .groupby([\"s_H\", \"half_life\"])\n",
    "    .size()\n",
    "    .reset_index(name=\"count\")\n",
    ")\n",
    "\n",
    "# Display the result\n",
    "row_counts.sort_values(by=[\"s_H\"])"
   ]
  },
  {
   "cell_type": "markdown",
   "metadata": {},
   "source": [
    "## Min number of simulations: 20"
   ]
  },
  {
   "cell_type": "code",
   "execution_count": 55,
   "metadata": {},
   "outputs": [
    {
     "data": {
      "text/plain": [
       "20"
      ]
     },
     "execution_count": 55,
     "metadata": {},
     "output_type": "execute_result"
    }
   ],
   "source": [
    "min(row_counts[row_counts[\"half_life\"] == 8][\"count\"])"
   ]
  },
  {
   "cell_type": "markdown",
   "metadata": {},
   "source": [
    "# Pct change: metric-baseline_median / (baseline_median)"
   ]
  },
  {
   "cell_type": "code",
   "execution_count": 56,
   "metadata": {},
   "outputs": [
    {
     "name": "stderr",
     "output_type": "stream",
     "text": [
      "/tmp/ipykernel_95210/334309585.py:23: SettingWithCopyWarning: \n",
      "A value is trying to be set on a copy of a slice from a DataFrame.\n",
      "Try using .loc[row_indexer,col_indexer] = value instead\n",
      "\n",
      "See the caveats in the documentation: https://pandas.pydata.org/pandas-docs/stable/user_guide/indexing.html#returning-a-view-versus-a-copy\n",
      "  df[f\"{metric}_std\"] = df[metric]\n"
     ]
    }
   ],
   "source": [
    "# dummy column to count the number of observations\n",
    "data[\"illegal_prob\"] = 1\n",
    "baseline = data[data.half_life == -1]\n",
    "\n",
    "baseline = get_agg_metric(\n",
    "    baseline,\n",
    "    group_key=\"s_H\",\n",
    "    new_col_prefix=\"baseline\",\n",
    "    metrics=[\n",
    "        \"illegal_frac\",\n",
    "        \"unique_illegal_frac\",\n",
    "    ],\n",
    "    retain_keys=[\"illegal_prob\", \"half_life\"],\n",
    ")"
   ]
  },
  {
   "cell_type": "code",
   "execution_count": 57,
   "metadata": {},
   "outputs": [
    {
     "data": {
      "text/html": [
       "<div>\n",
       "<style scoped>\n",
       "    .dataframe tbody tr th:only-of-type {\n",
       "        vertical-align: middle;\n",
       "    }\n",
       "\n",
       "    .dataframe tbody tr th {\n",
       "        vertical-align: top;\n",
       "    }\n",
       "\n",
       "    .dataframe thead th {\n",
       "        text-align: right;\n",
       "    }\n",
       "</style>\n",
       "<table border=\"1\" class=\"dataframe\">\n",
       "  <thead>\n",
       "    <tr style=\"text-align: right;\">\n",
       "      <th></th>\n",
       "      <th>baseline_illegal_frac_mean</th>\n",
       "      <th>baseline_unique_illegal_frac_mean</th>\n",
       "      <th>baseline_illegal_frac_std</th>\n",
       "      <th>baseline_unique_illegal_frac_std</th>\n",
       "      <th>baseline_no_observations</th>\n",
       "      <th>baseline_half_life</th>\n",
       "      <th>s_H</th>\n",
       "    </tr>\n",
       "  </thead>\n",
       "  <tbody>\n",
       "    <tr>\n",
       "      <th>0</th>\n",
       "      <td>0.009197</td>\n",
       "      <td>0.010037</td>\n",
       "      <td>0.001581</td>\n",
       "      <td>0.001445</td>\n",
       "      <td>60</td>\n",
       "      <td>-1.0</td>\n",
       "      <td>0.1</td>\n",
       "    </tr>\n",
       "    <tr>\n",
       "      <th>1</th>\n",
       "      <td>0.009766</td>\n",
       "      <td>0.010157</td>\n",
       "      <td>0.002843</td>\n",
       "      <td>0.001226</td>\n",
       "      <td>60</td>\n",
       "      <td>-1.0</td>\n",
       "      <td>1.0</td>\n",
       "    </tr>\n",
       "    <tr>\n",
       "      <th>2</th>\n",
       "      <td>0.011255</td>\n",
       "      <td>0.010233</td>\n",
       "      <td>0.008117</td>\n",
       "      <td>0.001704</td>\n",
       "      <td>60</td>\n",
       "      <td>-1.0</td>\n",
       "      <td>10.0</td>\n",
       "    </tr>\n",
       "  </tbody>\n",
       "</table>\n",
       "</div>"
      ],
      "text/plain": [
       "   baseline_illegal_frac_mean  baseline_unique_illegal_frac_mean  \\\n",
       "0                    0.009197                           0.010037   \n",
       "1                    0.009766                           0.010157   \n",
       "2                    0.011255                           0.010233   \n",
       "\n",
       "   baseline_illegal_frac_std  baseline_unique_illegal_frac_std  \\\n",
       "0                   0.001581                          0.001445   \n",
       "1                   0.002843                          0.001226   \n",
       "2                   0.008117                          0.001704   \n",
       "\n",
       "   baseline_no_observations  baseline_half_life   s_H  \n",
       "0                        60                -1.0   0.1  \n",
       "1                        60                -1.0   1.0  \n",
       "2                        60                -1.0  10.0  "
      ]
     },
     "execution_count": 57,
     "metadata": {},
     "output_type": "execute_result"
    }
   ],
   "source": [
    "baseline"
   ]
  },
  {
   "cell_type": "markdown",
   "metadata": {},
   "source": [
    "## Get pct change"
   ]
  },
  {
   "cell_type": "code",
   "execution_count": 58,
   "metadata": {},
   "outputs": [],
   "source": [
    "results = data[data.half_life != -1]\n",
    "results = results.merge(baseline, on=\"s_H\", how=\"left\")"
   ]
  },
  {
   "cell_type": "code",
   "execution_count": 59,
   "metadata": {},
   "outputs": [
    {
     "data": {
      "text/html": [
       "<div>\n",
       "<style scoped>\n",
       "    .dataframe tbody tr th:only-of-type {\n",
       "        vertical-align: middle;\n",
       "    }\n",
       "\n",
       "    .dataframe tbody tr th {\n",
       "        vertical-align: top;\n",
       "    }\n",
       "\n",
       "    .dataframe thead th {\n",
       "        text-align: right;\n",
       "    }\n",
       "</style>\n",
       "<table border=\"1\" class=\"dataframe\">\n",
       "  <thead>\n",
       "    <tr style=\"text-align: right;\">\n",
       "      <th></th>\n",
       "      <th>illegal_frac</th>\n",
       "      <th>unique_illegal_frac</th>\n",
       "      <th>illegal_count</th>\n",
       "      <th>unique_illegal_count</th>\n",
       "      <th>s_H</th>\n",
       "      <th>half_life</th>\n",
       "      <th>illegal_prob</th>\n",
       "      <th>baseline_illegal_frac_mean</th>\n",
       "      <th>baseline_unique_illegal_frac_mean</th>\n",
       "      <th>baseline_illegal_frac_std</th>\n",
       "      <th>baseline_unique_illegal_frac_std</th>\n",
       "      <th>baseline_no_observations</th>\n",
       "      <th>baseline_half_life</th>\n",
       "    </tr>\n",
       "  </thead>\n",
       "  <tbody>\n",
       "    <tr>\n",
       "      <th>0</th>\n",
       "      <td>0.004503</td>\n",
       "      <td>0.002620</td>\n",
       "      <td>669</td>\n",
       "      <td>14</td>\n",
       "      <td>0.1</td>\n",
       "      <td>2.0</td>\n",
       "      <td>1</td>\n",
       "      <td>0.009197</td>\n",
       "      <td>0.010037</td>\n",
       "      <td>0.001581</td>\n",
       "      <td>0.001445</td>\n",
       "      <td>60</td>\n",
       "      <td>-1.0</td>\n",
       "    </tr>\n",
       "    <tr>\n",
       "      <th>1</th>\n",
       "      <td>0.005624</td>\n",
       "      <td>0.004229</td>\n",
       "      <td>843</td>\n",
       "      <td>23</td>\n",
       "      <td>10.0</td>\n",
       "      <td>2.0</td>\n",
       "      <td>1</td>\n",
       "      <td>0.011255</td>\n",
       "      <td>0.010233</td>\n",
       "      <td>0.008117</td>\n",
       "      <td>0.001704</td>\n",
       "      <td>60</td>\n",
       "      <td>-1.0</td>\n",
       "    </tr>\n",
       "    <tr>\n",
       "      <th>2</th>\n",
       "      <td>0.004910</td>\n",
       "      <td>0.005426</td>\n",
       "      <td>735</td>\n",
       "      <td>28</td>\n",
       "      <td>1.0</td>\n",
       "      <td>2.0</td>\n",
       "      <td>1</td>\n",
       "      <td>0.009766</td>\n",
       "      <td>0.010157</td>\n",
       "      <td>0.002843</td>\n",
       "      <td>0.001226</td>\n",
       "      <td>60</td>\n",
       "      <td>-1.0</td>\n",
       "    </tr>\n",
       "    <tr>\n",
       "      <th>3</th>\n",
       "      <td>0.005235</td>\n",
       "      <td>0.004538</td>\n",
       "      <td>784</td>\n",
       "      <td>24</td>\n",
       "      <td>0.1</td>\n",
       "      <td>2.0</td>\n",
       "      <td>1</td>\n",
       "      <td>0.009197</td>\n",
       "      <td>0.010037</td>\n",
       "      <td>0.001581</td>\n",
       "      <td>0.001445</td>\n",
       "      <td>60</td>\n",
       "      <td>-1.0</td>\n",
       "    </tr>\n",
       "    <tr>\n",
       "      <th>4</th>\n",
       "      <td>0.005812</td>\n",
       "      <td>0.004167</td>\n",
       "      <td>869</td>\n",
       "      <td>23</td>\n",
       "      <td>10.0</td>\n",
       "      <td>2.0</td>\n",
       "      <td>1</td>\n",
       "      <td>0.011255</td>\n",
       "      <td>0.010233</td>\n",
       "      <td>0.008117</td>\n",
       "      <td>0.001704</td>\n",
       "      <td>60</td>\n",
       "      <td>-1.0</td>\n",
       "    </tr>\n",
       "  </tbody>\n",
       "</table>\n",
       "</div>"
      ],
      "text/plain": [
       "   illegal_frac  unique_illegal_frac  illegal_count  unique_illegal_count  \\\n",
       "0      0.004503             0.002620            669                    14   \n",
       "1      0.005624             0.004229            843                    23   \n",
       "2      0.004910             0.005426            735                    28   \n",
       "3      0.005235             0.004538            784                    24   \n",
       "4      0.005812             0.004167            869                    23   \n",
       "\n",
       "    s_H  half_life  illegal_prob  baseline_illegal_frac_mean  \\\n",
       "0   0.1        2.0             1                    0.009197   \n",
       "1  10.0        2.0             1                    0.011255   \n",
       "2   1.0        2.0             1                    0.009766   \n",
       "3   0.1        2.0             1                    0.009197   \n",
       "4  10.0        2.0             1                    0.011255   \n",
       "\n",
       "   baseline_unique_illegal_frac_mean  baseline_illegal_frac_std  \\\n",
       "0                           0.010037                   0.001581   \n",
       "1                           0.010233                   0.008117   \n",
       "2                           0.010157                   0.002843   \n",
       "3                           0.010037                   0.001581   \n",
       "4                           0.010233                   0.008117   \n",
       "\n",
       "   baseline_unique_illegal_frac_std  baseline_no_observations  \\\n",
       "0                          0.001445                        60   \n",
       "1                          0.001704                        60   \n",
       "2                          0.001226                        60   \n",
       "3                          0.001445                        60   \n",
       "4                          0.001704                        60   \n",
       "\n",
       "   baseline_half_life  \n",
       "0                -1.0  \n",
       "1                -1.0  \n",
       "2                -1.0  \n",
       "3                -1.0  \n",
       "4                -1.0  "
      ]
     },
     "execution_count": 59,
     "metadata": {},
     "output_type": "execute_result"
    }
   ],
   "source": [
    "results.head()"
   ]
  },
  {
   "cell_type": "code",
   "execution_count": 60,
   "metadata": {},
   "outputs": [],
   "source": [
    "results = results[~results.unique_illegal_frac.isna()]"
   ]
  },
  {
   "cell_type": "code",
   "execution_count": 61,
   "metadata": {},
   "outputs": [],
   "source": [
    "metric = \"unique_illegal_frac\"\n",
    "results[\"pct_change\"] = (\n",
    "    (results[f\"baseline_{metric}_mean\"] - results[metric])\n",
    "    / results[f\"baseline_{metric}_mean\"]\n",
    "    * 100\n",
    ")"
   ]
  },
  {
   "cell_type": "code",
   "execution_count": 62,
   "metadata": {},
   "outputs": [
    {
     "data": {
      "text/html": [
       "<div>\n",
       "<style scoped>\n",
       "    .dataframe tbody tr th:only-of-type {\n",
       "        vertical-align: middle;\n",
       "    }\n",
       "\n",
       "    .dataframe tbody tr th {\n",
       "        vertical-align: top;\n",
       "    }\n",
       "\n",
       "    .dataframe thead th {\n",
       "        text-align: right;\n",
       "    }\n",
       "</style>\n",
       "<table border=\"1\" class=\"dataframe\">\n",
       "  <thead>\n",
       "    <tr style=\"text-align: right;\">\n",
       "      <th></th>\n",
       "      <th>illegal_frac</th>\n",
       "      <th>unique_illegal_frac</th>\n",
       "      <th>illegal_count</th>\n",
       "      <th>unique_illegal_count</th>\n",
       "      <th>s_H</th>\n",
       "      <th>half_life</th>\n",
       "      <th>illegal_prob</th>\n",
       "      <th>baseline_illegal_frac_mean</th>\n",
       "      <th>baseline_unique_illegal_frac_mean</th>\n",
       "      <th>baseline_illegal_frac_std</th>\n",
       "      <th>baseline_unique_illegal_frac_std</th>\n",
       "      <th>baseline_no_observations</th>\n",
       "      <th>baseline_half_life</th>\n",
       "      <th>pct_change</th>\n",
       "    </tr>\n",
       "  </thead>\n",
       "  <tbody>\n",
       "    <tr>\n",
       "      <th>0</th>\n",
       "      <td>0.004503</td>\n",
       "      <td>0.002620</td>\n",
       "      <td>669</td>\n",
       "      <td>14</td>\n",
       "      <td>0.1</td>\n",
       "      <td>2.0</td>\n",
       "      <td>1</td>\n",
       "      <td>0.009197</td>\n",
       "      <td>0.010037</td>\n",
       "      <td>0.001581</td>\n",
       "      <td>0.001445</td>\n",
       "      <td>60</td>\n",
       "      <td>-1.0</td>\n",
       "      <td>73.894279</td>\n",
       "    </tr>\n",
       "    <tr>\n",
       "      <th>1</th>\n",
       "      <td>0.005624</td>\n",
       "      <td>0.004229</td>\n",
       "      <td>843</td>\n",
       "      <td>23</td>\n",
       "      <td>10.0</td>\n",
       "      <td>2.0</td>\n",
       "      <td>1</td>\n",
       "      <td>0.011255</td>\n",
       "      <td>0.010233</td>\n",
       "      <td>0.008117</td>\n",
       "      <td>0.001704</td>\n",
       "      <td>60</td>\n",
       "      <td>-1.0</td>\n",
       "      <td>58.676141</td>\n",
       "    </tr>\n",
       "    <tr>\n",
       "      <th>2</th>\n",
       "      <td>0.004910</td>\n",
       "      <td>0.005426</td>\n",
       "      <td>735</td>\n",
       "      <td>28</td>\n",
       "      <td>1.0</td>\n",
       "      <td>2.0</td>\n",
       "      <td>1</td>\n",
       "      <td>0.009766</td>\n",
       "      <td>0.010157</td>\n",
       "      <td>0.002843</td>\n",
       "      <td>0.001226</td>\n",
       "      <td>60</td>\n",
       "      <td>-1.0</td>\n",
       "      <td>46.573297</td>\n",
       "    </tr>\n",
       "    <tr>\n",
       "      <th>3</th>\n",
       "      <td>0.005235</td>\n",
       "      <td>0.004538</td>\n",
       "      <td>784</td>\n",
       "      <td>24</td>\n",
       "      <td>0.1</td>\n",
       "      <td>2.0</td>\n",
       "      <td>1</td>\n",
       "      <td>0.009197</td>\n",
       "      <td>0.010037</td>\n",
       "      <td>0.001581</td>\n",
       "      <td>0.001445</td>\n",
       "      <td>60</td>\n",
       "      <td>-1.0</td>\n",
       "      <td>54.790416</td>\n",
       "    </tr>\n",
       "    <tr>\n",
       "      <th>4</th>\n",
       "      <td>0.005812</td>\n",
       "      <td>0.004167</td>\n",
       "      <td>869</td>\n",
       "      <td>23</td>\n",
       "      <td>10.0</td>\n",
       "      <td>2.0</td>\n",
       "      <td>1</td>\n",
       "      <td>0.011255</td>\n",
       "      <td>0.010233</td>\n",
       "      <td>0.008117</td>\n",
       "      <td>0.001704</td>\n",
       "      <td>60</td>\n",
       "      <td>-1.0</td>\n",
       "      <td>59.275146</td>\n",
       "    </tr>\n",
       "  </tbody>\n",
       "</table>\n",
       "</div>"
      ],
      "text/plain": [
       "   illegal_frac  unique_illegal_frac  illegal_count  unique_illegal_count  \\\n",
       "0      0.004503             0.002620            669                    14   \n",
       "1      0.005624             0.004229            843                    23   \n",
       "2      0.004910             0.005426            735                    28   \n",
       "3      0.005235             0.004538            784                    24   \n",
       "4      0.005812             0.004167            869                    23   \n",
       "\n",
       "    s_H  half_life  illegal_prob  baseline_illegal_frac_mean  \\\n",
       "0   0.1        2.0             1                    0.009197   \n",
       "1  10.0        2.0             1                    0.011255   \n",
       "2   1.0        2.0             1                    0.009766   \n",
       "3   0.1        2.0             1                    0.009197   \n",
       "4  10.0        2.0             1                    0.011255   \n",
       "\n",
       "   baseline_unique_illegal_frac_mean  baseline_illegal_frac_std  \\\n",
       "0                           0.010037                   0.001581   \n",
       "1                           0.010233                   0.008117   \n",
       "2                           0.010157                   0.002843   \n",
       "3                           0.010037                   0.001581   \n",
       "4                           0.010233                   0.008117   \n",
       "\n",
       "   baseline_unique_illegal_frac_std  baseline_no_observations  \\\n",
       "0                          0.001445                        60   \n",
       "1                          0.001704                        60   \n",
       "2                          0.001226                        60   \n",
       "3                          0.001445                        60   \n",
       "4                          0.001704                        60   \n",
       "\n",
       "   baseline_half_life  pct_change  \n",
       "0                -1.0   73.894279  \n",
       "1                -1.0   58.676141  \n",
       "2                -1.0   46.573297  \n",
       "3                -1.0   54.790416  \n",
       "4                -1.0   59.275146  "
      ]
     },
     "execution_count": 62,
     "metadata": {},
     "output_type": "execute_result"
    }
   ],
   "source": [
    "results.head()"
   ]
  },
  {
   "cell_type": "markdown",
   "metadata": {},
   "source": [
    "# Statistical significance: pct change "
   ]
  },
  {
   "cell_type": "code",
   "execution_count": 63,
   "metadata": {},
   "outputs": [],
   "source": [
    "# !pip install statsmodels\n",
    "from statannotations.stats.ComparisonsCorrection import ComparisonsCorrection"
   ]
  },
  {
   "cell_type": "code",
   "execution_count": 64,
   "metadata": {},
   "outputs": [
    {
     "data": {
      "text/plain": [
       "[(0.1, 1.0), (0.1, 10.0), (1.0, 10.0)]"
      ]
     },
     "execution_count": 64,
     "metadata": {},
     "output_type": "execute_result"
    }
   ],
   "source": [
    "from scipy.stats import mannwhitneyu\n",
    "\n",
    "probs = sorted(results.s_H.dropna().unique())\n",
    "pairs = [\n",
    "    (probs[i], probs[j]) for i in range(len(probs)) for j in range(i + 1, len(probs))\n",
    "]\n",
    "pairs"
   ]
  },
  {
   "cell_type": "markdown",
   "metadata": {},
   "source": [
    "## Filter tau=2 (sample a subset of data)"
   ]
  },
  {
   "cell_type": "code",
   "execution_count": 65,
   "metadata": {},
   "outputs": [],
   "source": [
    "focal_col = \"s_H\"  # column being tested in the significance test\n",
    "sample_tau2 = []\n",
    "for p in probs:\n",
    "    sample = results[(results.half_life == 2) & (results[focal_col] == p)].sample(\n",
    "        20, random_state=15\n",
    "    )\n",
    "    sample_tau2.append(sample)\n",
    "\n",
    "focal = pd.concat(sample_tau2)\n",
    "stat_res = []\n",
    "for pair in pairs:\n",
    "    pop1 = focal[focal[focal_col] == pair[0]][\"pct_change\"]\n",
    "    pop2 = focal[focal[focal_col] == pair[1]][\"pct_change\"]\n",
    "    U, p = mannwhitneyu(pop1, pop2, method=\"exact\")\n",
    "    stat_res.append({\"pair\": pair, \"U\": U, \"p\": p})\n",
    "df = pd.DataFrame(stat_res)"
   ]
  },
  {
   "cell_type": "code",
   "execution_count": 66,
   "metadata": {},
   "outputs": [
    {
     "data": {
      "text/html": [
       "<div>\n",
       "<style scoped>\n",
       "    .dataframe tbody tr th:only-of-type {\n",
       "        vertical-align: middle;\n",
       "    }\n",
       "\n",
       "    .dataframe tbody tr th {\n",
       "        vertical-align: top;\n",
       "    }\n",
       "\n",
       "    .dataframe thead th {\n",
       "        text-align: right;\n",
       "    }\n",
       "</style>\n",
       "<table border=\"1\" class=\"dataframe\">\n",
       "  <thead>\n",
       "    <tr style=\"text-align: right;\">\n",
       "      <th></th>\n",
       "      <th>pair</th>\n",
       "      <th>U</th>\n",
       "      <th>p</th>\n",
       "    </tr>\n",
       "  </thead>\n",
       "  <tbody>\n",
       "    <tr>\n",
       "      <th>0</th>\n",
       "      <td>(0.1, 1.0)</td>\n",
       "      <td>216.0</td>\n",
       "      <td>0.678306</td>\n",
       "    </tr>\n",
       "    <tr>\n",
       "      <th>1</th>\n",
       "      <td>(0.1, 10.0)</td>\n",
       "      <td>173.0</td>\n",
       "      <td>0.477691</td>\n",
       "    </tr>\n",
       "    <tr>\n",
       "      <th>2</th>\n",
       "      <td>(1.0, 10.0)</td>\n",
       "      <td>156.0</td>\n",
       "      <td>0.242270</td>\n",
       "    </tr>\n",
       "  </tbody>\n",
       "</table>\n",
       "</div>"
      ],
      "text/plain": [
       "          pair      U         p\n",
       "0   (0.1, 1.0)  216.0  0.678306\n",
       "1  (0.1, 10.0)  173.0  0.477691\n",
       "2  (1.0, 10.0)  156.0  0.242270"
      ]
     },
     "execution_count": 66,
     "metadata": {},
     "output_type": "execute_result"
    }
   ],
   "source": [
    "df"
   ]
  },
  {
   "cell_type": "code",
   "execution_count": 67,
   "metadata": {},
   "outputs": [
    {
     "data": {
      "text/html": [
       "<div>\n",
       "<style scoped>\n",
       "    .dataframe tbody tr th:only-of-type {\n",
       "        vertical-align: middle;\n",
       "    }\n",
       "\n",
       "    .dataframe tbody tr th {\n",
       "        vertical-align: top;\n",
       "    }\n",
       "\n",
       "    .dataframe thead th {\n",
       "        text-align: right;\n",
       "    }\n",
       "</style>\n",
       "<table border=\"1\" class=\"dataframe\">\n",
       "  <thead>\n",
       "    <tr style=\"text-align: right;\">\n",
       "      <th></th>\n",
       "      <th>pair</th>\n",
       "      <th>U</th>\n",
       "      <th>p</th>\n",
       "      <th>corrected_p</th>\n",
       "    </tr>\n",
       "  </thead>\n",
       "  <tbody>\n",
       "    <tr>\n",
       "      <th>0</th>\n",
       "      <td>(0.1, 1.0)</td>\n",
       "      <td>216.0</td>\n",
       "      <td>0.678306</td>\n",
       "      <td>1.000000</td>\n",
       "    </tr>\n",
       "    <tr>\n",
       "      <th>1</th>\n",
       "      <td>(0.1, 10.0)</td>\n",
       "      <td>173.0</td>\n",
       "      <td>0.477691</td>\n",
       "      <td>1.000000</td>\n",
       "    </tr>\n",
       "    <tr>\n",
       "      <th>2</th>\n",
       "      <td>(1.0, 10.0)</td>\n",
       "      <td>156.0</td>\n",
       "      <td>0.242270</td>\n",
       "      <td>0.726809</td>\n",
       "    </tr>\n",
       "  </tbody>\n",
       "</table>\n",
       "</div>"
      ],
      "text/plain": [
       "          pair      U         p  corrected_p\n",
       "0   (0.1, 1.0)  216.0  0.678306     1.000000\n",
       "1  (0.1, 10.0)  173.0  0.477691     1.000000\n",
       "2  (1.0, 10.0)  156.0  0.242270     0.726809"
      ]
     },
     "execution_count": 67,
     "metadata": {},
     "output_type": "execute_result"
    }
   ],
   "source": [
    "df[\"corrected_p\"] = df[\"p\"].apply(lambda x: bonferroni_correction(x, len(pairs)))\n",
    "df"
   ]
  },
  {
   "cell_type": "markdown",
   "metadata": {},
   "source": [
    "# Plot pctchange \n",
    "\n",
    "pctchange = treatment - avg_control/avg_control\n"
   ]
  },
  {
   "cell_type": "code",
   "execution_count": 68,
   "metadata": {},
   "outputs": [
    {
     "data": {
      "image/png": "[encoded data removed]",
      "text/plain": [
       "<Figure size 600x600 with 1 Axes>"
      ]
     },
     "metadata": {},
     "output_type": "display_data"
    }
   ],
   "source": [
    "from statannotations.Annotator import Annotator\n",
    "import matplotlib.pyplot as plt\n",
    "import seaborn as sns\n",
    "import os\n",
    "import numpy as np\n",
    "from matplotlib.ticker import FuncFormatter\n",
    "\n",
    "PLOT_DIR = \"plots_new\"\n",
    "if not os.path.exists(PLOT_DIR):\n",
    "    os.makedirs(PLOT_DIR)\n",
    "\n",
    "plt.style.use(\"stylesheet.mplstyle\")\n",
    "fpath = os.path.join(PLOT_DIR, f\"pct_change_s_H_tau2\")\n",
    "\n",
    "plot_data = focal\n",
    "fig, ax = plt.subplots(figsize=(6, 6))\n",
    "\n",
    "# Get unique probabilities and sort them\n",
    "probs = sorted(focal.s_H.unique())\n",
    "\n",
    "# Create the violin plot\n",
    "violin = sns.violinplot(\n",
    "    data=plot_data,\n",
    "    x=\"s_H\",\n",
    "    y=\"pct_change\",\n",
    "    order=probs,\n",
    "    inner=\"point\",\n",
    "    palette=BLUEPALETTE,\n",
    ")\n",
    "\n",
    "violin.set_ylabel(\"Illegal content reduction (%)\")\n",
    "violin.set_xlabel(\"High-risk group relative size (%)\")\n",
    "patch_violinplot(ax, palette=BLUEPALETTE, n=len(probs))\n",
    "point_violinplot(ax, palette=BLUEPALETTE, n=len(probs), pointsize=100, linewidth=0.7)\n",
    "ax.tick_params(labelleft=True, labelright=False, left=True, right=True)\n",
    "sns.despine(top=True, left=True, bottom=False)\n",
    "\n",
    "# ax.set_ylim(0, 100)\n",
    "# Saving\n",
    "plt.tight_layout()\n",
    "\n",
    "fig = violin.get_figure()\n",
    "if fpath is not None:\n",
    "    fig.savefig(f\"{fpath}.pdf\", dpi=300)\n",
    "    fig.savefig(f\"{fpath}.png\", dpi=300)\n",
    "else:\n",
    "    plt.show()"
   ]
  },
  {
   "cell_type": "markdown",
   "metadata": {},
   "source": [
    "# Save tau=2 data to an object"
   ]
  },
  {
   "cell_type": "code",
   "execution_count": 69,
   "metadata": {},
   "outputs": [],
   "source": [
    "tau2_res = plot_data"
   ]
  },
  {
   "cell_type": "markdown",
   "metadata": {},
   "source": [
    "## Filter tau=8"
   ]
  },
  {
   "cell_type": "code",
   "execution_count": 70,
   "metadata": {},
   "outputs": [],
   "source": [
    "focal = results[results.half_life == 8]\n",
    "stat_res = []\n",
    "for pair in pairs:\n",
    "    pop1 = focal[focal.s_H == pair[0]][\"pct_change\"]\n",
    "    pop2 = focal[focal.s_H == pair[1]][\"pct_change\"]\n",
    "    U, p = mannwhitneyu(pop1, pop2, method=\"exact\")\n",
    "    stat_res.append({\"pair\": pair, \"U\": U, \"p\": p})\n",
    "df = pd.DataFrame(stat_res)"
   ]
  },
  {
   "cell_type": "code",
   "execution_count": 71,
   "metadata": {},
   "outputs": [
    {
     "data": {
      "text/html": [
       "<div>\n",
       "<style scoped>\n",
       "    .dataframe tbody tr th:only-of-type {\n",
       "        vertical-align: middle;\n",
       "    }\n",
       "\n",
       "    .dataframe tbody tr th {\n",
       "        vertical-align: top;\n",
       "    }\n",
       "\n",
       "    .dataframe thead th {\n",
       "        text-align: right;\n",
       "    }\n",
       "</style>\n",
       "<table border=\"1\" class=\"dataframe\">\n",
       "  <thead>\n",
       "    <tr style=\"text-align: right;\">\n",
       "      <th></th>\n",
       "      <th>pair</th>\n",
       "      <th>U</th>\n",
       "      <th>p</th>\n",
       "    </tr>\n",
       "  </thead>\n",
       "  <tbody>\n",
       "    <tr>\n",
       "      <th>0</th>\n",
       "      <td>(0.1, 1.0)</td>\n",
       "      <td>193.0</td>\n",
       "      <td>0.861987</td>\n",
       "    </tr>\n",
       "    <tr>\n",
       "      <th>1</th>\n",
       "      <td>(0.1, 10.0)</td>\n",
       "      <td>201.0</td>\n",
       "      <td>0.989332</td>\n",
       "    </tr>\n",
       "    <tr>\n",
       "      <th>2</th>\n",
       "      <td>(1.0, 10.0)</td>\n",
       "      <td>206.0</td>\n",
       "      <td>0.883057</td>\n",
       "    </tr>\n",
       "  </tbody>\n",
       "</table>\n",
       "</div>"
      ],
      "text/plain": [
       "          pair      U         p\n",
       "0   (0.1, 1.0)  193.0  0.861987\n",
       "1  (0.1, 10.0)  201.0  0.989332\n",
       "2  (1.0, 10.0)  206.0  0.883057"
      ]
     },
     "execution_count": 71,
     "metadata": {},
     "output_type": "execute_result"
    }
   ],
   "source": [
    "df"
   ]
  },
  {
   "cell_type": "code",
   "execution_count": 72,
   "metadata": {},
   "outputs": [
    {
     "data": {
      "text/html": [
       "<div>\n",
       "<style scoped>\n",
       "    .dataframe tbody tr th:only-of-type {\n",
       "        vertical-align: middle;\n",
       "    }\n",
       "\n",
       "    .dataframe tbody tr th {\n",
       "        vertical-align: top;\n",
       "    }\n",
       "\n",
       "    .dataframe thead th {\n",
       "        text-align: right;\n",
       "    }\n",
       "</style>\n",
       "<table border=\"1\" class=\"dataframe\">\n",
       "  <thead>\n",
       "    <tr style=\"text-align: right;\">\n",
       "      <th></th>\n",
       "      <th>pair</th>\n",
       "      <th>U</th>\n",
       "      <th>p</th>\n",
       "      <th>corrected_p</th>\n",
       "    </tr>\n",
       "  </thead>\n",
       "  <tbody>\n",
       "    <tr>\n",
       "      <th>0</th>\n",
       "      <td>(0.1, 1.0)</td>\n",
       "      <td>193.0</td>\n",
       "      <td>0.861987</td>\n",
       "      <td>1.0</td>\n",
       "    </tr>\n",
       "    <tr>\n",
       "      <th>1</th>\n",
       "      <td>(0.1, 10.0)</td>\n",
       "      <td>201.0</td>\n",
       "      <td>0.989332</td>\n",
       "      <td>1.0</td>\n",
       "    </tr>\n",
       "    <tr>\n",
       "      <th>2</th>\n",
       "      <td>(1.0, 10.0)</td>\n",
       "      <td>206.0</td>\n",
       "      <td>0.883057</td>\n",
       "      <td>1.0</td>\n",
       "    </tr>\n",
       "  </tbody>\n",
       "</table>\n",
       "</div>"
      ],
      "text/plain": [
       "          pair      U         p  corrected_p\n",
       "0   (0.1, 1.0)  193.0  0.861987          1.0\n",
       "1  (0.1, 10.0)  201.0  0.989332          1.0\n",
       "2  (1.0, 10.0)  206.0  0.883057          1.0"
      ]
     },
     "execution_count": 72,
     "metadata": {},
     "output_type": "execute_result"
    }
   ],
   "source": [
    "df[\"corrected_p\"] = df[\"p\"].apply(lambda x: bonferroni_correction(x, len(pairs)))\n",
    "df"
   ]
  },
  {
   "cell_type": "markdown",
   "metadata": {},
   "source": [
    "# Plot pctchange \n",
    "\n",
    "pctchange = treatment - avg_control/avg_control\n"
   ]
  },
  {
   "cell_type": "code",
   "execution_count": 73,
   "metadata": {},
   "outputs": [
    {
     "data": {
      "image/png": "[encoded data removed]",
      "text/plain": [
       "<Figure size 600x600 with 1 Axes>"
      ]
     },
     "metadata": {},
     "output_type": "display_data"
    }
   ],
   "source": [
    "from statannotations.Annotator import Annotator\n",
    "import matplotlib.pyplot as plt\n",
    "import seaborn as sns\n",
    "import os\n",
    "import numpy as np\n",
    "from matplotlib.ticker import FuncFormatter\n",
    "\n",
    "PLOT_DIR = \"plots_new\"\n",
    "if not os.path.exists(PLOT_DIR):\n",
    "    os.makedirs(PLOT_DIR)\n",
    "\n",
    "plt.style.use(\"stylesheet.mplstyle\")\n",
    "fpath = os.path.join(PLOT_DIR, f\"pct_change_s_H_tau8\")\n",
    "\n",
    "plot_data = focal\n",
    "fig, ax = plt.subplots(figsize=(6, 6))\n",
    "\n",
    "# Get unique probabilities and sort them\n",
    "probs = sorted(focal.s_H.unique())\n",
    "\n",
    "# Create the violin plot\n",
    "violin = sns.violinplot(\n",
    "    data=plot_data,\n",
    "    x=\"s_H\",\n",
    "    y=\"pct_change\",\n",
    "    order=probs,\n",
    "    inner=\"point\",\n",
    "    palette=BLUEPALETTE,\n",
    ")\n",
    "\n",
    "violin.set_ylabel(\"Illegal content reduction (%)\")\n",
    "violin.set_xlabel(\"High-risk group relative size (%)\")\n",
    "patch_violinplot(ax, palette=BLUEPALETTE, n=len(probs))\n",
    "point_violinplot(ax, palette=BLUEPALETTE, n=len(probs), pointsize=100, linewidth=0.7)\n",
    "ax.tick_params(labelleft=True, labelright=False, left=True, right=True)\n",
    "sns.despine(top=True, left=True, bottom=False)\n",
    "\n",
    "# ax.set_ylim(0, 100)\n",
    "# Saving\n",
    "plt.tight_layout()\n",
    "\n",
    "fig = violin.get_figure()\n",
    "if fpath is not None:\n",
    "    fig.savefig(f\"{fpath}.pdf\", dpi=300)\n",
    "    fig.savefig(f\"{fpath}.png\", dpi=300)\n",
    "else:\n",
    "    plt.show()"
   ]
  },
  {
   "cell_type": "markdown",
   "metadata": {},
   "source": [
    "# Save tau=8 data to an object"
   ]
  },
  {
   "cell_type": "code",
   "execution_count": 74,
   "metadata": {},
   "outputs": [],
   "source": [
    "tau8_res = plot_data"
   ]
  },
  {
   "cell_type": "markdown",
   "metadata": {},
   "source": [
    "# Plot in panel"
   ]
  },
  {
   "cell_type": "code",
   "execution_count": 75,
   "metadata": {},
   "outputs": [],
   "source": [
    "from statannotations.Annotator import Annotator\n",
    "import matplotlib.pyplot as plt\n",
    "import seaborn as sns\n",
    "import os\n",
    "import numpy as np\n",
    "from matplotlib.ticker import FuncFormatter\n",
    "\n",
    "plt.style.use(\"stylesheet.mplstyle\")\n",
    "PLOT_DIR = \"plots_new\"\n",
    "if not os.path.exists(PLOT_DIR):\n",
    "    os.makedirs(PLOT_DIR)\n",
    "fpath = os.path.join(PLOT_DIR, f\"pct_change_s_H_combine\")"
   ]
  },
  {
   "cell_type": "code",
   "execution_count": 76,
   "metadata": {},
   "outputs": [
    {
     "name": "stdout",
     "output_type": "stream",
     "text": [
      "p-values:           pair      U         p  corrected_p\n",
      "0   (0.1, 1.0)  216.0  0.678306     1.000000\n",
      "1  (0.1, 10.0)  173.0  0.477691     1.000000\n",
      "2  (1.0, 10.0)  156.0  0.242270     0.726809\n",
      "Significant pairs (p<0.001):  []\n",
      "p-values:           pair      U         p  corrected_p\n",
      "0   (0.1, 1.0)  193.0  0.861987          1.0\n",
      "1  (0.1, 10.0)  201.0  0.989332          1.0\n",
      "2  (1.0, 10.0)  206.0  0.883057          1.0\n",
      "Significant pairs (p<0.001):  []\n"
     ]
    },
    {
     "data": {
      "image/png": "[encoded data removed]",
      "text/plain": [
       "<Figure size 800x600 with 2 Axes>"
      ]
     },
     "metadata": {},
     "output_type": "display_data"
    }
   ],
   "source": [
    "plot_dfs = [tau2_res, tau8_res]\n",
    "y_label = \"Prevalence reduction (%)\"\n",
    "\n",
    "sig_level = 0.001\n",
    "fig, axs = plt.subplots(2, 1, figsize=(8, 6), sharex=True, sharey=True)\n",
    "probs = []\n",
    "for idx, plot_data in enumerate(plot_dfs):\n",
    "    ax = axs[idx]\n",
    "    if idx == 0:\n",
    "        probs = sorted(focal.s_H.unique())\n",
    "\n",
    "    # Create the violin plot\n",
    "    violin = sns.violinplot(\n",
    "        ax=ax,\n",
    "        data=plot_data,\n",
    "        x=\"s_H\",\n",
    "        y=\"pct_change\",\n",
    "        order=probs,\n",
    "        inner=\"point\",\n",
    "        palette=BLUEPALETTE,\n",
    "    )\n",
    "    if idx == len(plot_dfs) - 1:\n",
    "        violin.set_xlabel(\"High-risk group relative size (%)\")\n",
    "    else:\n",
    "        violin.set_xlabel(\"\")\n",
    "    violin.set_ylabel(\"\")\n",
    "\n",
    "    patch_violinplot(ax, palette=BLUEPALETTE, n=len(probs))\n",
    "    point_violinplot(ax, palette=BLUEPALETTE, n=len(probs))\n",
    "    ax.tick_params(labelleft=True, labelright=False, left=True, right=True)\n",
    "    sns.despine(top=True, left=True, bottom=False)\n",
    "\n",
    "    ## TEST SIGNIFICANCE\n",
    "    stats, significant_pairs = get_corrected_p(\n",
    "        plot_data, focal_col=\"s_H\", sig_level=sig_level\n",
    "    )\n",
    "    significant_pairs = [\n",
    "        i for i in significant_pairs if i[0] in probs and i[1] in probs\n",
    "    ]\n",
    "    # Add annotations for significant pairs\n",
    "    y_max = plot_data[\"pct_change\"].max()\n",
    "    for x1, x2 in significant_pairs:\n",
    "        stat, p = stats[stats[\"pair\"] == (x1, x2)][[\"U\", \"corrected_p\"]].values[0]\n",
    "        if p < sig_level:\n",
    "            y = y_max + 5  # Adjust the y position for the annotation\n",
    "            add_annotation(ax, probs.index(x1), probs.index(x2), y, get_annotation(p))\n",
    "            print(f\"Pair ( {x1}, {x2} ): p-value: {p:.2e}\")\n",
    "            y_max += 10  # Increment y_max for the next annotation\n",
    "\n",
    "    # ax.set_ylim(0, 100)\n",
    "fig.supylabel(y_label, fontsize=15)\n",
    "# Saving\n",
    "plt.tight_layout()\n",
    "\n",
    "if fpath is not None:\n",
    "    plt.savefig(f\"{fpath}.pdf\", dpi=300)\n",
    "    plt.savefig(f\"{fpath}.png\", dpi=300)\n",
    "else:\n",
    "    plt.show()"
   ]
  },
  {
   "cell_type": "code",
   "execution_count": null,
   "metadata": {},
   "outputs": [],
   "source": []
  }
 ],
 "metadata": {
  "kernelspec": {
   "display_name": "carisma",
   "language": "python",
   "name": "python3"
  },
  "language_info": {
   "codemirror_mode": {
    "name": "ipython",
    "version": 3
   },
   "file_extension": ".py",
   "mimetype": "text/x-python",
   "name": "python",
   "nbconvert_exporter": "python",
   "pygments_lexer": "ipython3",
   "version": "3.8.18"
  }
 },
 "nbformat": 4,
 "nbformat_minor": 2
}
