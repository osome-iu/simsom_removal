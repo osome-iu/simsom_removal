{
 "cells": [
  {
   "cell_type": "markdown",
   "metadata": {},
   "source": [
    "- Test the robustness of findings under different high-risk group sizes: s_H=10^{-2,-1,1}; half-life=2 day; network of 10^5 nodes\n",
    "- Reproduce Fig.4 in the paper "
   ]
  },
  {
   "cell_type": "code",
   "execution_count": 14,
   "metadata": {},
   "outputs": [],
   "source": [
    "import simsom.utils as utils\n",
    "import numpy as np\n",
    "import pandas as pd\n",
    "import os\n",
    "import glob\n",
    "from plot_helpers import (\n",
    "    get_agg_metric,\n",
    "    patch_violinplot,\n",
    "    point_violinplot,\n",
    "    bonferroni_correction,\n",
    "    get_corrected_p,\n",
    "    get_annotation,\n",
    "    add_annotation,\n",
    "    BLUEPALETTE,\n",
    ")"
   ]
  },
  {
   "cell_type": "markdown",
   "metadata": {},
   "source": [
    "# Read data"
   ]
  },
  {
   "cell_type": "code",
   "execution_count": 15,
   "metadata": {},
   "outputs": [],
   "source": [
    "exp_type = \"vary_group_size\"\n",
    "data = pd.read_parquet(f\"data/{exp_type}.parquet\")"
   ]
  },
  {
   "cell_type": "markdown",
   "metadata": {},
   "source": [
    "# Calculate pct change: \n",
    "metric-baseline_median / (baseline_median)"
   ]
  },
  {
   "cell_type": "code",
   "execution_count": 16,
   "metadata": {},
   "outputs": [
    {
     "name": "stderr",
     "output_type": "stream",
     "text": [
      "/geode2/home/u015/baotruon/BigRed200/simsom_removal/experiments/figures/plot_helpers.py:26: SettingWithCopyWarning: \n",
      "A value is trying to be set on a copy of a slice from a DataFrame.\n",
      "Try using .loc[row_indexer,col_indexer] = value instead\n",
      "\n",
      "See the caveats in the documentation: https://pandas.pydata.org/pandas-docs/stable/user_guide/indexing.html#returning-a-view-versus-a-copy\n",
      "  df[f\"{metric}_std\"] = df[metric]\n"
     ]
    }
   ],
   "source": [
    "# dummy column to count the number of observations\n",
    "data[\"illegal_prob\"] = 1\n",
    "baseline = data[data.half_life == -1]\n",
    "\n",
    "baseline = get_agg_metric(\n",
    "    baseline,\n",
    "    group_key=[\"s_H\"],\n",
    "    new_col_prefix=\"baseline\",\n",
    "    metrics=[\n",
    "        \"illegal_frac\",\n",
    "        \"unique_illegal_frac\",\n",
    "    ],\n",
    "    retain_keys=[\"illegal_prob\", \"half_life\"],\n",
    ")"
   ]
  },
  {
   "cell_type": "code",
   "execution_count": 17,
   "metadata": {},
   "outputs": [
    {
     "data": {
      "text/html": [
       "<div>\n",
       "<style scoped>\n",
       "    .dataframe tbody tr th:only-of-type {\n",
       "        vertical-align: middle;\n",
       "    }\n",
       "\n",
       "    .dataframe tbody tr th {\n",
       "        vertical-align: top;\n",
       "    }\n",
       "\n",
       "    .dataframe thead th {\n",
       "        text-align: right;\n",
       "    }\n",
       "</style>\n",
       "<table border=\"1\" class=\"dataframe\">\n",
       "  <thead>\n",
       "    <tr style=\"text-align: right;\">\n",
       "      <th></th>\n",
       "      <th>baseline_illegal_frac_mean</th>\n",
       "      <th>baseline_unique_illegal_frac_mean</th>\n",
       "      <th>baseline_illegal_frac_std</th>\n",
       "      <th>baseline_unique_illegal_frac_std</th>\n",
       "      <th>s_H</th>\n",
       "      <th>baseline_no_observations</th>\n",
       "      <th>half_life</th>\n",
       "    </tr>\n",
       "  </thead>\n",
       "  <tbody>\n",
       "    <tr>\n",
       "      <th>0</th>\n",
       "      <td>0.009197</td>\n",
       "      <td>0.010037</td>\n",
       "      <td>0.001581</td>\n",
       "      <td>0.001445</td>\n",
       "      <td>0.1</td>\n",
       "      <td>60</td>\n",
       "      <td>-1.0</td>\n",
       "    </tr>\n",
       "    <tr>\n",
       "      <th>1</th>\n",
       "      <td>0.009766</td>\n",
       "      <td>0.010157</td>\n",
       "      <td>0.002843</td>\n",
       "      <td>0.001226</td>\n",
       "      <td>1.0</td>\n",
       "      <td>60</td>\n",
       "      <td>-1.0</td>\n",
       "    </tr>\n",
       "    <tr>\n",
       "      <th>2</th>\n",
       "      <td>0.011255</td>\n",
       "      <td>0.010233</td>\n",
       "      <td>0.008117</td>\n",
       "      <td>0.001704</td>\n",
       "      <td>10.0</td>\n",
       "      <td>60</td>\n",
       "      <td>-1.0</td>\n",
       "    </tr>\n",
       "  </tbody>\n",
       "</table>\n",
       "</div>"
      ],
      "text/plain": [
       "   baseline_illegal_frac_mean  baseline_unique_illegal_frac_mean  \\\n",
       "0                    0.009197                           0.010037   \n",
       "1                    0.009766                           0.010157   \n",
       "2                    0.011255                           0.010233   \n",
       "\n",
       "   baseline_illegal_frac_std  baseline_unique_illegal_frac_std   s_H  \\\n",
       "0                   0.001581                          0.001445   0.1   \n",
       "1                   0.002843                          0.001226   1.0   \n",
       "2                   0.008117                          0.001704  10.0   \n",
       "\n",
       "   baseline_no_observations  half_life  \n",
       "0                        60       -1.0  \n",
       "1                        60       -1.0  \n",
       "2                        60       -1.0  "
      ]
     },
     "execution_count": 17,
     "metadata": {},
     "output_type": "execute_result"
    }
   ],
   "source": [
    "baseline"
   ]
  },
  {
   "cell_type": "markdown",
   "metadata": {},
   "source": [
    "## Get pct change"
   ]
  },
  {
   "cell_type": "code",
   "execution_count": 25,
   "metadata": {},
   "outputs": [],
   "source": [
    "results = data[data.half_life != -1]\n",
    "baseline = baseline.drop(columns=[\"half_life\"])\n",
    "results = results.merge(baseline, on=\"s_H\", how=\"left\")"
   ]
  },
  {
   "cell_type": "code",
   "execution_count": 26,
   "metadata": {},
   "outputs": [
    {
     "data": {
      "text/html": [
       "<div>\n",
       "<style scoped>\n",
       "    .dataframe tbody tr th:only-of-type {\n",
       "        vertical-align: middle;\n",
       "    }\n",
       "\n",
       "    .dataframe tbody tr th {\n",
       "        vertical-align: top;\n",
       "    }\n",
       "\n",
       "    .dataframe thead th {\n",
       "        text-align: right;\n",
       "    }\n",
       "</style>\n",
       "<table border=\"1\" class=\"dataframe\">\n",
       "  <thead>\n",
       "    <tr style=\"text-align: right;\">\n",
       "      <th></th>\n",
       "      <th>illegal_frac</th>\n",
       "      <th>unique_illegal_frac</th>\n",
       "      <th>illegal_count</th>\n",
       "      <th>unique_illegal_count</th>\n",
       "      <th>s_H</th>\n",
       "      <th>half_life</th>\n",
       "      <th>illegal_prob</th>\n",
       "      <th>baseline_illegal_frac_mean</th>\n",
       "      <th>baseline_unique_illegal_frac_mean</th>\n",
       "      <th>baseline_illegal_frac_std</th>\n",
       "      <th>baseline_unique_illegal_frac_std</th>\n",
       "      <th>baseline_no_observations</th>\n",
       "    </tr>\n",
       "  </thead>\n",
       "  <tbody>\n",
       "    <tr>\n",
       "      <th>0</th>\n",
       "      <td>0.007029</td>\n",
       "      <td>0.007675</td>\n",
       "      <td>1046</td>\n",
       "      <td>42</td>\n",
       "      <td>0.1</td>\n",
       "      <td>8.0</td>\n",
       "      <td>1</td>\n",
       "      <td>0.009197</td>\n",
       "      <td>0.010037</td>\n",
       "      <td>0.001581</td>\n",
       "      <td>0.001445</td>\n",
       "      <td>60</td>\n",
       "    </tr>\n",
       "    <tr>\n",
       "      <th>1</th>\n",
       "      <td>0.007719</td>\n",
       "      <td>0.008315</td>\n",
       "      <td>1157</td>\n",
       "      <td>45</td>\n",
       "      <td>1.0</td>\n",
       "      <td>8.0</td>\n",
       "      <td>1</td>\n",
       "      <td>0.009766</td>\n",
       "      <td>0.010157</td>\n",
       "      <td>0.002843</td>\n",
       "      <td>0.001226</td>\n",
       "      <td>60</td>\n",
       "    </tr>\n",
       "    <tr>\n",
       "      <th>2</th>\n",
       "      <td>0.008413</td>\n",
       "      <td>0.008539</td>\n",
       "      <td>1259</td>\n",
       "      <td>45</td>\n",
       "      <td>10.0</td>\n",
       "      <td>8.0</td>\n",
       "      <td>1</td>\n",
       "      <td>0.011255</td>\n",
       "      <td>0.010233</td>\n",
       "      <td>0.008117</td>\n",
       "      <td>0.001704</td>\n",
       "      <td>60</td>\n",
       "    </tr>\n",
       "    <tr>\n",
       "      <th>3</th>\n",
       "      <td>0.008363</td>\n",
       "      <td>0.007583</td>\n",
       "      <td>1252</td>\n",
       "      <td>42</td>\n",
       "      <td>0.1</td>\n",
       "      <td>8.0</td>\n",
       "      <td>1</td>\n",
       "      <td>0.009197</td>\n",
       "      <td>0.010037</td>\n",
       "      <td>0.001581</td>\n",
       "      <td>0.001445</td>\n",
       "      <td>60</td>\n",
       "    </tr>\n",
       "    <tr>\n",
       "      <th>4</th>\n",
       "      <td>0.006379</td>\n",
       "      <td>0.005966</td>\n",
       "      <td>954</td>\n",
       "      <td>32</td>\n",
       "      <td>1.0</td>\n",
       "      <td>8.0</td>\n",
       "      <td>1</td>\n",
       "      <td>0.009766</td>\n",
       "      <td>0.010157</td>\n",
       "      <td>0.002843</td>\n",
       "      <td>0.001226</td>\n",
       "      <td>60</td>\n",
       "    </tr>\n",
       "  </tbody>\n",
       "</table>\n",
       "</div>"
      ],
      "text/plain": [
       "   illegal_frac  unique_illegal_frac  illegal_count  unique_illegal_count  \\\n",
       "0      0.007029             0.007675           1046                    42   \n",
       "1      0.007719             0.008315           1157                    45   \n",
       "2      0.008413             0.008539           1259                    45   \n",
       "3      0.008363             0.007583           1252                    42   \n",
       "4      0.006379             0.005966            954                    32   \n",
       "\n",
       "    s_H  half_life  illegal_prob  baseline_illegal_frac_mean  \\\n",
       "0   0.1        8.0             1                    0.009197   \n",
       "1   1.0        8.0             1                    0.009766   \n",
       "2  10.0        8.0             1                    0.011255   \n",
       "3   0.1        8.0             1                    0.009197   \n",
       "4   1.0        8.0             1                    0.009766   \n",
       "\n",
       "   baseline_unique_illegal_frac_mean  baseline_illegal_frac_std  \\\n",
       "0                           0.010037                   0.001581   \n",
       "1                           0.010157                   0.002843   \n",
       "2                           0.010233                   0.008117   \n",
       "3                           0.010037                   0.001581   \n",
       "4                           0.010157                   0.002843   \n",
       "\n",
       "   baseline_unique_illegal_frac_std  baseline_no_observations  \n",
       "0                          0.001445                        60  \n",
       "1                          0.001226                        60  \n",
       "2                          0.001704                        60  \n",
       "3                          0.001445                        60  \n",
       "4                          0.001226                        60  "
      ]
     },
     "execution_count": 26,
     "metadata": {},
     "output_type": "execute_result"
    }
   ],
   "source": [
    "results.head()"
   ]
  },
  {
   "cell_type": "code",
   "execution_count": 27,
   "metadata": {},
   "outputs": [],
   "source": [
    "results = results[~results.unique_illegal_frac.isna()]"
   ]
  },
  {
   "cell_type": "code",
   "execution_count": 28,
   "metadata": {},
   "outputs": [],
   "source": [
    "metric = \"unique_illegal_frac\"\n",
    "results[\"pct_change\"] = (\n",
    "    (results[f\"baseline_{metric}_mean\"] - results[metric])\n",
    "    / results[f\"baseline_{metric}_mean\"]\n",
    "    * 100\n",
    ")"
   ]
  },
  {
   "cell_type": "code",
   "execution_count": 29,
   "metadata": {},
   "outputs": [
    {
     "data": {
      "text/html": [
       "<div>\n",
       "<style scoped>\n",
       "    .dataframe tbody tr th:only-of-type {\n",
       "        vertical-align: middle;\n",
       "    }\n",
       "\n",
       "    .dataframe tbody tr th {\n",
       "        vertical-align: top;\n",
       "    }\n",
       "\n",
       "    .dataframe thead th {\n",
       "        text-align: right;\n",
       "    }\n",
       "</style>\n",
       "<table border=\"1\" class=\"dataframe\">\n",
       "  <thead>\n",
       "    <tr style=\"text-align: right;\">\n",
       "      <th></th>\n",
       "      <th>illegal_frac</th>\n",
       "      <th>unique_illegal_frac</th>\n",
       "      <th>illegal_count</th>\n",
       "      <th>unique_illegal_count</th>\n",
       "      <th>s_H</th>\n",
       "      <th>half_life</th>\n",
       "      <th>illegal_prob</th>\n",
       "      <th>baseline_illegal_frac_mean</th>\n",
       "      <th>baseline_unique_illegal_frac_mean</th>\n",
       "      <th>baseline_illegal_frac_std</th>\n",
       "      <th>baseline_unique_illegal_frac_std</th>\n",
       "      <th>baseline_no_observations</th>\n",
       "      <th>pct_change</th>\n",
       "    </tr>\n",
       "  </thead>\n",
       "  <tbody>\n",
       "    <tr>\n",
       "      <th>0</th>\n",
       "      <td>0.007029</td>\n",
       "      <td>0.007675</td>\n",
       "      <td>1046</td>\n",
       "      <td>42</td>\n",
       "      <td>0.1</td>\n",
       "      <td>8.0</td>\n",
       "      <td>1</td>\n",
       "      <td>0.009197</td>\n",
       "      <td>0.010037</td>\n",
       "      <td>0.001581</td>\n",
       "      <td>0.001445</td>\n",
       "      <td>60</td>\n",
       "      <td>23.529129</td>\n",
       "    </tr>\n",
       "    <tr>\n",
       "      <th>1</th>\n",
       "      <td>0.007719</td>\n",
       "      <td>0.008315</td>\n",
       "      <td>1157</td>\n",
       "      <td>45</td>\n",
       "      <td>1.0</td>\n",
       "      <td>8.0</td>\n",
       "      <td>1</td>\n",
       "      <td>0.009766</td>\n",
       "      <td>0.010157</td>\n",
       "      <td>0.002843</td>\n",
       "      <td>0.001226</td>\n",
       "      <td>60</td>\n",
       "      <td>18.133775</td>\n",
       "    </tr>\n",
       "    <tr>\n",
       "      <th>2</th>\n",
       "      <td>0.008413</td>\n",
       "      <td>0.008539</td>\n",
       "      <td>1259</td>\n",
       "      <td>45</td>\n",
       "      <td>10.0</td>\n",
       "      <td>8.0</td>\n",
       "      <td>1</td>\n",
       "      <td>0.011255</td>\n",
       "      <td>0.010233</td>\n",
       "      <td>0.008117</td>\n",
       "      <td>0.001704</td>\n",
       "      <td>60</td>\n",
       "      <td>16.556216</td>\n",
       "    </tr>\n",
       "    <tr>\n",
       "      <th>3</th>\n",
       "      <td>0.008363</td>\n",
       "      <td>0.007583</td>\n",
       "      <td>1252</td>\n",
       "      <td>42</td>\n",
       "      <td>0.1</td>\n",
       "      <td>8.0</td>\n",
       "      <td>1</td>\n",
       "      <td>0.009197</td>\n",
       "      <td>0.010037</td>\n",
       "      <td>0.001581</td>\n",
       "      <td>0.001445</td>\n",
       "      <td>60</td>\n",
       "      <td>24.454125</td>\n",
       "    </tr>\n",
       "    <tr>\n",
       "      <th>4</th>\n",
       "      <td>0.006379</td>\n",
       "      <td>0.005966</td>\n",
       "      <td>954</td>\n",
       "      <td>32</td>\n",
       "      <td>1.0</td>\n",
       "      <td>8.0</td>\n",
       "      <td>1</td>\n",
       "      <td>0.009766</td>\n",
       "      <td>0.010157</td>\n",
       "      <td>0.002843</td>\n",
       "      <td>0.001226</td>\n",
       "      <td>60</td>\n",
       "      <td>41.263069</td>\n",
       "    </tr>\n",
       "  </tbody>\n",
       "</table>\n",
       "</div>"
      ],
      "text/plain": [
       "   illegal_frac  unique_illegal_frac  illegal_count  unique_illegal_count  \\\n",
       "0      0.007029             0.007675           1046                    42   \n",
       "1      0.007719             0.008315           1157                    45   \n",
       "2      0.008413             0.008539           1259                    45   \n",
       "3      0.008363             0.007583           1252                    42   \n",
       "4      0.006379             0.005966            954                    32   \n",
       "\n",
       "    s_H  half_life  illegal_prob  baseline_illegal_frac_mean  \\\n",
       "0   0.1        8.0             1                    0.009197   \n",
       "1   1.0        8.0             1                    0.009766   \n",
       "2  10.0        8.0             1                    0.011255   \n",
       "3   0.1        8.0             1                    0.009197   \n",
       "4   1.0        8.0             1                    0.009766   \n",
       "\n",
       "   baseline_unique_illegal_frac_mean  baseline_illegal_frac_std  \\\n",
       "0                           0.010037                   0.001581   \n",
       "1                           0.010157                   0.002843   \n",
       "2                           0.010233                   0.008117   \n",
       "3                           0.010037                   0.001581   \n",
       "4                           0.010157                   0.002843   \n",
       "\n",
       "   baseline_unique_illegal_frac_std  baseline_no_observations  pct_change  \n",
       "0                          0.001445                        60   23.529129  \n",
       "1                          0.001226                        60   18.133775  \n",
       "2                          0.001704                        60   16.556216  \n",
       "3                          0.001445                        60   24.454125  \n",
       "4                          0.001226                        60   41.263069  "
      ]
     },
     "execution_count": 29,
     "metadata": {},
     "output_type": "execute_result"
    }
   ],
   "source": [
    "results.head()"
   ]
  },
  {
   "cell_type": "markdown",
   "metadata": {},
   "source": [
    "# Statistical significance: pct change "
   ]
  },
  {
   "cell_type": "code",
   "execution_count": 30,
   "metadata": {},
   "outputs": [
    {
     "data": {
      "text/plain": [
       "[(0.1, 1.0), (0.1, 10.0), (1.0, 10.0)]"
      ]
     },
     "execution_count": 30,
     "metadata": {},
     "output_type": "execute_result"
    }
   ],
   "source": [
    "from scipy.stats import mannwhitneyu\n",
    "\n",
    "probs = sorted(results.s_H.dropna().unique())\n",
    "pairs = [\n",
    "    (probs[i], probs[j]) for i in range(len(probs)) for j in range(i + 1, len(probs))\n",
    "]\n",
    "pairs"
   ]
  },
  {
   "cell_type": "markdown",
   "metadata": {},
   "source": [
    "## Filter tau=2"
   ]
  },
  {
   "cell_type": "code",
   "execution_count": 31,
   "metadata": {},
   "outputs": [],
   "source": [
    "focal_col = \"s_H\"  # column being tested in the significance test\n",
    "focal = results[results.half_life == 2]\n",
    "stat_res = []\n",
    "for pair in pairs:\n",
    "    pop1 = focal[focal[focal_col] == pair[0]][\"pct_change\"]\n",
    "    pop2 = focal[focal[focal_col] == pair[1]][\"pct_change\"]\n",
    "    U, p = mannwhitneyu(pop1, pop2, method=\"exact\")\n",
    "    stat_res.append({\"pair\": pair, \"U\": U, \"p\": p})\n",
    "df = pd.DataFrame(stat_res)\n",
    "\n",
    "tau2_res = focal"
   ]
  },
  {
   "cell_type": "code",
   "execution_count": 32,
   "metadata": {},
   "outputs": [
    {
     "data": {
      "text/html": [
       "<div>\n",
       "<style scoped>\n",
       "    .dataframe tbody tr th:only-of-type {\n",
       "        vertical-align: middle;\n",
       "    }\n",
       "\n",
       "    .dataframe tbody tr th {\n",
       "        vertical-align: top;\n",
       "    }\n",
       "\n",
       "    .dataframe thead th {\n",
       "        text-align: right;\n",
       "    }\n",
       "</style>\n",
       "<table border=\"1\" class=\"dataframe\">\n",
       "  <thead>\n",
       "    <tr style=\"text-align: right;\">\n",
       "      <th></th>\n",
       "      <th>pair</th>\n",
       "      <th>U</th>\n",
       "      <th>p</th>\n",
       "      <th>corrected_p</th>\n",
       "    </tr>\n",
       "  </thead>\n",
       "  <tbody>\n",
       "    <tr>\n",
       "      <th>0</th>\n",
       "      <td>(0.1, 1.0)</td>\n",
       "      <td>216.0</td>\n",
       "      <td>0.678306</td>\n",
       "      <td>1.000000</td>\n",
       "    </tr>\n",
       "    <tr>\n",
       "      <th>1</th>\n",
       "      <td>(0.1, 10.0)</td>\n",
       "      <td>173.0</td>\n",
       "      <td>0.477691</td>\n",
       "      <td>1.000000</td>\n",
       "    </tr>\n",
       "    <tr>\n",
       "      <th>2</th>\n",
       "      <td>(1.0, 10.0)</td>\n",
       "      <td>156.0</td>\n",
       "      <td>0.242270</td>\n",
       "      <td>0.726809</td>\n",
       "    </tr>\n",
       "  </tbody>\n",
       "</table>\n",
       "</div>"
      ],
      "text/plain": [
       "          pair      U         p  corrected_p\n",
       "0   (0.1, 1.0)  216.0  0.678306     1.000000\n",
       "1  (0.1, 10.0)  173.0  0.477691     1.000000\n",
       "2  (1.0, 10.0)  156.0  0.242270     0.726809"
      ]
     },
     "execution_count": 32,
     "metadata": {},
     "output_type": "execute_result"
    }
   ],
   "source": [
    "df[\"corrected_p\"] = df[\"p\"].apply(lambda x: bonferroni_correction(x, len(pairs)))\n",
    "df"
   ]
  },
  {
   "cell_type": "markdown",
   "metadata": {},
   "source": [
    "## Filter tau=8"
   ]
  },
  {
   "cell_type": "code",
   "execution_count": null,
   "metadata": {},
   "outputs": [],
   "source": [
    "focal = results[results.half_life == 8]\n",
    "stat_res = []\n",
    "for pair in pairs:\n",
    "    pop1 = focal[focal.s_H == pair[0]][\"pct_change\"]\n",
    "    pop2 = focal[focal.s_H == pair[1]][\"pct_change\"]\n",
    "    U, p = mannwhitneyu(pop1, pop2, method=\"exact\")\n",
    "    stat_res.append({\"pair\": pair, \"U\": U, \"p\": p})\n",
    "df = pd.DataFrame(stat_res)\n",
    "\n",
    "tau8_res = focal"
   ]
  },
  {
   "cell_type": "code",
   "execution_count": 34,
   "metadata": {},
   "outputs": [
    {
     "data": {
      "text/html": [
       "<div>\n",
       "<style scoped>\n",
       "    .dataframe tbody tr th:only-of-type {\n",
       "        vertical-align: middle;\n",
       "    }\n",
       "\n",
       "    .dataframe tbody tr th {\n",
       "        vertical-align: top;\n",
       "    }\n",
       "\n",
       "    .dataframe thead th {\n",
       "        text-align: right;\n",
       "    }\n",
       "</style>\n",
       "<table border=\"1\" class=\"dataframe\">\n",
       "  <thead>\n",
       "    <tr style=\"text-align: right;\">\n",
       "      <th></th>\n",
       "      <th>pair</th>\n",
       "      <th>U</th>\n",
       "      <th>p</th>\n",
       "      <th>corrected_p</th>\n",
       "    </tr>\n",
       "  </thead>\n",
       "  <tbody>\n",
       "    <tr>\n",
       "      <th>0</th>\n",
       "      <td>(0.1, 1.0)</td>\n",
       "      <td>193.0</td>\n",
       "      <td>0.861987</td>\n",
       "      <td>1.0</td>\n",
       "    </tr>\n",
       "    <tr>\n",
       "      <th>1</th>\n",
       "      <td>(0.1, 10.0)</td>\n",
       "      <td>201.0</td>\n",
       "      <td>0.989332</td>\n",
       "      <td>1.0</td>\n",
       "    </tr>\n",
       "    <tr>\n",
       "      <th>2</th>\n",
       "      <td>(1.0, 10.0)</td>\n",
       "      <td>206.0</td>\n",
       "      <td>0.883057</td>\n",
       "      <td>1.0</td>\n",
       "    </tr>\n",
       "  </tbody>\n",
       "</table>\n",
       "</div>"
      ],
      "text/plain": [
       "          pair      U         p  corrected_p\n",
       "0   (0.1, 1.0)  193.0  0.861987          1.0\n",
       "1  (0.1, 10.0)  201.0  0.989332          1.0\n",
       "2  (1.0, 10.0)  206.0  0.883057          1.0"
      ]
     },
     "execution_count": 34,
     "metadata": {},
     "output_type": "execute_result"
    }
   ],
   "source": [
    "df[\"corrected_p\"] = df[\"p\"].apply(lambda x: bonferroni_correction(x, len(pairs)))\n",
    "df"
   ]
  },
  {
   "cell_type": "markdown",
   "metadata": {},
   "source": [
    "# Plot in panel"
   ]
  },
  {
   "cell_type": "code",
   "execution_count": 35,
   "metadata": {},
   "outputs": [],
   "source": [
    "import matplotlib.pyplot as plt\n",
    "import seaborn as sns\n",
    "import os\n",
    "\n",
    "plt.style.use(\"stylesheet.mplstyle\")\n",
    "PLOT_DIR = \"plots\"\n",
    "if not os.path.exists(PLOT_DIR):\n",
    "    os.makedirs(PLOT_DIR)\n",
    "fpath = os.path.join(PLOT_DIR, f\"pct_change_s_H_combine\")"
   ]
  },
  {
   "cell_type": "code",
   "execution_count": 39,
   "metadata": {},
   "outputs": [
    {
     "name": "stdout",
     "output_type": "stream",
     "text": [
      "p-values:           pair      U         p  corrected_p\n",
      "0   (0.1, 1.0)  216.0  0.678306     1.000000\n",
      "1  (0.1, 10.0)  173.0  0.477691     1.000000\n",
      "2  (1.0, 10.0)  156.0  0.242270     0.726809\n",
      "Significant pairs (p<0.001):  []\n",
      "p-values:           pair      U         p  corrected_p\n",
      "0   (0.1, 1.0)  193.0  0.861987          1.0\n",
      "1  (0.1, 10.0)  201.0  0.989332          1.0\n",
      "2  (1.0, 10.0)  206.0  0.883057          1.0\n",
      "Significant pairs (p<0.001):  []\n"
     ]
    },
    {
     "data": {
      "image/png": "[encoded data removed]",
      "text/plain": [
       "<Figure size 576x432 with 2 Axes>"
      ]
     },
     "metadata": {
      "needs_background": "light"
     },
     "output_type": "display_data"
    }
   ],
   "source": [
    "plot_dfs = [tau2_res, tau8_res]\n",
    "y_label = \"Prevalence reduction (%)\"\n",
    "\n",
    "sig_level = 0.001\n",
    "fig, axs = plt.subplots(2, 1, figsize=(8, 6), sharex=True, sharey=True)\n",
    "probs = []\n",
    "for idx, plot_data in enumerate(plot_dfs):\n",
    "    ax = axs[idx]\n",
    "    if idx == 0:\n",
    "        probs = sorted(focal.s_H.unique())\n",
    "\n",
    "    # Create the violin plot\n",
    "    violin = sns.violinplot(\n",
    "        ax=ax,\n",
    "        data=plot_data,\n",
    "        x=\"s_H\",\n",
    "        y=\"pct_change\",\n",
    "        order=probs,\n",
    "        inner=\"point\",\n",
    "        palette=BLUEPALETTE[: len(probs)],\n",
    "        hue=\"s_H\",\n",
    "        legend=False,\n",
    "    )\n",
    "    if idx == len(plot_dfs) - 1:\n",
    "        violin.set_xlabel(\"High-risk group relative size (%)\")\n",
    "    else:\n",
    "        violin.set_xlabel(\"\")\n",
    "    violin.set_ylabel(\"\")\n",
    "\n",
    "    patch_violinplot(ax, palette=BLUEPALETTE, n=len(probs))\n",
    "    point_violinplot(ax, palette=BLUEPALETTE, n=len(probs))\n",
    "    ax.tick_params(labelleft=True, labelright=False, left=True, right=True)\n",
    "    sns.despine(top=True, left=True, bottom=False)\n",
    "\n",
    "    ## TEST SIGNIFICANCE\n",
    "    stats, significant_pairs = get_corrected_p(\n",
    "        plot_data, focal_col=\"s_H\", sig_level=sig_level\n",
    "    )\n",
    "    significant_pairs = [\n",
    "        i for i in significant_pairs if i[0] in probs and i[1] in probs\n",
    "    ]\n",
    "    # Add annotations for significant pairs\n",
    "    y_max = plot_data[\"pct_change\"].max()\n",
    "    for x1, x2 in significant_pairs:\n",
    "        stat, p = stats[stats[\"pair\"] == (x1, x2)][[\"U\", \"corrected_p\"]].values[0]\n",
    "        if p < sig_level:\n",
    "            y = y_max + 5  # Adjust the y position for the annotation\n",
    "            add_annotation(ax, probs.index(x1), probs.index(x2), y, get_annotation(p))\n",
    "            print(f\"Pair ( {x1}, {x2} ): p-value: {p:.2e}\")\n",
    "            y_max += 10  # Increment y_max for the next annotation\n",
    "\n",
    "    # ax.set_ylim(0, 100)\n",
    "fig.supylabel(y_label, fontsize=15)\n",
    "# Saving\n",
    "plt.tight_layout()\n",
    "\n",
    "if fpath is not None:\n",
    "    plt.savefig(f\"{fpath}.pdf\", dpi=300)\n",
    "    plt.savefig(f\"{fpath}.png\", dpi=300)\n",
    "else:\n",
    "    plt.show()"
   ]
  },
  {
   "cell_type": "code",
   "execution_count": null,
   "metadata": {},
   "outputs": [],
   "source": []
  }
 ],
 "metadata": {
  "kernelspec": {
   "display_name": "simsomremoval",
   "language": "python",
   "name": "python3"
  },
  "language_info": {
   "codemirror_mode": {
    "name": "ipython",
    "version": 3
   },
   "file_extension": ".py",
   "mimetype": "text/x-python",
   "name": "python",
   "nbconvert_exporter": "python",
   "pygments_lexer": "ipython3",
   "version": "3.8.20"
  }
 },
 "nbformat": 4,
 "nbformat_minor": 2
}
