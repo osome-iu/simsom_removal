{
 "cells": [
  {
   "cell_type": "markdown",
   "metadata": {},
   "source": [
    "- Test the robustness of findings under different high-risk group sizes: s_H=10^{-2,-1,1}; half-life=2 day; network of 10^5 nodes\n",
    "- Reproduce Fig.4 in the paper "
   ]
  },
  {
   "cell_type": "code",
   "execution_count": 1,
   "metadata": {},
   "outputs": [],
   "source": [
    "import simsom.utils as utils\n",
    "import numpy as np\n",
    "import pandas as pd\n",
    "import os\n",
    "import glob"
   ]
  },
  {
   "cell_type": "markdown",
   "metadata": {},
   "source": [
    "## Helpers"
   ]
  },
  {
   "cell_type": "code",
   "execution_count": 2,
   "metadata": {},
   "outputs": [],
   "source": [
    "def get_agg_metric(\n",
    "    df,\n",
    "    group_key=\"base_name\",\n",
    "    new_col_prefix=\"baseline\",\n",
    "    metrics=[\n",
    "        \"quality\",\n",
    "        \"illegal_frac\",\n",
    "        \"unique_illegal_frac\",\n",
    "        \"illegal_count\",\n",
    "        \"unique_illegal_count\",\n",
    "    ],\n",
    "):\n",
    "    \"\"\"\n",
    "    Return a df where the columns of interest are aggregated by mean and std & renamed (prefix with a phrase)\n",
    "    new_col_prefix (str): the prefix to append to aggregated cols\n",
    "    \"\"\"\n",
    "    if \"illegal_prob\" not in df.columns:\n",
    "        raise ValueError(\n",
    "            \"`illegal_prob` column not found in the dataframe. This is needed as a dummy column to count the number of observations.\"\n",
    "        )\n",
    "    for metric in metrics:\n",
    "        df[f\"{metric}_std\"] = df[metric]\n",
    "        df = df.rename(columns={metric: f\"{metric}_mean\"})\n",
    "\n",
    "    # aggregate (by mean or std)\n",
    "    agg = dict()\n",
    "    agg[\"illegal_prob\"] = \"count\"\n",
    "    for metric in metrics:\n",
    "        agg[f\"{metric}_mean\"] = \"mean\"\n",
    "        agg[f\"{metric}_std\"] = \"std\"\n",
    "    try:\n",
    "        agg_df = df.groupby(group_key).agg(agg).reset_index()\n",
    "        # rename aggregated cols with the prefix\n",
    "        agg_cols = (\n",
    "            [f\"{metric}_mean\" for metric in metrics]\n",
    "            + [f\"{metric}_std\" for metric in metrics]\n",
    "            + [\"illegal_prob\"]\n",
    "        )\n",
    "        rename_dict = {col: f\"{new_col_prefix}_{col}\" for col in agg_cols}\n",
    "        rename_dict[\"illegal_prob\"] = f\"{new_col_prefix}_no_observations\"\n",
    "        agg_df = agg_df[agg_cols + [group_key]].rename(columns=rename_dict)\n",
    "    except Exception as e:\n",
    "        print(e)\n",
    "        raise ValueError(\n",
    "            \"Unable to groupby or rename col, most likely the specified group_key or retain_cols don't exist.\"\n",
    "        )\n",
    "    return agg_df\n",
    "\n",
    "\n",
    "def get_delay_from_name(string):\n",
    "    # 4_0.01__diff_true -> 4\n",
    "    delay = string.split(\"__\")[0].split(\"_\")[0]\n",
    "    if delay != \"b\":\n",
    "        return float(delay)\n",
    "    else:\n",
    "        return -1"
   ]
  },
  {
   "cell_type": "markdown",
   "metadata": {},
   "source": [
    "# Helpers \n",
    "## Format violin plot"
   ]
  },
  {
   "cell_type": "code",
   "execution_count": 3,
   "metadata": {},
   "outputs": [],
   "source": [
    "import seaborn as sns\n",
    "\n",
    "# orange, blue, teal, purpple, yellow, pink\n",
    "BLUEPALETTE = [\"#F18447\", \"#3863AC\", \"#209B8A\", \"#550F6B\", \"#F8D625\", \"#BC3684\"]\n",
    "\n",
    "\n",
    "def patch_violinplot(ax, palette=BLUEPALETTE, n=1, alpha=1, multicolor=True):\n",
    "    \"\"\"\n",
    "    Recolor the outlines of violin patches using a palette\n",
    "    - palette (list of str): color palette for the patches\n",
    "    - n (int): number of colors to use from the palette\n",
    "    - multicolor (bool): whether to color the patches differently. If False, use the default color (orange)\n",
    "    - alpha (float): transparency\n",
    "    \"\"\"\n",
    "    from matplotlib.collections import PolyCollection\n",
    "\n",
    "    violins = [art for art in ax.get_children() if isinstance(art, PolyCollection)]\n",
    "    for i in range(len(violins)):\n",
    "        if multicolor is False:\n",
    "            violins[i].set_edgecolor(c=\"#F18447\")\n",
    "        else:\n",
    "            colors = sns.color_palette(palette, n_colors=n) * (len(violins) // n)\n",
    "            violins[i].set_edgecolor(colors[i])\n",
    "        violins[i].set_alpha(alpha)\n",
    "\n",
    "\n",
    "def point_violinplot(\n",
    "    ax, palette=BLUEPALETTE, n=1, pointsize=200, edgecolor=\"white\", multicolor=True\n",
    "):\n",
    "    \"\"\"\n",
    "    Recolor points in the plot based on the violin facecolor\n",
    "    - palette (list of str): color palette for the patches\n",
    "    - n (int): number of colors to use from the palette\n",
    "    - edgecolor (str): point outline color\n",
    "    - pointsize (int): point size\n",
    "    - multicolor (bool): whether to color the patches differently. If False, use the default color (orange)\n",
    "    - alpha (float): transparency\n",
    "    \"\"\"\n",
    "    from matplotlib.collections import PathCollection\n",
    "\n",
    "    violins = [art for art in ax.get_children() if isinstance(art, PathCollection)]\n",
    "    for i in range(len(violins)):\n",
    "        violins[i].set_sizes([pointsize])  # size\n",
    "        violins[i].set_edgecolor(edgecolor)  # outline\n",
    "        violins[i].set_linewidth(1.5)\n",
    "        if multicolor is False:\n",
    "            violins[i].set_facecolor(c=\"#F18447\")\n",
    "        else:\n",
    "            colors = sns.color_palette(palette, n_colors=n) * (len(violins) // n)\n",
    "            violins[i].set_facecolor(colors[i])"
   ]
  },
  {
   "cell_type": "markdown",
   "metadata": {},
   "source": [
    "## Extract s_H from name"
   ]
  },
  {
   "cell_type": "code",
   "execution_count": 4,
   "metadata": {},
   "outputs": [
    {
     "name": "stdout",
     "output_type": "stream",
     "text": [
      "1.0\n",
      "10.0\n"
     ]
    }
   ],
   "source": [
    "import re\n",
    "\n",
    "\n",
    "def extract_float(input_str):\n",
    "    # Define the regular expression pattern to match the float\n",
    "    pattern = r\"[a-zA-Z0-9]_(\\d+(\\.\\d+)?)__diff_true\"\n",
    "\n",
    "    # Search for the pattern in the input string\n",
    "    match = re.search(pattern, input_str)\n",
    "\n",
    "    # If a match is found, extract the float part\n",
    "    if match:\n",
    "        return float(match.group(1))\n",
    "    else:\n",
    "        raise ValueError(\"The input string does not match the expected format\")\n",
    "\n",
    "\n",
    "# Example usage\n",
    "input_str1 = \"1_1__diff_true\"\n",
    "input_str2 = \"b_10__diff_true\"\n",
    "\n",
    "extracted_float1 = extract_float(input_str1)\n",
    "extracted_float2 = extract_float(input_str2)\n",
    "\n",
    "print(extracted_float1)  # Output: 0.002\n",
    "print(extracted_float2)  # Output: 0.002"
   ]
  },
  {
   "cell_type": "markdown",
   "metadata": {},
   "source": [
    "## Bonferroni correction"
   ]
  },
  {
   "cell_type": "code",
   "execution_count": 5,
   "metadata": {},
   "outputs": [],
   "source": [
    "def bonferroni_correction(p_value, n_comparisons):\n",
    "    \"\"\"\n",
    "    Perform Bonferroni correction on a given p-value for multiple comparisons.\n",
    "    Parameters:\n",
    "    -----------\n",
    "    - p_value (float): The original p-value.\n",
    "    - n_comparisons (int): The number of comparisons being made.\n",
    "    Returns:\n",
    "    -----------\n",
    "    - float: The Bonferroni corrected p-value.\n",
    "    \"\"\"\n",
    "    bonferroni_corrected_p_value = p_value * n_comparisons\n",
    "    # Ensure the corrected p-value is not greater than 1\n",
    "    bonferroni_corrected_p_value = min(1.0, bonferroni_corrected_p_value)\n",
    "    return bonferroni_corrected_p_value"
   ]
  },
  {
   "cell_type": "markdown",
   "metadata": {},
   "source": [
    "# Prevalence: Read data"
   ]
  },
  {
   "cell_type": "code",
   "execution_count": 46,
   "metadata": {},
   "outputs": [
    {
     "name": "stdout",
     "output_type": "stream",
     "text": [
      "Processing 0/54\n",
      "Processing 5/54\n",
      "Processing 10/54\n",
      "Processing 15/54\n",
      "Processing 20/54\n",
      "Processing 25/54\n",
      "Processing 30/54\n",
      "Processing 35/54\n",
      "Processing 40/54\n",
      "Processing 45/54\n",
      "Processing 50/54\n"
     ]
    }
   ],
   "source": [
    "# Directory containing experiment results\n",
    "ABS_PATH = \"/N/u/baotruon/BigRed200/carisma/experiments/20241126_robustness\"\n",
    "fpaths = glob.glob(f\"{ABS_PATH}/prevalence*/*.parquet\")\n",
    "dfs = []\n",
    "for idx, fpath in enumerate(fpaths):\n",
    "    if idx % 5 == 0:\n",
    "        print(f\"Processing {idx}/{len(fpaths)}\")\n",
    "    raw = pd.read_parquet(fpath, engine=\"pyarrow\")\n",
    "    dfs += [raw]\n",
    "combined = pd.concat(dfs, ignore_index=True)"
   ]
  },
  {
   "cell_type": "code",
   "execution_count": 47,
   "metadata": {},
   "outputs": [
    {
     "name": "stdout",
     "output_type": "stream",
     "text": [
      "illegal prob values: [0.0009 0.002  0.01   0.0001 0.001  0.009  0.0003]\n",
      "len combined data:  302\n",
      "len combined data (after removing nans):  302\n"
     ]
    }
   ],
   "source": [
    "combined[\"base_name\"] = combined[\"fpath\"].apply(lambda x: os.path.basename(x))\n",
    "combined[\"illegal_prob\"] = combined[\"base_name\"].apply(extract_float)\n",
    "print(\"illegal prob values:\", combined[\"illegal_prob\"].unique())\n",
    "print(\"len combined data: \", len(combined))\n",
    "data = combined[~combined[\"unique_illegal_frac\"].isna()]\n",
    "print(\"len combined data (after removing nans): \", len(data))"
   ]
  },
  {
   "cell_type": "code",
   "execution_count": 48,
   "metadata": {},
   "outputs": [
    {
     "data": {
      "text/plain": [
       "moderation_half_life  is_base\n",
       "0.5                   True       150\n",
       "1.0                   False        8\n",
       "2.0                   False      144\n",
       "dtype: int64"
      ]
     },
     "execution_count": 48,
     "metadata": {},
     "output_type": "execute_result"
    }
   ],
   "source": [
    "data['is_base'] = data['base_name'].apply(lambda x: 'b_' in x)\n",
    "data.groupby([\"moderation_half_life\", \"is_base\"]).size()"
   ]
  },
  {
   "cell_type": "markdown",
   "metadata": {},
   "source": [
    "--> Let's use half_life=2"
   ]
  },
  {
   "cell_type": "code",
   "execution_count": 49,
   "metadata": {},
   "outputs": [],
   "source": [
    "data = data[(data[\"moderation_half_life\"] ==2)|((data[\"moderation_half_life\"] == 0.5) & (data[\"is_base\"] == True))]"
   ]
  },
  {
   "cell_type": "code",
   "execution_count": 50,
   "metadata": {},
   "outputs": [
    {
     "data": {
      "text/plain": [
       "moderation_half_life  is_base\n",
       "0.5                   True       150\n",
       "2.0                   False      144\n",
       "dtype: int64"
      ]
     },
     "execution_count": 50,
     "metadata": {},
     "output_type": "execute_result"
    }
   ],
   "source": [
    "data.groupby([\"moderation_half_life\", \"is_base\"]).size()\n"
   ]
  },
  {
   "cell_type": "code",
   "execution_count": 51,
   "metadata": {},
   "outputs": [
    {
     "data": {
      "text/html": [
       "<div>\n",
       "<style scoped>\n",
       "    .dataframe tbody tr th:only-of-type {\n",
       "        vertical-align: middle;\n",
       "    }\n",
       "\n",
       "    .dataframe tbody tr th {\n",
       "        vertical-align: top;\n",
       "    }\n",
       "\n",
       "    .dataframe thead th {\n",
       "        text-align: right;\n",
       "    }\n",
       "</style>\n",
       "<table border=\"1\" class=\"dataframe\">\n",
       "  <thead>\n",
       "    <tr style=\"text-align: right;\">\n",
       "      <th></th>\n",
       "      <th>unique_illegal_frac</th>\n",
       "      <th>illegal_prob</th>\n",
       "      <th>is_base</th>\n",
       "      <th>base_name</th>\n",
       "    </tr>\n",
       "  </thead>\n",
       "  <tbody>\n",
       "    <tr>\n",
       "      <th>0</th>\n",
       "      <td>0.001216</td>\n",
       "      <td>0.0009</td>\n",
       "      <td>True</td>\n",
       "      <td>b_0.0009__diff_true.json.gz</td>\n",
       "    </tr>\n",
       "    <tr>\n",
       "      <th>1</th>\n",
       "      <td>0.001807</td>\n",
       "      <td>0.0020</td>\n",
       "      <td>True</td>\n",
       "      <td>b_0.002__diff_true.json.gz</td>\n",
       "    </tr>\n",
       "    <tr>\n",
       "      <th>2</th>\n",
       "      <td>0.009838</td>\n",
       "      <td>0.0100</td>\n",
       "      <td>True</td>\n",
       "      <td>b_0.01__diff_true.json.gz</td>\n",
       "    </tr>\n",
       "    <tr>\n",
       "      <th>3</th>\n",
       "      <td>0.000155</td>\n",
       "      <td>0.0001</td>\n",
       "      <td>True</td>\n",
       "      <td>b_0.0001__diff_true.json.gz</td>\n",
       "    </tr>\n",
       "    <tr>\n",
       "      <th>4</th>\n",
       "      <td>0.000990</td>\n",
       "      <td>0.0010</td>\n",
       "      <td>True</td>\n",
       "      <td>b_0.001__diff_true.json.gz</td>\n",
       "    </tr>\n",
       "  </tbody>\n",
       "</table>\n",
       "</div>"
      ],
      "text/plain": [
       "   unique_illegal_frac  illegal_prob  is_base                    base_name\n",
       "0             0.001216        0.0009     True  b_0.0009__diff_true.json.gz\n",
       "1             0.001807        0.0020     True   b_0.002__diff_true.json.gz\n",
       "2             0.009838        0.0100     True    b_0.01__diff_true.json.gz\n",
       "3             0.000155        0.0001     True  b_0.0001__diff_true.json.gz\n",
       "4             0.000990        0.0010     True   b_0.001__diff_true.json.gz"
      ]
     },
     "execution_count": 51,
     "metadata": {},
     "output_type": "execute_result"
    }
   ],
   "source": [
    "retain_cols = [\n",
    "    # \"illegal_frac\",\n",
    "    \"unique_illegal_frac\",\n",
    "    # \"illegal_count\",\n",
    "    # \"unique_illegal_count\",\n",
    "    \"illegal_prob\",\n",
    "    \"is_base\",\n",
    "    \"base_name\"\n",
    "]\n",
    "data = data[retain_cols]\n",
    "data.head()"
   ]
  },
  {
   "cell_type": "markdown",
   "metadata": {},
   "source": [
    "# Count number of observations for each param"
   ]
  },
  {
   "cell_type": "markdown",
   "metadata": {},
   "source": [
    "## Baseline"
   ]
  },
  {
   "cell_type": "code",
   "execution_count": 12,
   "metadata": {},
   "outputs": [
    {
     "data": {
      "text/plain": [
       "illegal_prob\n",
       "0.0001    10\n",
       "0.0003    14\n",
       "0.0009    19\n",
       "0.0010    21\n",
       "0.0020    31\n",
       "0.0090    34\n",
       "0.0100    34\n",
       "dtype: int64"
      ]
     },
     "execution_count": 12,
     "metadata": {},
     "output_type": "execute_result"
    }
   ],
   "source": [
    "# Count the number of rows for each combination of 'half_life' and 'illegal_content_probability'\n",
    "data[data.is_base == True].groupby(\"illegal_prob\").size()"
   ]
  },
  {
   "cell_type": "markdown",
   "metadata": {},
   "source": [
    "## Non-baseline"
   ]
  },
  {
   "cell_type": "code",
   "execution_count": 13,
   "metadata": {},
   "outputs": [
    {
     "data": {
      "text/html": [
       "<div>\n",
       "<style scoped>\n",
       "    .dataframe tbody tr th:only-of-type {\n",
       "        vertical-align: middle;\n",
       "    }\n",
       "\n",
       "    .dataframe tbody tr th {\n",
       "        vertical-align: top;\n",
       "    }\n",
       "\n",
       "    .dataframe thead th {\n",
       "        text-align: right;\n",
       "    }\n",
       "</style>\n",
       "<table border=\"1\" class=\"dataframe\">\n",
       "  <thead>\n",
       "    <tr style=\"text-align: right;\">\n",
       "      <th></th>\n",
       "      <th>illegal_prob</th>\n",
       "      <th>count</th>\n",
       "    </tr>\n",
       "  </thead>\n",
       "  <tbody>\n",
       "    <tr>\n",
       "      <th>0</th>\n",
       "      <td>0.0001</td>\n",
       "      <td>8</td>\n",
       "    </tr>\n",
       "    <tr>\n",
       "      <th>1</th>\n",
       "      <td>0.0003</td>\n",
       "      <td>11</td>\n",
       "    </tr>\n",
       "    <tr>\n",
       "      <th>2</th>\n",
       "      <td>0.0009</td>\n",
       "      <td>22</td>\n",
       "    </tr>\n",
       "    <tr>\n",
       "      <th>3</th>\n",
       "      <td>0.0010</td>\n",
       "      <td>15</td>\n",
       "    </tr>\n",
       "    <tr>\n",
       "      <th>4</th>\n",
       "      <td>0.0020</td>\n",
       "      <td>23</td>\n",
       "    </tr>\n",
       "    <tr>\n",
       "      <th>5</th>\n",
       "      <td>0.0090</td>\n",
       "      <td>32</td>\n",
       "    </tr>\n",
       "    <tr>\n",
       "      <th>6</th>\n",
       "      <td>0.0100</td>\n",
       "      <td>36</td>\n",
       "    </tr>\n",
       "  </tbody>\n",
       "</table>\n",
       "</div>"
      ],
      "text/plain": [
       "   illegal_prob  count\n",
       "0        0.0001      8\n",
       "1        0.0003     11\n",
       "2        0.0009     22\n",
       "3        0.0010     15\n",
       "4        0.0020     23\n",
       "5        0.0090     32\n",
       "6        0.0100     36"
      ]
     },
     "execution_count": 13,
     "metadata": {},
     "output_type": "execute_result"
    }
   ],
   "source": [
    "# Count the number of rows for each combination of 'moderation_half_life' and 'illegal_content_probability'\n",
    "row_counts = (\n",
    "    data[data.is_base == False].groupby([\"illegal_prob\"]).size().reset_index(name=\"count\")\n",
    ")\n",
    "\n",
    "# Display the result\n",
    "row_counts.sort_values(by=[\"illegal_prob\"])"
   ]
  },
  {
   "cell_type": "markdown",
   "metadata": {},
   "source": [
    "# Test another way"
   ]
  },
  {
   "cell_type": "markdown",
   "metadata": {},
   "source": [
    "## Baseline"
   ]
  },
  {
   "cell_type": "code",
   "execution_count": 52,
   "metadata": {},
   "outputs": [],
   "source": [
    "baseline = data[data.is_base == True]"
   ]
  },
  {
   "cell_type": "code",
   "execution_count": 53,
   "metadata": {},
   "outputs": [
    {
     "name": "stderr",
     "output_type": "stream",
     "text": [
      "/tmp/ipykernel_116861/4194183152.py:4: SettingWithCopyWarning: \n",
      "A value is trying to be set on a copy of a slice from a DataFrame.\n",
      "Try using .loc[row_indexer,col_indexer] = value instead\n",
      "\n",
      "See the caveats in the documentation: https://pandas.pydata.org/pandas-docs/stable/user_guide/indexing.html#returning-a-view-versus-a-copy\n",
      "  baseline[\"indexed_basename\"] = (\n",
      "/tmp/ipykernel_116861/4194183152.py:9: SettingWithCopyWarning: \n",
      "A value is trying to be set on a copy of a slice from a DataFrame.\n",
      "Try using .loc[row_indexer,col_indexer] = value instead\n",
      "\n",
      "See the caveats in the documentation: https://pandas.pydata.org/pandas-docs/stable/user_guide/indexing.html#returning-a-view-versus-a-copy\n",
      "  baseline[\"indexed_basename\"] = (\n"
     ]
    }
   ],
   "source": [
    "# assign an index to baseline exp name, so we can match it with a non-baseline exp\n",
    "# Create the new column with name and index using groupby and cumcount\n",
    "# e.g: if there are 3 files with the same config, basename= b_0.001__diff_true, the new column indexed_basename will be b_0.001__diff_true_0, b_0.001__diff_true_1, b_0.001__diff_true_2\n",
    "baseline[\"indexed_basename\"] = (\n",
    "    baseline.groupby(\"base_name\").cumcount().apply(lambda x: f\"_{x}\")\n",
    ")\n",
    "\n",
    "# Concatenate the original 'name' column with the new suffix\n",
    "baseline[\"indexed_basename\"] = (\n",
    "    baseline[\"base_name\"] + baseline[\"indexed_basename\"]\n",
    ")\n",
    "\n",
    "# baseline.indexed_basename"
   ]
  },
  {
   "cell_type": "markdown",
   "metadata": {},
   "source": [
    "## Non-baseline"
   ]
  },
  {
   "cell_type": "code",
   "execution_count": 54,
   "metadata": {},
   "outputs": [
    {
     "name": "stdout",
     "output_type": "stream",
     "text": [
      "Filtering non-baseline results...\n"
     ]
    },
    {
     "name": "stderr",
     "output_type": "stream",
     "text": [
      "/tmp/ipykernel_116861/1016345276.py:13: SettingWithCopyWarning: \n",
      "A value is trying to be set on a copy of a slice from a DataFrame.\n",
      "Try using .loc[row_indexer,col_indexer] = value instead\n",
      "\n",
      "See the caveats in the documentation: https://pandas.pydata.org/pandas-docs/stable/user_guide/indexing.html#returning-a-view-versus-a-copy\n",
      "  res[\"baseline_name\"] = res[\"base_name\"].apply(lambda x: get_base_name(x))\n",
      "/tmp/ipykernel_116861/1016345276.py:17: SettingWithCopyWarning: \n",
      "A value is trying to be set on a copy of a slice from a DataFrame.\n",
      "Try using .loc[row_indexer,col_indexer] = value instead\n",
      "\n",
      "See the caveats in the documentation: https://pandas.pydata.org/pandas-docs/stable/user_guide/indexing.html#returning-a-view-versus-a-copy\n",
      "  res[\"indexed_basename\"] = (\n",
      "/tmp/ipykernel_116861/1016345276.py:22: SettingWithCopyWarning: \n",
      "A value is trying to be set on a copy of a slice from a DataFrame.\n",
      "Try using .loc[row_indexer,col_indexer] = value instead\n",
      "\n",
      "See the caveats in the documentation: https://pandas.pydata.org/pandas-docs/stable/user_guide/indexing.html#returning-a-view-versus-a-copy\n",
      "  res[\"indexed_basename\"] = res[\"baseline_name\"] + res[\"indexed_basename\"]\n"
     ]
    }
   ],
   "source": [
    "print(\"Filtering non-baseline results...\")\n",
    "\n",
    "res = data[data.is_base == False]\n",
    "# Note that the last index of the network config matches that of the exp config (e.g: we want to run illegal_prob = illegal_spreader_frac=0.01)\n",
    "# e.g: 50__diff_false has the baseline of b0__diff_false\n",
    "# b_0.01__diff_true\n",
    "def get_base_name(string):\n",
    "    return \"b\" + string[1:]\n",
    "\n",
    "\n",
    "# merge mod=True with baseline (mod=False) so that each record has 2 cols: metric_baseline and metric\n",
    "# We then use these 2 cols to calculate relative metrics\n",
    "res[\"baseline_name\"] = res[\"base_name\"].apply(lambda x: get_base_name(x))\n",
    "\n",
    "## Index name for non-baseline exp\n",
    "# Create the new column with name and index using groupby and cumcount\n",
    "res[\"indexed_basename\"] = (\n",
    "    res.groupby(\"baseline_name\").cumcount().apply(lambda x: f\"_{x}\")\n",
    ")\n",
    "\n",
    "# Concatenate the original 'name' column with the new suffix\n",
    "res[\"indexed_basename\"] = res[\"baseline_name\"] + res[\"indexed_basename\"]"
   ]
  },
  {
   "cell_type": "code",
   "execution_count": 55,
   "metadata": {},
   "outputs": [
    {
     "data": {
      "text/html": [
       "<div>\n",
       "<style scoped>\n",
       "    .dataframe tbody tr th:only-of-type {\n",
       "        vertical-align: middle;\n",
       "    }\n",
       "\n",
       "    .dataframe tbody tr th {\n",
       "        vertical-align: top;\n",
       "    }\n",
       "\n",
       "    .dataframe thead th {\n",
       "        text-align: right;\n",
       "    }\n",
       "</style>\n",
       "<table border=\"1\" class=\"dataframe\">\n",
       "  <thead>\n",
       "    <tr style=\"text-align: right;\">\n",
       "      <th></th>\n",
       "      <th>unique_illegal_frac</th>\n",
       "      <th>illegal_prob</th>\n",
       "      <th>is_base</th>\n",
       "      <th>base_name</th>\n",
       "      <th>baseline_name</th>\n",
       "      <th>indexed_basename</th>\n",
       "    </tr>\n",
       "  </thead>\n",
       "  <tbody>\n",
       "    <tr>\n",
       "      <th>5</th>\n",
       "      <td>0.003506</td>\n",
       "      <td>0.0090</td>\n",
       "      <td>False</td>\n",
       "      <td>1_0.009__diff_true.json.gz</td>\n",
       "      <td>b_0.009__diff_true.json.gz</td>\n",
       "      <td>b_0.009__diff_true.json.gz_0</td>\n",
       "    </tr>\n",
       "    <tr>\n",
       "      <th>6</th>\n",
       "      <td>0.000077</td>\n",
       "      <td>0.0001</td>\n",
       "      <td>False</td>\n",
       "      <td>1_0.0001__diff_true.json.gz</td>\n",
       "      <td>b_0.0001__diff_true.json.gz</td>\n",
       "      <td>b_0.0001__diff_true.json.gz_0</td>\n",
       "    </tr>\n",
       "    <tr>\n",
       "      <th>7</th>\n",
       "      <td>0.003814</td>\n",
       "      <td>0.0100</td>\n",
       "      <td>False</td>\n",
       "      <td>1_0.01__diff_true.json.gz</td>\n",
       "      <td>b_0.01__diff_true.json.gz</td>\n",
       "      <td>b_0.01__diff_true.json.gz_0</td>\n",
       "    </tr>\n",
       "    <tr>\n",
       "      <th>10</th>\n",
       "      <td>0.000104</td>\n",
       "      <td>0.0003</td>\n",
       "      <td>False</td>\n",
       "      <td>1_0.0003__diff_true.json.gz</td>\n",
       "      <td>b_0.0003__diff_true.json.gz</td>\n",
       "      <td>b_0.0003__diff_true.json.gz_0</td>\n",
       "    </tr>\n",
       "    <tr>\n",
       "      <th>15</th>\n",
       "      <td>0.000542</td>\n",
       "      <td>0.0020</td>\n",
       "      <td>False</td>\n",
       "      <td>1_0.002__diff_true.json.gz</td>\n",
       "      <td>b_0.002__diff_true.json.gz</td>\n",
       "      <td>b_0.002__diff_true.json.gz_0</td>\n",
       "    </tr>\n",
       "  </tbody>\n",
       "</table>\n",
       "</div>"
      ],
      "text/plain": [
       "    unique_illegal_frac  illegal_prob  is_base                    base_name  \\\n",
       "5              0.003506        0.0090    False   1_0.009__diff_true.json.gz   \n",
       "6              0.000077        0.0001    False  1_0.0001__diff_true.json.gz   \n",
       "7              0.003814        0.0100    False    1_0.01__diff_true.json.gz   \n",
       "10             0.000104        0.0003    False  1_0.0003__diff_true.json.gz   \n",
       "15             0.000542        0.0020    False   1_0.002__diff_true.json.gz   \n",
       "\n",
       "                  baseline_name               indexed_basename  \n",
       "5    b_0.009__diff_true.json.gz   b_0.009__diff_true.json.gz_0  \n",
       "6   b_0.0001__diff_true.json.gz  b_0.0001__diff_true.json.gz_0  \n",
       "7     b_0.01__diff_true.json.gz    b_0.01__diff_true.json.gz_0  \n",
       "10  b_0.0003__diff_true.json.gz  b_0.0003__diff_true.json.gz_0  \n",
       "15   b_0.002__diff_true.json.gz   b_0.002__diff_true.json.gz_0  "
      ]
     },
     "execution_count": 55,
     "metadata": {},
     "output_type": "execute_result"
    }
   ],
   "source": [
    "res.head()"
   ]
  },
  {
   "cell_type": "code",
   "execution_count": 56,
   "metadata": {},
   "outputs": [
    {
     "data": {
      "text/plain": [
       "array(['b_0.009__diff_true.json.gz_0', 'b_0.0001__diff_true.json.gz_0',\n",
       "       'b_0.01__diff_true.json.gz_0', 'b_0.0003__diff_true.json.gz_0',\n",
       "       'b_0.002__diff_true.json.gz_0', 'b_0.009__diff_true.json.gz_1',\n",
       "       'b_0.001__diff_true.json.gz_0', 'b_0.01__diff_true.json.gz_1',\n",
       "       'b_0.0009__diff_true.json.gz_0', 'b_0.002__diff_true.json.gz_1',\n",
       "       'b_0.009__diff_true.json.gz_2', 'b_0.001__diff_true.json.gz_1',\n",
       "       'b_0.01__diff_true.json.gz_2', 'b_0.0009__diff_true.json.gz_1',\n",
       "       'b_0.002__diff_true.json.gz_2', 'b_0.009__diff_true.json.gz_3',\n",
       "       'b_0.01__diff_true.json.gz_3', 'b_0.0009__diff_true.json.gz_2',\n",
       "       'b_0.0003__diff_true.json.gz_1', 'b_0.009__diff_true.json.gz_4',\n",
       "       'b_0.001__diff_true.json.gz_2', 'b_0.01__diff_true.json.gz_4',\n",
       "       'b_0.0009__diff_true.json.gz_3', 'b_0.002__diff_true.json.gz_3',\n",
       "       'b_0.009__diff_true.json.gz_5', 'b_0.01__diff_true.json.gz_5',\n",
       "       'b_0.0009__diff_true.json.gz_4', 'b_0.002__diff_true.json.gz_4',\n",
       "       'b_0.009__diff_true.json.gz_6', 'b_0.01__diff_true.json.gz_6',\n",
       "       'b_0.0009__diff_true.json.gz_5', 'b_0.002__diff_true.json.gz_5',\n",
       "       'b_0.001__diff_true.json.gz_3', 'b_0.0001__diff_true.json.gz_1',\n",
       "       'b_0.01__diff_true.json.gz_7', 'b_0.0009__diff_true.json.gz_6',\n",
       "       'b_0.0003__diff_true.json.gz_2', 'b_0.002__diff_true.json.gz_6',\n",
       "       'b_0.009__diff_true.json.gz_7', 'b_0.001__diff_true.json.gz_4',\n",
       "       'b_0.01__diff_true.json.gz_8', 'b_0.0009__diff_true.json.gz_7',\n",
       "       'b_0.0003__diff_true.json.gz_3', 'b_0.002__diff_true.json.gz_7',\n",
       "       'b_0.009__diff_true.json.gz_8', 'b_0.001__diff_true.json.gz_5',\n",
       "       'b_0.0001__diff_true.json.gz_2', 'b_0.01__diff_true.json.gz_9',\n",
       "       'b_0.0009__diff_true.json.gz_8', 'b_0.002__diff_true.json.gz_8',\n",
       "       'b_0.009__diff_true.json.gz_9', 'b_0.001__diff_true.json.gz_6',\n",
       "       'b_0.0001__diff_true.json.gz_3', 'b_0.01__diff_true.json.gz_10',\n",
       "       'b_0.0009__diff_true.json.gz_9', 'b_0.0003__diff_true.json.gz_4',\n",
       "       'b_0.009__diff_true.json.gz_10', 'b_0.001__diff_true.json.gz_7',\n",
       "       'b_0.01__diff_true.json.gz_11', 'b_0.0009__diff_true.json.gz_10',\n",
       "       'b_0.0003__diff_true.json.gz_5', 'b_0.002__diff_true.json.gz_9',\n",
       "       'b_0.009__diff_true.json.gz_11', 'b_0.001__diff_true.json.gz_8',\n",
       "       'b_0.0001__diff_true.json.gz_4', 'b_0.01__diff_true.json.gz_12',\n",
       "       'b_0.0009__diff_true.json.gz_11', 'b_0.002__diff_true.json.gz_10',\n",
       "       'b_0.009__diff_true.json.gz_12', 'b_0.001__diff_true.json.gz_9',\n",
       "       'b_0.01__diff_true.json.gz_13', 'b_0.0009__diff_true.json.gz_12',\n",
       "       'b_0.002__diff_true.json.gz_11', 'b_0.009__diff_true.json.gz_13',\n",
       "       'b_0.01__diff_true.json.gz_14', 'b_0.0009__diff_true.json.gz_13',\n",
       "       'b_0.009__diff_true.json.gz_14', 'b_0.01__diff_true.json.gz_15',\n",
       "       'b_0.0009__diff_true.json.gz_14', 'b_0.0003__diff_true.json.gz_6',\n",
       "       'b_0.002__diff_true.json.gz_12', 'b_0.009__diff_true.json.gz_15',\n",
       "       'b_0.001__diff_true.json.gz_10', 'b_0.01__diff_true.json.gz_16',\n",
       "       'b_0.0003__diff_true.json.gz_7', 'b_0.002__diff_true.json.gz_13',\n",
       "       'b_0.009__diff_true.json.gz_16', 'b_0.001__diff_true.json.gz_11',\n",
       "       'b_0.01__diff_true.json.gz_17', 'b_0.002__diff_true.json.gz_14',\n",
       "       'b_0.0003__diff_true.json.gz_8', 'b_0.002__diff_true.json.gz_15',\n",
       "       'b_0.01__diff_true.json.gz_18', 'b_0.009__diff_true.json.gz_17',\n",
       "       'b_0.0003__diff_true.json.gz_9', 'b_0.002__diff_true.json.gz_16',\n",
       "       'b_0.009__diff_true.json.gz_18', 'b_0.01__diff_true.json.gz_19',\n",
       "       'b_0.0009__diff_true.json.gz_15', 'b_0.009__diff_true.json.gz_19',\n",
       "       'b_0.002__diff_true.json.gz_17', 'b_0.01__diff_true.json.gz_20',\n",
       "       'b_0.0009__diff_true.json.gz_16', 'b_0.009__diff_true.json.gz_20',\n",
       "       'b_0.0001__diff_true.json.gz_5', 'b_0.01__diff_true.json.gz_21',\n",
       "       'b_0.0009__diff_true.json.gz_17', 'b_0.002__diff_true.json.gz_18',\n",
       "       'b_0.01__diff_true.json.gz_22', 'b_0.009__diff_true.json.gz_21',\n",
       "       'b_0.009__diff_true.json.gz_22', 'b_0.01__diff_true.json.gz_23',\n",
       "       'b_0.009__diff_true.json.gz_23', 'b_0.001__diff_true.json.gz_12',\n",
       "       'b_0.01__diff_true.json.gz_24', 'b_0.002__diff_true.json.gz_19',\n",
       "       'b_0.009__diff_true.json.gz_24', 'b_0.01__diff_true.json.gz_25',\n",
       "       'b_0.002__diff_true.json.gz_20', 'b_0.009__diff_true.json.gz_25',\n",
       "       'b_0.0001__diff_true.json.gz_6', 'b_0.01__diff_true.json.gz_26',\n",
       "       'b_0.002__diff_true.json.gz_21', 'b_0.009__diff_true.json.gz_26',\n",
       "       'b_0.01__diff_true.json.gz_27', 'b_0.01__diff_true.json.gz_28',\n",
       "       'b_0.0009__diff_true.json.gz_18', 'b_0.009__diff_true.json.gz_27',\n",
       "       'b_0.01__diff_true.json.gz_29', 'b_0.009__diff_true.json.gz_28',\n",
       "       'b_0.0001__diff_true.json.gz_7', 'b_0.0009__diff_true.json.gz_19',\n",
       "       'b_0.0009__diff_true.json.gz_20', 'b_0.002__diff_true.json.gz_22',\n",
       "       'b_0.001__diff_true.json.gz_13', 'b_0.0009__diff_true.json.gz_21',\n",
       "       'b_0.0009__diff_true.json.gz_22', 'b_0.0003__diff_true.json.gz_10',\n",
       "       'b_0.002__diff_true.json.gz_23', 'b_0.009__diff_true.json.gz_29',\n",
       "       'b_0.001__diff_true.json.gz_14', 'b_0.01__diff_true.json.gz_30',\n",
       "       'b_0.009__diff_true.json.gz_30', 'b_0.01__diff_true.json.gz_31'],\n",
       "      dtype=object)"
      ]
     },
     "execution_count": 56,
     "metadata": {},
     "output_type": "execute_result"
    }
   ],
   "source": [
    "res.indexed_basename.unique()"
   ]
  },
  {
   "cell_type": "markdown",
   "metadata": {},
   "source": [
    "## Data frame of removal-no removal pairs for scatter plot"
   ]
  },
  {
   "cell_type": "code",
   "execution_count": 58,
   "metadata": {},
   "outputs": [
    {
     "data": {
      "text/html": [
       "<div>\n",
       "<style scoped>\n",
       "    .dataframe tbody tr th:only-of-type {\n",
       "        vertical-align: middle;\n",
       "    }\n",
       "\n",
       "    .dataframe tbody tr th {\n",
       "        vertical-align: top;\n",
       "    }\n",
       "\n",
       "    .dataframe thead th {\n",
       "        text-align: right;\n",
       "    }\n",
       "</style>\n",
       "<table border=\"1\" class=\"dataframe\">\n",
       "  <thead>\n",
       "    <tr style=\"text-align: right;\">\n",
       "      <th></th>\n",
       "      <th>indexed_basename</th>\n",
       "      <th>base_name</th>\n",
       "      <th>baseline_unique_illegal_frac</th>\n",
       "      <th>illegal_prob</th>\n",
       "      <th>unique_illegal_frac</th>\n",
       "    </tr>\n",
       "  </thead>\n",
       "  <tbody>\n",
       "    <tr>\n",
       "      <th>0</th>\n",
       "      <td>b_0.0009__diff_true.json.gz_0</td>\n",
       "      <td>b_0.0009__diff_true.json.gz</td>\n",
       "      <td>0.001216</td>\n",
       "      <td>0.0009</td>\n",
       "      <td>0.000305</td>\n",
       "    </tr>\n",
       "    <tr>\n",
       "      <th>1</th>\n",
       "      <td>b_0.002__diff_true.json.gz_0</td>\n",
       "      <td>b_0.002__diff_true.json.gz</td>\n",
       "      <td>0.001807</td>\n",
       "      <td>0.0020</td>\n",
       "      <td>0.000542</td>\n",
       "    </tr>\n",
       "    <tr>\n",
       "      <th>2</th>\n",
       "      <td>b_0.01__diff_true.json.gz_0</td>\n",
       "      <td>b_0.01__diff_true.json.gz</td>\n",
       "      <td>0.009838</td>\n",
       "      <td>0.0100</td>\n",
       "      <td>0.003814</td>\n",
       "    </tr>\n",
       "    <tr>\n",
       "      <th>3</th>\n",
       "      <td>b_0.0001__diff_true.json.gz_0</td>\n",
       "      <td>b_0.0001__diff_true.json.gz</td>\n",
       "      <td>0.000155</td>\n",
       "      <td>0.0001</td>\n",
       "      <td>0.000077</td>\n",
       "    </tr>\n",
       "    <tr>\n",
       "      <th>4</th>\n",
       "      <td>b_0.001__diff_true.json.gz_0</td>\n",
       "      <td>b_0.001__diff_true.json.gz</td>\n",
       "      <td>0.000990</td>\n",
       "      <td>0.0010</td>\n",
       "      <td>0.000333</td>\n",
       "    </tr>\n",
       "  </tbody>\n",
       "</table>\n",
       "</div>"
      ],
      "text/plain": [
       "                indexed_basename                    base_name  \\\n",
       "0  b_0.0009__diff_true.json.gz_0  b_0.0009__diff_true.json.gz   \n",
       "1   b_0.002__diff_true.json.gz_0   b_0.002__diff_true.json.gz   \n",
       "2    b_0.01__diff_true.json.gz_0    b_0.01__diff_true.json.gz   \n",
       "3  b_0.0001__diff_true.json.gz_0  b_0.0001__diff_true.json.gz   \n",
       "4   b_0.001__diff_true.json.gz_0   b_0.001__diff_true.json.gz   \n",
       "\n",
       "   baseline_unique_illegal_frac  illegal_prob  unique_illegal_frac  \n",
       "0                      0.001216        0.0009             0.000305  \n",
       "1                      0.001807        0.0020             0.000542  \n",
       "2                      0.009838        0.0100             0.003814  \n",
       "3                      0.000155        0.0001             0.000077  \n",
       "4                      0.000990        0.0010             0.000333  "
      ]
     },
     "execution_count": 58,
     "metadata": {},
     "output_type": "execute_result"
    }
   ],
   "source": [
    "metric = \"unique_illegal_frac\"\n",
    "\n",
    "baseline = baseline.rename(columns={f\"{metric}\": f\"baseline_{metric}\"})\n",
    "focal_scatter = pd.merge(\n",
    "    baseline[[\"indexed_basename\", \"base_name\", f\"baseline_{metric}\"]],\n",
    "    res[\n",
    "        [\n",
    "            \"illegal_prob\",\n",
    "            \"indexed_basename\",\n",
    "            metric,\n",
    "        ]\n",
    "    ],\n",
    "    on=\"indexed_basename\",\n",
    "    how=\"left\",\n",
    ")\n",
    "focal_scatter.head()"
   ]
  },
  {
   "cell_type": "code",
   "execution_count": 59,
   "metadata": {},
   "outputs": [
    {
     "data": {
      "text/plain": [
       "array(['b_0.0009__diff_true.json.gz', 'b_0.002__diff_true.json.gz',\n",
       "       'b_0.01__diff_true.json.gz', 'b_0.0001__diff_true.json.gz',\n",
       "       'b_0.001__diff_true.json.gz', 'b_0.009__diff_true.json.gz',\n",
       "       'b_0.0003__diff_true.json.gz'], dtype=object)"
      ]
     },
     "execution_count": 59,
     "metadata": {},
     "output_type": "execute_result"
    }
   ],
   "source": [
    "focal_scatter.base_name.unique()"
   ]
  },
  {
   "cell_type": "code",
   "execution_count": 60,
   "metadata": {},
   "outputs": [
    {
     "data": {
      "text/plain": [
       "(150, 5)"
      ]
     },
     "execution_count": 60,
     "metadata": {},
     "output_type": "execute_result"
    }
   ],
   "source": [
    "focal_scatter.shape"
   ]
  },
  {
   "cell_type": "markdown",
   "metadata": {},
   "source": [
    "# Check volume of actual illegal vs illegal probability"
   ]
  },
  {
   "cell_type": "code",
   "execution_count": 62,
   "metadata": {},
   "outputs": [
    {
     "name": "stderr",
     "output_type": "stream",
     "text": [
      "/tmp/ipykernel_116861/2526349331.py:3: FutureWarning: The default value of numeric_only in DataFrame.corr is deprecated. In a future version, it will default to False. Select only valid columns or specify the value of numeric_only to silence this warning.\n",
      "  focal_scatter.corr()\n"
     ]
    },
    {
     "data": {
      "text/html": [
       "<div>\n",
       "<style scoped>\n",
       "    .dataframe tbody tr th:only-of-type {\n",
       "        vertical-align: middle;\n",
       "    }\n",
       "\n",
       "    .dataframe tbody tr th {\n",
       "        vertical-align: top;\n",
       "    }\n",
       "\n",
       "    .dataframe thead th {\n",
       "        text-align: right;\n",
       "    }\n",
       "</style>\n",
       "<table border=\"1\" class=\"dataframe\">\n",
       "  <thead>\n",
       "    <tr style=\"text-align: right;\">\n",
       "      <th></th>\n",
       "      <th>baseline_unique_illegal_frac</th>\n",
       "      <th>illegal_prob</th>\n",
       "      <th>unique_illegal_frac</th>\n",
       "    </tr>\n",
       "  </thead>\n",
       "  <tbody>\n",
       "    <tr>\n",
       "      <th>baseline_unique_illegal_frac</th>\n",
       "      <td>1.000000</td>\n",
       "      <td>0.996283</td>\n",
       "      <td>0.990746</td>\n",
       "    </tr>\n",
       "    <tr>\n",
       "      <th>illegal_prob</th>\n",
       "      <td>0.996283</td>\n",
       "      <td>1.000000</td>\n",
       "      <td>0.991247</td>\n",
       "    </tr>\n",
       "    <tr>\n",
       "      <th>unique_illegal_frac</th>\n",
       "      <td>0.990746</td>\n",
       "      <td>0.991247</td>\n",
       "      <td>1.000000</td>\n",
       "    </tr>\n",
       "  </tbody>\n",
       "</table>\n",
       "</div>"
      ],
      "text/plain": [
       "                              baseline_unique_illegal_frac  illegal_prob  \\\n",
       "baseline_unique_illegal_frac                      1.000000      0.996283   \n",
       "illegal_prob                                      0.996283      1.000000   \n",
       "unique_illegal_frac                               0.990746      0.991247   \n",
       "\n",
       "                              unique_illegal_frac  \n",
       "baseline_unique_illegal_frac             0.990746  \n",
       "illegal_prob                             0.991247  \n",
       "unique_illegal_frac                      1.000000  "
      ]
     },
     "execution_count": 62,
     "metadata": {},
     "output_type": "execute_result"
    }
   ],
   "source": [
    "# exclude exps that haven't finished\n",
    "focal_scatter = focal_scatter.dropna(subset=[\"illegal_prob\"])\n",
    "focal_scatter.corr()"
   ]
  },
  {
   "cell_type": "code",
   "execution_count": 65,
   "metadata": {},
   "outputs": [
    {
     "data": {
      "image/png": "[encoded data removed]",
      "text/plain": [
       "<Figure size 800x600 with 1 Axes>"
      ]
     },
     "metadata": {},
     "output_type": "display_data"
    }
   ],
   "source": [
    "import matplotlib.pyplot as plt\n",
    "\n",
    "BLUEPALETTE = [\n",
    "    \"#F18447\",\n",
    "    \"#3863AC\",\n",
    "    \"#209B8A\",\n",
    "    \"#550F6B\",\n",
    "    \"#F8D625\",\n",
    "    \"#BC3684\",\n",
    "    \"#808080\",\n",
    "    \"#000000\",\n",
    "]\n",
    "PLOT_DIR = \"plots\"\n",
    "if not os.path.exists(PLOT_DIR):\n",
    "    os.makedirs(PLOT_DIR)\n",
    "\n",
    "\n",
    "fpath = os.path.join(PLOT_DIR, \"violin_baseline_illegal_prob\")\n",
    "# plot_data= focal[~((focal.illegal_content_probability==0.0009) | (focal.illegal_content_probability==0.001))]\n",
    "moderation_half_life = 2\n",
    "\n",
    "plot_data = focal_scatter.dropna(subset=[\"illegal_prob\"])\n",
    "probs = set(plot_data.illegal_prob)\n",
    "\n",
    "fig, ax = plt.subplots(figsize=(8, 6))\n",
    "# ax.xaxis.set_major_locator(plt.LinearLocator(6))\n",
    "ax.xaxis.set_major_formatter(\"{x:.02f}\")\n",
    "\n",
    "violin = sns.violinplot(\n",
    "    data=plot_data,\n",
    "    x=\"illegal_prob\",\n",
    "    y=\"baseline_unique_illegal_frac\",\n",
    "    order=sorted(probs),\n",
    "    #                         scale='width',\n",
    "    inner=\"point\",\n",
    "    palette=BLUEPALETTE,\n",
    ")\n",
    "\n",
    "# # violin.set(yticklabels=[])\n",
    "# violin.tick_params(axis=\"x\", labelsize=20)\n",
    "# violin.tick_params(axis=\"y\", labelsize=20)\n",
    "# violin.set_ylabel(\"Relative illegal prevalence\", fontsize=25, labelpad=14)\n",
    "# violin.set_xlabel(\"Illegal content probability\", fontsize=25, labelpad=14)\n",
    "# patch_violinplot(ax, palette=BLUEPALETTE, n=len(probs))\n",
    "# point_violinplot(ax, palette=BLUEPALETTE, n=len(probs))\n",
    "# sns.despine(top=True, left=True, bottom=False)\n",
    "# # Saving\n",
    "# plt.tight_layout()\n",
    "\n",
    "# # fig = violin.get_figure()\n",
    "# # if fpath is not None:\n",
    "# #     fig.savefig(f\"{fpath}.pdf\")\n",
    "# #     fig.savefig(f\"{fpath}.png\")\n",
    "# # else:\n",
    "# #     plt.show()"
   ]
  },
  {
   "cell_type": "markdown",
   "metadata": {},
   "source": [
    "Looks correct. But the resulting unique illegal frac is not exactly equal to illegal content probability "
   ]
  },
  {
   "cell_type": "code",
   "execution_count": 66,
   "metadata": {},
   "outputs": [
    {
     "data": {
      "text/html": [
       "<div>\n",
       "<style scoped>\n",
       "    .dataframe tbody tr th:only-of-type {\n",
       "        vertical-align: middle;\n",
       "    }\n",
       "\n",
       "    .dataframe tbody tr th {\n",
       "        vertical-align: top;\n",
       "    }\n",
       "\n",
       "    .dataframe thead th {\n",
       "        text-align: right;\n",
       "    }\n",
       "</style>\n",
       "<table border=\"1\" class=\"dataframe\">\n",
       "  <thead>\n",
       "    <tr style=\"text-align: right;\">\n",
       "      <th></th>\n",
       "      <th>baseline_unique_illegal_frac</th>\n",
       "      <th>illegal_prob</th>\n",
       "      <th>unique_illegal_frac</th>\n",
       "    </tr>\n",
       "  </thead>\n",
       "  <tbody>\n",
       "    <tr>\n",
       "      <th>count</th>\n",
       "      <td>135.000000</td>\n",
       "      <td>135.000000</td>\n",
       "      <td>135.000000</td>\n",
       "    </tr>\n",
       "    <tr>\n",
       "      <th>mean</th>\n",
       "      <td>0.004724</td>\n",
       "      <td>0.004690</td>\n",
       "      <td>0.001762</td>\n",
       "    </tr>\n",
       "    <tr>\n",
       "      <th>std</th>\n",
       "      <td>0.004251</td>\n",
       "      <td>0.004204</td>\n",
       "      <td>0.001581</td>\n",
       "    </tr>\n",
       "    <tr>\n",
       "      <th>min</th>\n",
       "      <td>0.000026</td>\n",
       "      <td>0.000100</td>\n",
       "      <td>0.000025</td>\n",
       "    </tr>\n",
       "    <tr>\n",
       "      <th>25%</th>\n",
       "      <td>0.000977</td>\n",
       "      <td>0.000900</td>\n",
       "      <td>0.000358</td>\n",
       "    </tr>\n",
       "    <tr>\n",
       "      <th>50%</th>\n",
       "      <td>0.002023</td>\n",
       "      <td>0.002000</td>\n",
       "      <td>0.000782</td>\n",
       "    </tr>\n",
       "    <tr>\n",
       "      <th>75%</th>\n",
       "      <td>0.009319</td>\n",
       "      <td>0.009000</td>\n",
       "      <td>0.003419</td>\n",
       "    </tr>\n",
       "    <tr>\n",
       "      <th>max</th>\n",
       "      <td>0.011292</td>\n",
       "      <td>0.010000</td>\n",
       "      <td>0.004638</td>\n",
       "    </tr>\n",
       "  </tbody>\n",
       "</table>\n",
       "</div>"
      ],
      "text/plain": [
       "       baseline_unique_illegal_frac  illegal_prob  unique_illegal_frac\n",
       "count                    135.000000    135.000000           135.000000\n",
       "mean                       0.004724      0.004690             0.001762\n",
       "std                        0.004251      0.004204             0.001581\n",
       "min                        0.000026      0.000100             0.000025\n",
       "25%                        0.000977      0.000900             0.000358\n",
       "50%                        0.002023      0.002000             0.000782\n",
       "75%                        0.009319      0.009000             0.003419\n",
       "max                        0.011292      0.010000             0.004638"
      ]
     },
     "execution_count": 66,
     "metadata": {},
     "output_type": "execute_result"
    }
   ],
   "source": [
    "focal_scatter.describe()"
   ]
  },
  {
   "cell_type": "markdown",
   "metadata": {},
   "source": [
    "# Plot scatter"
   ]
  },
  {
   "cell_type": "code",
   "execution_count": 67,
   "metadata": {},
   "outputs": [
    {
     "data": {
      "text/plain": [
       "(1e-05, 0.1)"
      ]
     },
     "execution_count": 67,
     "metadata": {},
     "output_type": "execute_result"
    },
    {
     "data": {
      "image/png": "[encoded data removed]",
      "text/plain": [
       "<Figure size 800x500 with 1 Axes>"
      ]
     },
     "metadata": {},
     "output_type": "display_data"
    }
   ],
   "source": [
    "fig, ax = plt.subplots(figsize=(8, 5))\n",
    "scatterplot_data = focal_scatter\n",
    "x = scatterplot_data.baseline_unique_illegal_frac\n",
    "y = scatterplot_data.unique_illegal_frac\n",
    "ax.scatter(x, y, color=\"grey\", zorder=1, alpha=0.5)\n",
    "ax.set_xlabel(\"No removal\")\n",
    "ax.set_xlabel(\"Removal\")\n",
    "ax.set_xscale(\"log\")\n",
    "ax.set_yscale(\"log\")\n",
    "ax.set_ylim(1e-5, 1e-1)\n",
    "ax.set_xlim(1e-5, 1e-1)"
   ]
  },
  {
   "cell_type": "markdown",
   "metadata": {},
   "source": [
    "## Scatter with regression line"
   ]
  },
  {
   "cell_type": "code",
   "execution_count": 69,
   "metadata": {},
   "outputs": [
    {
     "name": "stdout",
     "output_type": "stream",
     "text": [
      "Slope: 0.92\n",
      "R-squared: 0.96\n",
      "p-val: 0.00\n",
      "std_err: 0.02\n",
      "MSE: 1.50e-02\n"
     ]
    },
    {
     "data": {
      "image/png": "[encoded data removed]",
      "text/plain": [
       "<Figure size 600x600 with 1 Axes>"
      ]
     },
     "metadata": {},
     "output_type": "display_data"
    }
   ],
   "source": [
    "import os\n",
    "import numpy as np\n",
    "import matplotlib.pyplot as plt\n",
    "from scipy.stats import linregress\n",
    "from sklearn.metrics import mean_squared_error\n",
    "\n",
    "plt.style.use(\"stylesheet_scatter.mplstyle\")\n",
    "\n",
    "PLOT_DIR = \"plots\"\n",
    "if not os.path.exists(PLOT_DIR):\n",
    "    os.makedirs(PLOT_DIR)\n",
    "\n",
    "fpath = os.path.join(PLOT_DIR, \"scatter_illegal_prob_regline_revised\")\n",
    "\n",
    "x_label = \"Illegal content prevalence (no removal)\"\n",
    "y_label = \"Illegal content prevalence (removal)\"\n",
    "\n",
    "fig, ax = plt.subplots(figsize=(6, 6))\n",
    "scatterplot_data = focal_scatter\n",
    "x = scatterplot_data.baseline_unique_illegal_frac\n",
    "y = scatterplot_data.unique_illegal_frac\n",
    "ax.scatter(x, y, color=\"grey\", zorder=1, alpha=0.7)\n",
    "ax.set_xscale(\"log\")\n",
    "ax.set_yscale(\"log\")\n",
    "\n",
    "# Perform linear regression\n",
    "slope, intercept, r_value, p_value, std_err = linregress(np.log10(x), np.log10(y))\n",
    "\n",
    "# Calculate predicted values and MSE\n",
    "y_pred = 10 ** (slope * np.log10(x) + intercept)\n",
    "mse = mean_squared_error(np.log10(y), np.log10(y_pred))\n",
    "\n",
    "# Plot the regression line\n",
    "x_vals = np.linspace(min(x), max(x), 100)\n",
    "y_vals = 10 ** (slope * np.log10(x_vals) + intercept)\n",
    "ax.plot(\n",
    "    x_vals,\n",
    "    y_vals,\n",
    "    color=\"black\",\n",
    "    linestyle=\"-\",\n",
    "    alpha=0.5,\n",
    "    linewidth=2,\n",
    "    label=f\"Regression line\",\n",
    ")\n",
    "# guiding line\n",
    "ax.plot(\n",
    "    [1e-5, 5e-2],\n",
    "    [1e-5, 5e-2],\n",
    "    color=\"grey\",\n",
    "    linewidth=1,\n",
    "    linestyle=\"--\",\n",
    "    alpha=0.5,\n",
    ")\n",
    "# # Print the coefficient and R-squared value on the plot\n",
    "# ax.text(0.05, 0.95, f'Slope: {slope:.2f}\\nR-squared: {r_value**2:.2f}\\np: {p_value**2:.2f}', transform=ax.transAxes, fontsize=12,\n",
    "#         verticalalignment='top', bbox=dict(boxstyle='round', facecolor='white', alpha=0.5))\n",
    "print(\n",
    "    f\"Slope: {slope:.2f}\\nR-squared: {r_value**2:.2f}\\np-val: {p_value**2:.2f}\\nstd_err: {std_err:.2f}\\nMSE: {mse:.2e}\"\n",
    ")\n",
    "\n",
    "ax.set_xlim(1e-5, 2e-2)\n",
    "ax.set_ylim(1e-5, 2e-2)\n",
    "\n",
    "# Plot dashed lines at specified values with alternating colors\n",
    "label_mapping = {\n",
    "    0.009: \"France (YT)\",\n",
    "    0.0003: \"Sweden (FB)\",\n",
    "    0.002: \"Sweden (YT)\",\n",
    "    0.001: \"Germany (YT)\",\n",
    "    0.0009: \"France (FB)\",\n",
    "}\n",
    "# Add labels to each point based on the mapping, only for the first occurrence\n",
    "labeled_probs = set()\n",
    "x_offsets = {\n",
    "    0.009: -0.0008,  # \"France (YT)\",\n",
    "    0.0003: -0.0002,  # \"Sweden (FB)\",\n",
    "    0.002: -0.0002,  # \"Sweden (YT)\",\n",
    "    0.001: -0.0002,  # \"Germany (YT)\",\n",
    "    0.0009: -0.0005,  # \"France (FB)\"\n",
    "}\n",
    "y_offsets = {\n",
    "    0.009: 0,  # \"France (YT)\",\n",
    "    0.0003: 0,  # \"Sweden (FB)\",\n",
    "    0.002: 0,  # \"Sweden (YT)\",\n",
    "    0.001: 0,  # \"Germany (YT)\",\n",
    "    0.0009: 0.001,  # \"France (FB)\"\n",
    "}\n",
    "\n",
    "for illegal_prob, label in label_mapping.items():\n",
    "    x_val = illegal_prob\n",
    "    x_offset = x_offsets[illegal_prob]\n",
    "    y_offset = y_offsets[illegal_prob]\n",
    "    if \"FB\" in label:\n",
    "        color = \"#3b5998\"\n",
    "        text_color = color\n",
    "    if \"YT\" in label:\n",
    "        color = \"#FF0000\"  # red\n",
    "        # text_color = \"black\"\n",
    "        text_color = color\n",
    "    ax.axvline(\n",
    "        x=x_val,\n",
    "        color=color,\n",
    "        linestyle=\"-\",\n",
    "        label=label,\n",
    "        alpha=0.7,\n",
    "        linewidth=5,\n",
    "        zorder=-1,\n",
    "    )\n",
    "    ax.text(\n",
    "        x_val + x_offset,\n",
    "        ax.get_ylim()[1] + y_offset,\n",
    "        label,\n",
    "        rotation=15,\n",
    "        verticalalignment=\"bottom\",\n",
    "        fontsize=10,\n",
    "        color=text_color,\n",
    "    )\n",
    "\n",
    "# Additional plot settings\n",
    "ax.set_xlabel(x_label)\n",
    "ax.set_ylabel(y_label)\n",
    "ax.tick_params(labelleft=True, labelright=False, left=True, right=True)\n",
    "# ax.xaxis.set_major_locator(plt.LogLocator(base=10, numticks=len(x) + 1))\n",
    "# ax.yaxis.set_major_locator(plt.LogLocator(base=10, numticks=len(y) + 1))\n",
    "sns.despine(top=True)\n",
    "plt.tight_layout()\n",
    "\n",
    "# Save the figure\n",
    "fig.savefig(f\"{fpath}.png\", dpi=300, bbox_inches=\"tight\")\n",
    "fig.savefig(f\"{fpath}.pdf\", dpi=300, bbox_inches=\"tight\")\n",
    "plt.show()"
   ]
  },
  {
   "cell_type": "markdown",
   "metadata": {},
   "source": []
  },
  {
   "cell_type": "markdown",
   "metadata": {},
   "source": [
    "# Archive: Scatter data\n",
    "Create df of removal - no removal pairs for scatter plot\n",
    "\n",
    "This way is simplier but it doesn't give the desired result"
   ]
  },
  {
   "cell_type": "markdown",
   "metadata": {},
   "source": [
    "## Baseline"
   ]
  },
  {
   "cell_type": "code",
   "execution_count": null,
   "metadata": {},
   "outputs": [
    {
     "data": {
      "text/plain": [
       "Index(['illegal_frac', 'unique_illegal_frac', 'illegal_count',\n",
       "       'unique_illegal_count', 'illegal_prob', 'is_base'],\n",
       "      dtype='object')"
      ]
     },
     "metadata": {},
     "output_type": "display_data"
    }
   ],
   "source": [
    "data.columns"
   ]
  },
  {
   "cell_type": "code",
   "execution_count": null,
   "metadata": {},
   "outputs": [],
   "source": [
    "#create a new column since illegal_prob is used as a dummy column\n",
    "# data['illegal_content_probability'] = data['illegal_prob']\n",
    "retain_cols = ['unique_illegal_frac', 'illegal_prob']\n",
    "baseline = data[data.is_base == True][retain_cols]"
   ]
  },
  {
   "cell_type": "code",
   "execution_count": null,
   "metadata": {},
   "outputs": [],
   "source": [
    "res = data[data.is_base == False][retain_cols]\n",
    "# ## Add baseline result to each row of removal result\n",
    "# baseline = baseline.drop(columns=[\"illegal_content_probability\"])\n",
    "# focal = pd.concat([res, baseline], axis=1)\n",
    "# new_baseline_cols = baseline.columns\n",
    "# focal[new_baseline_cols] = focal[new_baseline_cols].fillna(method=\"ffill\")"
   ]
  },
  {
   "cell_type": "code",
   "execution_count": null,
   "metadata": {},
   "outputs": [],
   "source": [
    "focal = baseline.merge(res, on=\"illegal_prob\", suffixes=(\"_base\", \"_removal\"))"
   ]
  },
  {
   "cell_type": "code",
   "execution_count": null,
   "metadata": {},
   "outputs": [
    {
     "data": {
      "text/plain": [
       "Index(['unique_illegal_frac_base', 'illegal_prob',\n",
       "       'unique_illegal_frac_removal'],\n",
       "      dtype='object')"
      ]
     },
     "metadata": {},
     "output_type": "display_data"
    }
   ],
   "source": [
    "focal.columns"
   ]
  },
  {
   "cell_type": "code",
   "execution_count": null,
   "metadata": {},
   "outputs": [
    {
     "data": {
      "text/html": [
       "<div>\n",
       "<style scoped>\n",
       "    .dataframe tbody tr th:only-of-type {\n",
       "        vertical-align: middle;\n",
       "    }\n",
       "\n",
       "    .dataframe tbody tr th {\n",
       "        vertical-align: top;\n",
       "    }\n",
       "\n",
       "    .dataframe thead th {\n",
       "        text-align: right;\n",
       "    }\n",
       "</style>\n",
       "<table border=\"1\" class=\"dataframe\">\n",
       "  <thead>\n",
       "    <tr style=\"text-align: right;\">\n",
       "      <th></th>\n",
       "      <th>unique_illegal_frac_base</th>\n",
       "      <th>illegal_prob</th>\n",
       "      <th>unique_illegal_frac_removal</th>\n",
       "    </tr>\n",
       "  </thead>\n",
       "  <tbody>\n",
       "    <tr>\n",
       "      <th>0</th>\n",
       "      <td>0.001216</td>\n",
       "      <td>0.0009</td>\n",
       "      <td>0.000305</td>\n",
       "    </tr>\n",
       "    <tr>\n",
       "      <th>1</th>\n",
       "      <td>0.001216</td>\n",
       "      <td>0.0009</td>\n",
       "      <td>0.000280</td>\n",
       "    </tr>\n",
       "    <tr>\n",
       "      <th>2</th>\n",
       "      <td>0.001216</td>\n",
       "      <td>0.0009</td>\n",
       "      <td>0.000390</td>\n",
       "    </tr>\n",
       "    <tr>\n",
       "      <th>3</th>\n",
       "      <td>0.001216</td>\n",
       "      <td>0.0009</td>\n",
       "      <td>0.000231</td>\n",
       "    </tr>\n",
       "    <tr>\n",
       "      <th>4</th>\n",
       "      <td>0.001216</td>\n",
       "      <td>0.0009</td>\n",
       "      <td>0.000386</td>\n",
       "    </tr>\n",
       "  </tbody>\n",
       "</table>\n",
       "</div>"
      ],
      "text/plain": [
       "   unique_illegal_frac_base  illegal_prob  unique_illegal_frac_removal\n",
       "0                  0.001216        0.0009                     0.000305\n",
       "1                  0.001216        0.0009                     0.000280\n",
       "2                  0.001216        0.0009                     0.000390\n",
       "3                  0.001216        0.0009                     0.000231\n",
       "4                  0.001216        0.0009                     0.000386"
      ]
     },
     "metadata": {},
     "output_type": "display_data"
    }
   ],
   "source": [
    "focal.head()"
   ]
  },
  {
   "cell_type": "code",
   "execution_count": null,
   "metadata": {},
   "outputs": [
    {
     "name": "stdout",
     "output_type": "stream",
     "text": [
      "len focal data:  3992\n",
      "len focal data:  163\n"
     ]
    }
   ],
   "source": [
    "print(\"len focal data: \", len(focal))\n",
    "focal=focal.drop_duplicates(subset=[\"unique_illegal_frac_base\"])\n",
    "print(\"len focal data: \", len(focal))"
   ]
  },
  {
   "cell_type": "code",
   "execution_count": null,
   "metadata": {},
   "outputs": [
    {
     "data": {
      "text/html": [
       "<div>\n",
       "<style scoped>\n",
       "    .dataframe tbody tr th:only-of-type {\n",
       "        vertical-align: middle;\n",
       "    }\n",
       "\n",
       "    .dataframe tbody tr th {\n",
       "        vertical-align: top;\n",
       "    }\n",
       "\n",
       "    .dataframe thead th {\n",
       "        text-align: right;\n",
       "    }\n",
       "</style>\n",
       "<table border=\"1\" class=\"dataframe\">\n",
       "  <thead>\n",
       "    <tr style=\"text-align: right;\">\n",
       "      <th></th>\n",
       "      <th>unique_illegal_frac_base</th>\n",
       "      <th>illegal_prob</th>\n",
       "      <th>unique_illegal_frac_removal</th>\n",
       "    </tr>\n",
       "  </thead>\n",
       "  <tbody>\n",
       "    <tr>\n",
       "      <th>0</th>\n",
       "      <td>0.001216</td>\n",
       "      <td>0.0009</td>\n",
       "      <td>0.000305</td>\n",
       "    </tr>\n",
       "    <tr>\n",
       "      <th>22</th>\n",
       "      <td>0.000874</td>\n",
       "      <td>0.0009</td>\n",
       "      <td>0.000305</td>\n",
       "    </tr>\n",
       "    <tr>\n",
       "      <th>44</th>\n",
       "      <td>0.000666</td>\n",
       "      <td>0.0009</td>\n",
       "      <td>0.000305</td>\n",
       "    </tr>\n",
       "    <tr>\n",
       "      <th>66</th>\n",
       "      <td>0.000981</td>\n",
       "      <td>0.0009</td>\n",
       "      <td>0.000305</td>\n",
       "    </tr>\n",
       "    <tr>\n",
       "      <th>88</th>\n",
       "      <td>0.000771</td>\n",
       "      <td>0.0009</td>\n",
       "      <td>0.000305</td>\n",
       "    </tr>\n",
       "  </tbody>\n",
       "</table>\n",
       "</div>"
      ],
      "text/plain": [
       "    unique_illegal_frac_base  illegal_prob  unique_illegal_frac_removal\n",
       "0                   0.001216        0.0009                     0.000305\n",
       "22                  0.000874        0.0009                     0.000305\n",
       "44                  0.000666        0.0009                     0.000305\n",
       "66                  0.000981        0.0009                     0.000305\n",
       "88                  0.000771        0.0009                     0.000305"
      ]
     },
     "metadata": {},
     "output_type": "display_data"
    }
   ],
   "source": [
    "focal.head()"
   ]
  },
  {
   "cell_type": "markdown",
   "metadata": {},
   "source": [
    "# Plot scatter"
   ]
  },
  {
   "cell_type": "code",
   "execution_count": null,
   "metadata": {},
   "outputs": [
    {
     "data": {
      "text/plain": [
       "(1e-05, 0.1)"
      ]
     },
     "metadata": {},
     "output_type": "display_data"
    },
    {
     "data": {
      "image/png": "[encoded data removed]",
      "text/plain": [
       "<Figure size 800x500 with 1 Axes>"
      ]
     },
     "metadata": {},
     "output_type": "display_data"
    }
   ],
   "source": [
    "import matplotlib.pyplot as plt\n",
    "fig, ax = plt.subplots(figsize=(8, 5))\n",
    "scatterplot_data = focal\n",
    "x = scatterplot_data.unique_illegal_frac_base\n",
    "y = scatterplot_data.unique_illegal_frac_removal\n",
    "ax.scatter(x, y, color=\"grey\", zorder=1, alpha=0.5)\n",
    "ax.set_xlabel(\"No removal\")\n",
    "ax.set_xlabel(\"Removal\")\n",
    "ax.set_xscale(\"log\")\n",
    "ax.set_yscale(\"log\")\n",
    "ax.set_ylim(1e-5, 1e-1)\n",
    "ax.set_xlim(1e-5, 1e-1)"
   ]
  },
  {
   "cell_type": "code",
   "execution_count": null,
   "metadata": {},
   "outputs": [],
   "source": []
  }
 ],
 "metadata": {
  "kernelspec": {
   "display_name": "carisma",
   "language": "python",
   "name": "python3"
  },
  "language_info": {
   "codemirror_mode": {
    "name": "ipython",
    "version": 3
   },
   "file_extension": ".py",
   "mimetype": "text/x-python",
   "name": "python",
   "nbconvert_exporter": "python",
   "pygments_lexer": "ipython3",
   "version": "3.8.18"
  }
 },
 "nbformat": 4,
 "nbformat_minor": 2
}
