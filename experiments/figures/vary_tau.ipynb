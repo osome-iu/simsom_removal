{
 "cells": [
  {
   "cell_type": "markdown",
   "metadata": {},
   "source": [
    "# Plot the change in exposure reduction"
   ]
  },
  {
   "cell_type": "code",
   "execution_count": 1,
   "metadata": {},
   "outputs": [],
   "source": [
    "import simsom.utils as utils\n",
    "import numpy as np\n",
    "import pandas as pd\n",
    "import os\n",
    "import glob\n",
    "import matplotlib.pyplot as plt\n",
    "from plot_helpers import (\n",
    "    get_agg_metric,\n",
    "    patch_violinplot,\n",
    "    point_violinplot,\n",
    "    bonferroni_correction,\n",
    "    get_corrected_p,\n",
    "    get_annotation,\n",
    "    add_annotation,\n",
    "    BLUEPALETTE,\n",
    ")"
   ]
  },
  {
   "cell_type": "markdown",
   "metadata": {},
   "source": [
    "# Read data: prevalence "
   ]
  },
  {
   "cell_type": "code",
   "execution_count": 2,
   "metadata": {},
   "outputs": [],
   "source": [
    "exp_type = \"vary_tau\"\n",
    "data = pd.read_parquet(f\"data/{exp_type}_prevalence.parquet\")"
   ]
  },
  {
   "cell_type": "markdown",
   "metadata": {},
   "source": [
    "## Agg baseline results"
   ]
  },
  {
   "cell_type": "code",
   "execution_count": 3,
   "metadata": {},
   "outputs": [
    {
     "name": "stdout",
     "output_type": "stream",
     "text": [
      "Filtering none-baseline results...\n"
     ]
    }
   ],
   "source": [
    "result = data\n",
    "retain_cols = [\"unique_illegal_frac\", \"illegal_prob\", \"half_life\"]\n",
    "\n",
    "print(\"Filtering none-baseline results...\")\n",
    "res = result[result.half_life != -1][retain_cols]"
   ]
  },
  {
   "cell_type": "code",
   "execution_count": 4,
   "metadata": {},
   "outputs": [
    {
     "name": "stdout",
     "output_type": "stream",
     "text": [
      "Filter baseline results...\n"
     ]
    }
   ],
   "source": [
    "# BASELINE\n",
    "print(\"Filter baseline results...\")\n",
    "baseline = result[result.half_life == -1][\"unique_illegal_frac\"]\n",
    "# bootstrap sample baseline to get the same number of samples as the treatment\n",
    "# baseline = baseline.sample(n=res.shape[0], replace=True, random_state=0)"
   ]
  },
  {
   "cell_type": "markdown",
   "metadata": {},
   "source": [
    "# Bootstrap"
   ]
  },
  {
   "cell_type": "code",
   "execution_count": 5,
   "metadata": {},
   "outputs": [],
   "source": [
    "def get_pct_change(baseline, treatment):\n",
    "    # Calculate means\n",
    "    mean_base = np.mean(baseline)\n",
    "    return (treatment - mean_base) / mean_base"
   ]
  },
  {
   "cell_type": "code",
   "execution_count": 6,
   "metadata": {},
   "outputs": [
    {
     "name": "stdout",
     "output_type": "stream",
     "text": [
      "Processing half_life: 16.0\n"
     ]
    },
    {
     "name": "stderr",
     "output_type": "stream",
     "text": [
      "Bootstrap half_life=16.0: 100%|██████████| 100/100 [00:00<00:00, 1576.95it/s]\n"
     ]
    },
    {
     "name": "stdout",
     "output_type": "stream",
     "text": [
      "Calculate bootstrap statistics...\n",
      "Mean: -0.08149330267687097, Std: 0.09396021601462026, CI: (-0.09991048217350404, -0.06307612318023789)\n",
      "Processing half_life: 32.0\n"
     ]
    },
    {
     "name": "stderr",
     "output_type": "stream",
     "text": [
      "Bootstrap half_life=32.0: 100%|██████████| 100/100 [00:00<00:00, 1608.49it/s]\n"
     ]
    },
    {
     "name": "stdout",
     "output_type": "stream",
     "text": [
      "Calculate bootstrap statistics...\n",
      "Mean: -0.02662384811985556, Std: 0.10654765789940333, CI: (-0.04750829713148651, -0.005739399108224616)\n",
      "Processing half_life: 128.0\n"
     ]
    },
    {
     "name": "stderr",
     "output_type": "stream",
     "text": [
      "Bootstrap half_life=128.0: 100%|██████████| 100/100 [00:00<00:00, 1615.45it/s]\n"
     ]
    },
    {
     "name": "stdout",
     "output_type": "stream",
     "text": [
      "Calculate bootstrap statistics...\n",
      "Mean: 0.02268056860121284, Std: 0.09022264871876422, CI: (0.004995991164134579, 0.040365146038291104)\n",
      "Processing half_life: 1.0\n"
     ]
    },
    {
     "name": "stderr",
     "output_type": "stream",
     "text": [
      "Bootstrap half_life=1.0: 100%|██████████| 100/100 [00:00<00:00, 1623.08it/s]\n"
     ]
    },
    {
     "name": "stdout",
     "output_type": "stream",
     "text": [
      "Calculate bootstrap statistics...\n",
      "Mean: -0.7065514652019153, Std: 0.05585179108723693, CI: (-0.7174989649566503, -0.6956039654471802)\n",
      "Processing half_life: 4.0\n"
     ]
    },
    {
     "name": "stderr",
     "output_type": "stream",
     "text": [
      "Bootstrap half_life=4.0: 100%|██████████| 100/100 [00:00<00:00, 1615.90it/s]\n"
     ]
    },
    {
     "name": "stdout",
     "output_type": "stream",
     "text": [
      "Calculate bootstrap statistics...\n",
      "Mean: -0.31518527505947125, Std: 0.1034368122295195, CI: (-0.3354599659679529, -0.2949105841509896)\n",
      "Processing half_life: 256.0\n"
     ]
    },
    {
     "name": "stderr",
     "output_type": "stream",
     "text": [
      "Bootstrap half_life=256.0: 100%|██████████| 100/100 [00:00<00:00, 1631.88it/s]\n"
     ]
    },
    {
     "name": "stdout",
     "output_type": "stream",
     "text": [
      "Calculate bootstrap statistics...\n",
      "Mean: -0.004699975550331309, Std: 0.13212195061709142, CI: (-0.0305972518995219, 0.021197300798859287)\n",
      "Processing half_life: 64.0\n"
     ]
    },
    {
     "name": "stderr",
     "output_type": "stream",
     "text": [
      "Bootstrap half_life=64.0: 100%|██████████| 100/100 [00:00<00:00, 1630.39it/s]\n"
     ]
    },
    {
     "name": "stdout",
     "output_type": "stream",
     "text": [
      "Calculate bootstrap statistics...\n",
      "Mean: -0.008996742572606305, Std: 0.11103396006401887, CI: (-0.030760553464684624, 0.012767068319472014)\n",
      "Processing half_life: 512.0\n"
     ]
    },
    {
     "name": "stderr",
     "output_type": "stream",
     "text": [
      "Bootstrap half_life=512.0: 100%|██████████| 100/100 [00:00<00:00, 1642.22it/s]\n"
     ]
    },
    {
     "name": "stdout",
     "output_type": "stream",
     "text": [
      "Calculate bootstrap statistics...\n",
      "Mean: -0.023061637398767876, Std: 0.1327895550981835, CI: (-0.049089771169136764, 0.002966496371601013)\n",
      "Processing half_life: 2.0\n"
     ]
    },
    {
     "name": "stderr",
     "output_type": "stream",
     "text": [
      "Bootstrap half_life=2.0: 100%|██████████| 100/100 [00:00<00:00, 1639.80it/s]\n"
     ]
    },
    {
     "name": "stdout",
     "output_type": "stream",
     "text": [
      "Calculate bootstrap statistics...\n",
      "Mean: -0.5300883507191758, Std: 0.11275382715222837, CI: (-0.552189208562149, -0.5079874928762026)\n",
      "Processing half_life: 8.0\n"
     ]
    },
    {
     "name": "stderr",
     "output_type": "stream",
     "text": [
      "Bootstrap half_life=8.0: 100%|██████████| 100/100 [00:00<00:00, 1630.53it/s]\n"
     ]
    },
    {
     "name": "stdout",
     "output_type": "stream",
     "text": [
      "Calculate bootstrap statistics...\n",
      "Mean: -0.21735210072938344, Std: 0.14030349814319262, CI: (-0.24485301780844668, -0.1898511836503202)\n",
      "Processing half_life: 0.5\n"
     ]
    },
    {
     "name": "stderr",
     "output_type": "stream",
     "text": [
      "Bootstrap half_life=0.5: 100%|██████████| 100/100 [00:00<00:00, 1657.02it/s]\n"
     ]
    },
    {
     "name": "stdout",
     "output_type": "stream",
     "text": [
      "Calculate bootstrap statistics...\n",
      "Mean: -0.8707582055592286, Std: 0.043905448875372156, CI: (-0.8793642838454616, -0.8621521272729955)\n",
      "Processing half_life: 0.25\n"
     ]
    },
    {
     "name": "stderr",
     "output_type": "stream",
     "text": [
      "Bootstrap half_life=0.25: 100%|██████████| 100/100 [00:00<00:00, 1660.90it/s]\n"
     ]
    },
    {
     "name": "stdout",
     "output_type": "stream",
     "text": [
      "Calculate bootstrap statistics...\n",
      "Mean: -0.9670048034506668, Std: 0.015817677721958627, CI: (-0.9701053213833742, -0.9639042855179593)\n",
      "Processing half_life: 0.0625\n"
     ]
    },
    {
     "name": "stderr",
     "output_type": "stream",
     "text": [
      "Bootstrap half_life=0.0625: 100%|██████████| 100/100 [00:00<00:00, 1641.03it/s]\n",
      "/geode2/home/u015/baotruon/BigRed200/conda/envs/simsomremoval/lib/python3.8/site-packages/scipy/stats/_distn_infrastructure.py:2343: RuntimeWarning: invalid value encountered in multiply\n",
      "  lower_bound = _a * scale + loc\n",
      "/geode2/home/u015/baotruon/BigRed200/conda/envs/simsomremoval/lib/python3.8/site-packages/scipy/stats/_distn_infrastructure.py:2344: RuntimeWarning: invalid value encountered in multiply\n",
      "  upper_bound = _b * scale + loc\n"
     ]
    },
    {
     "name": "stdout",
     "output_type": "stream",
     "text": [
      "Calculate bootstrap statistics...\n",
      "Mean: -1.0, Std: 0.0, CI: (nan, nan)\n",
      "Processing half_life: 0.125\n"
     ]
    },
    {
     "name": "stderr",
     "output_type": "stream",
     "text": [
      "Bootstrap half_life=0.125: 100%|██████████| 100/100 [00:00<00:00, 1645.06it/s]\n"
     ]
    },
    {
     "name": "stdout",
     "output_type": "stream",
     "text": [
      "Calculate bootstrap statistics...\n",
      "Mean: -0.9986036439059343, Std: 0.004936864616402057, CI: (-0.9995713411961537, -0.9976359466157149)\n"
     ]
    }
   ],
   "source": [
    "from scipy import stats\n",
    "from tqdm import tqdm\n",
    "import numpy as np\n",
    "\n",
    "# FIX NO RECORDS TO 50\n",
    "\n",
    "raw_bootstrap = []\n",
    "bootstrap_res = []\n",
    "metric = \"unique_illegal_frac\"\n",
    "for half_life in res.half_life.unique():\n",
    "    print(f\"Processing half_life: {half_life}\")\n",
    "    half_life_group = res[res.half_life == half_life]\n",
    "    # make sure 2 groups have the same number of records\n",
    "    no_records = min(\n",
    "        half_life_group.shape[0], baseline.shape[0]\n",
    "    )  # uncomment if using all records\n",
    "    baseline_vals = baseline[:no_records]\n",
    "    removal = half_life_group[:no_records][metric]\n",
    "    # create bootstrap sample of pair of observations\n",
    "    pct_changes = []\n",
    "    for i in tqdm(range(100), desc=f\"Bootstrap half_life={half_life}\"):\n",
    "\n",
    "        bs_removal = removal.sample(n=no_records, replace=True, random_state=0)\n",
    "        bs_baseline = baseline_vals.sample(n=no_records, replace=True, random_state=0)\n",
    "        pct_change = get_pct_change(bs_baseline, bs_removal)\n",
    "        record = {\n",
    "            \"bs_removal\": bs_removal,\n",
    "            \"bs_baseline\": bs_baseline,\n",
    "            \"pct_changes\": pct_changes,\n",
    "            \"half_life\": half_life,\n",
    "        }\n",
    "        raw_bootstrap.append(record)\n",
    "        pct_changes.append(pct_change)\n",
    "    print(\"Calculate bootstrap statistics...\")\n",
    "    pct_changes = np.array(pct_changes)\n",
    "    mu, sigma = np.mean(pct_changes), pct_changes.std(ddof=1)\n",
    "    N = len(pct_changes)\n",
    "    std = np.std(pct_changes)\n",
    "    ci = stats.norm.interval(0.95, loc=mu, scale=sigma / np.sqrt(N))\n",
    "    print(f\"Mean: {mu}, Std: {std}, CI: {ci}\")\n",
    "    bootstrap_res.append(\n",
    "        {\n",
    "            \"half_life\": half_life,\n",
    "            \"pct_mean\": mu,\n",
    "            \"std\": std,\n",
    "            \"lower\": ci[0],\n",
    "            \"upper\": ci[1],\n",
    "        }\n",
    "    )"
   ]
  },
  {
   "cell_type": "code",
   "execution_count": 7,
   "metadata": {},
   "outputs": [
    {
     "data": {
      "text/html": [
       "<div>\n",
       "<style scoped>\n",
       "    .dataframe tbody tr th:only-of-type {\n",
       "        vertical-align: middle;\n",
       "    }\n",
       "\n",
       "    .dataframe tbody tr th {\n",
       "        vertical-align: top;\n",
       "    }\n",
       "\n",
       "    .dataframe thead th {\n",
       "        text-align: right;\n",
       "    }\n",
       "</style>\n",
       "<table border=\"1\" class=\"dataframe\">\n",
       "  <thead>\n",
       "    <tr style=\"text-align: right;\">\n",
       "      <th></th>\n",
       "      <th>half_life</th>\n",
       "      <th>pct_mean</th>\n",
       "      <th>std</th>\n",
       "      <th>lower</th>\n",
       "      <th>upper</th>\n",
       "    </tr>\n",
       "  </thead>\n",
       "  <tbody>\n",
       "    <tr>\n",
       "      <th>12</th>\n",
       "      <td>0.0625</td>\n",
       "      <td>-1.000000</td>\n",
       "      <td>0.000000</td>\n",
       "      <td>NaN</td>\n",
       "      <td>NaN</td>\n",
       "    </tr>\n",
       "    <tr>\n",
       "      <th>13</th>\n",
       "      <td>0.1250</td>\n",
       "      <td>-0.998604</td>\n",
       "      <td>0.004937</td>\n",
       "      <td>-0.999571</td>\n",
       "      <td>-0.997636</td>\n",
       "    </tr>\n",
       "    <tr>\n",
       "      <th>11</th>\n",
       "      <td>0.2500</td>\n",
       "      <td>-0.967005</td>\n",
       "      <td>0.015818</td>\n",
       "      <td>-0.970105</td>\n",
       "      <td>-0.963904</td>\n",
       "    </tr>\n",
       "    <tr>\n",
       "      <th>10</th>\n",
       "      <td>0.5000</td>\n",
       "      <td>-0.870758</td>\n",
       "      <td>0.043905</td>\n",
       "      <td>-0.879364</td>\n",
       "      <td>-0.862152</td>\n",
       "    </tr>\n",
       "    <tr>\n",
       "      <th>3</th>\n",
       "      <td>1.0000</td>\n",
       "      <td>-0.706551</td>\n",
       "      <td>0.055852</td>\n",
       "      <td>-0.717499</td>\n",
       "      <td>-0.695604</td>\n",
       "    </tr>\n",
       "  </tbody>\n",
       "</table>\n",
       "</div>"
      ],
      "text/plain": [
       "    half_life  pct_mean       std     lower     upper\n",
       "12     0.0625 -1.000000  0.000000       NaN       NaN\n",
       "13     0.1250 -0.998604  0.004937 -0.999571 -0.997636\n",
       "11     0.2500 -0.967005  0.015818 -0.970105 -0.963904\n",
       "10     0.5000 -0.870758  0.043905 -0.879364 -0.862152\n",
       "3      1.0000 -0.706551  0.055852 -0.717499 -0.695604"
      ]
     },
     "execution_count": 7,
     "metadata": {},
     "output_type": "execute_result"
    }
   ],
   "source": [
    "bootstrap_df = pd.DataFrame(bootstrap_res).sort_values(by=\"half_life\")\n",
    "bootstrap_df.head()"
   ]
  },
  {
   "cell_type": "markdown",
   "metadata": {},
   "source": [
    "# Save prevalence plot data"
   ]
  },
  {
   "cell_type": "code",
   "execution_count": 8,
   "metadata": {},
   "outputs": [],
   "source": [
    "import matplotlib.pyplot as plt\n",
    "import seaborn as sns\n",
    "\n",
    "plt.style.use(\"stylesheet.mplstyle\")\n",
    "# yellow, pink, purple, blue, orange, teal\n",
    "# PALETTE = [\"#F8D625\", \"#BC3684\", \"#550F6B\", \"#3863AC\", \"#F18447\", \"#209B8A\"]\n",
    "# orange, purple, pink\n",
    "PALETTE = [\"#F18447\", \"#550F6B\", \"#BC3684\"]\n",
    "sns.set_palette(PALETTE)\n",
    "\n",
    "network_suffix = \"diff_true\"\n",
    "\n",
    "PLOT_DIR = \"plots_20241202_bootstrap_all\"\n",
    "if not os.path.exists(PLOT_DIR):\n",
    "    os.makedirs(PLOT_DIR)\n",
    "\n",
    "\n",
    "## Helper\n",
    "def draw_lines(\n",
    "    ax,\n",
    "    data,\n",
    "    line_name=\"hub\",\n",
    "    marker=\"\",\n",
    "    linewidth=1,\n",
    "    color=\"#F18447\",\n",
    "    absolute=True,\n",
    "):\n",
    "    \"\"\"\n",
    "    Input: data=(x,y, err)\n",
    "    line_name=['hub', 'none']\n",
    "    err: tuple of mean+error, mean-error. Could be std or CI95\n",
    "    \"\"\"\n",
    "    x, y, y_lower, y_upper = data\n",
    "    print(f\"Drawing line {line_name}\")\n",
    "    print(f\"X: {x}\")\n",
    "    print(f\"Y: {y}\")\n",
    "    print(f\"Y lower: {y_lower}\")\n",
    "    print(f\"Y upper: {y_upper}\")\n",
    "    if absolute:\n",
    "        y = np.array(y) * -1\n",
    "        y_lower = np.array(y_lower) * -1\n",
    "        y_upper = np.array(y_upper) * -1\n",
    "    ax.plot(x, y, label=line_name, marker=marker, color=color, linewidth=linewidth)\n",
    "    ax.fill_between(\n",
    "        x,\n",
    "        y_lower,\n",
    "        y_upper,\n",
    "        color=color,\n",
    "        alpha=0.3,\n",
    "    )\n",
    "    return"
   ]
  },
  {
   "cell_type": "code",
   "execution_count": 10,
   "metadata": {},
   "outputs": [],
   "source": [
    "prevalence_df = bootstrap_df\n",
    "metric_col = \"pct_mean\"\n",
    "pct = True\n",
    "x_col = \"half_life\"\n",
    "x = prevalence_df[x_col]  # content half life\n",
    "y = prevalence_df[f\"{metric_col}\"] if not pct else prevalence_df[f\"{metric_col}\"] * 100\n",
    "y_lower = prevalence_df[\"lower\"] if not pct else prevalence_df[\"lower\"] * 100\n",
    "y_upper = prevalence_df[\"upper\"] if not pct else prevalence_df[\"upper\"] * 100\n",
    "plot_data = zip(*sorted(zip(x, y, y_lower, y_upper), key=lambda x: x[0]))"
   ]
  },
  {
   "cell_type": "code",
   "execution_count": 11,
   "metadata": {},
   "outputs": [],
   "source": [
    "import pickle as pkl\n",
    "\n",
    "# x, y, y_lower, y_upper, xticks\n",
    "fpath = os.path.join(PLOT_DIR, f\"prevalence_plotdata.pkl\")\n",
    "prevalence_plot_data = {\n",
    "    \"x\": x,\n",
    "    \"y\": y,\n",
    "    \"y_lower\": y_lower,\n",
    "    \"y_upper\": y_upper,\n",
    "}\n",
    "with open(fpath, \"wb\") as f:\n",
    "    pkl.dump(prevalence_plot_data, f)"
   ]
  },
  {
   "cell_type": "markdown",
   "metadata": {},
   "source": [
    "# Read data: exposure"
   ]
  },
  {
   "cell_type": "code",
   "execution_count": 12,
   "metadata": {},
   "outputs": [],
   "source": [
    "exp_type = \"vary_tau\"\n",
    "exposure = pd.read_parquet(f\"data/{exp_type}_exposure.parquet\")"
   ]
  },
  {
   "cell_type": "markdown",
   "metadata": {},
   "source": [
    "# Preprocess exposure: get mean"
   ]
  },
  {
   "cell_type": "code",
   "execution_count": 14,
   "metadata": {},
   "outputs": [
    {
     "data": {
      "text/html": [
       "<div>\n",
       "<style scoped>\n",
       "    .dataframe tbody tr th:only-of-type {\n",
       "        vertical-align: middle;\n",
       "    }\n",
       "\n",
       "    .dataframe tbody tr th {\n",
       "        vertical-align: top;\n",
       "    }\n",
       "\n",
       "    .dataframe thead th {\n",
       "        text-align: right;\n",
       "    }\n",
       "</style>\n",
       "<table border=\"1\" class=\"dataframe\">\n",
       "  <thead>\n",
       "    <tr style=\"text-align: right;\">\n",
       "      <th></th>\n",
       "      <th>illegal_frac</th>\n",
       "      <th>unique_illegal_frac</th>\n",
       "      <th>illegal_count</th>\n",
       "      <th>unique_illegal_count</th>\n",
       "      <th>illegal_prob</th>\n",
       "      <th>half_life</th>\n",
       "    </tr>\n",
       "  </thead>\n",
       "  <tbody>\n",
       "    <tr>\n",
       "      <th>0</th>\n",
       "      <td>0.006931</td>\n",
       "      <td>0.008555</td>\n",
       "      <td>1039</td>\n",
       "      <td>45</td>\n",
       "      <td>0.01</td>\n",
       "      <td>-1.0</td>\n",
       "    </tr>\n",
       "    <tr>\n",
       "      <th>1</th>\n",
       "      <td>0.009853</td>\n",
       "      <td>0.009147</td>\n",
       "      <td>1477</td>\n",
       "      <td>46</td>\n",
       "      <td>0.01</td>\n",
       "      <td>16.0</td>\n",
       "    </tr>\n",
       "    <tr>\n",
       "      <th>2</th>\n",
       "      <td>0.009352</td>\n",
       "      <td>0.008408</td>\n",
       "      <td>1402</td>\n",
       "      <td>45</td>\n",
       "      <td>0.01</td>\n",
       "      <td>-1.0</td>\n",
       "    </tr>\n",
       "    <tr>\n",
       "      <th>3</th>\n",
       "      <td>0.011944</td>\n",
       "      <td>0.010405</td>\n",
       "      <td>1790</td>\n",
       "      <td>55</td>\n",
       "      <td>0.01</td>\n",
       "      <td>32.0</td>\n",
       "    </tr>\n",
       "    <tr>\n",
       "      <th>4</th>\n",
       "      <td>0.041925</td>\n",
       "      <td>0.011924</td>\n",
       "      <td>6285</td>\n",
       "      <td>60</td>\n",
       "      <td>0.01</td>\n",
       "      <td>-1.0</td>\n",
       "    </tr>\n",
       "  </tbody>\n",
       "</table>\n",
       "</div>"
      ],
      "text/plain": [
       "   illegal_frac  unique_illegal_frac  illegal_count  unique_illegal_count  \\\n",
       "0      0.006931             0.008555           1039                    45   \n",
       "1      0.009853             0.009147           1477                    46   \n",
       "2      0.009352             0.008408           1402                    45   \n",
       "3      0.011944             0.010405           1790                    55   \n",
       "4      0.041925             0.011924           6285                    60   \n",
       "\n",
       "  illegal_prob  half_life  \n",
       "0         0.01       -1.0  \n",
       "1         0.01       16.0  \n",
       "2         0.01       -1.0  \n",
       "3         0.01       32.0  \n",
       "4         0.01       -1.0  "
      ]
     },
     "execution_count": 14,
     "metadata": {},
     "output_type": "execute_result"
    }
   ],
   "source": [
    "exposure.head()"
   ]
  },
  {
   "cell_type": "code",
   "execution_count": 13,
   "metadata": {},
   "outputs": [
    {
     "ename": "KeyError",
     "evalue": "'no_exposures'",
     "output_type": "error",
     "traceback": [
      "\u001b[0;31m---------------------------------------------------------------------------\u001b[0m",
      "\u001b[0;31mKeyError\u001b[0m                                  Traceback (most recent call last)",
      "\u001b[0;32m/geode2/home/u015/baotruon/BigRed200/conda/envs/simsomremoval/lib/python3.8/site-packages/pandas/core/indexes/base.py\u001b[0m in \u001b[0;36mget_loc\u001b[0;34m(self, key)\u001b[0m\n\u001b[1;32m   3652\u001b[0m         \u001b[0;32mtry\u001b[0m\u001b[0;34m:\u001b[0m\u001b[0;34m\u001b[0m\u001b[0;34m\u001b[0m\u001b[0m\n\u001b[0;32m-> 3653\u001b[0;31m             \u001b[0;32mreturn\u001b[0m \u001b[0mself\u001b[0m\u001b[0;34m.\u001b[0m\u001b[0m_engine\u001b[0m\u001b[0;34m.\u001b[0m\u001b[0mget_loc\u001b[0m\u001b[0;34m(\u001b[0m\u001b[0mcasted_key\u001b[0m\u001b[0;34m)\u001b[0m\u001b[0;34m\u001b[0m\u001b[0;34m\u001b[0m\u001b[0m\n\u001b[0m\u001b[1;32m   3654\u001b[0m         \u001b[0;32mexcept\u001b[0m \u001b[0mKeyError\u001b[0m \u001b[0;32mas\u001b[0m \u001b[0merr\u001b[0m\u001b[0;34m:\u001b[0m\u001b[0;34m\u001b[0m\u001b[0;34m\u001b[0m\u001b[0m\n",
      "\u001b[0;32m/geode2/home/u015/baotruon/BigRed200/conda/envs/simsomremoval/lib/python3.8/site-packages/pandas/_libs/index.pyx\u001b[0m in \u001b[0;36mpandas._libs.index.IndexEngine.get_loc\u001b[0;34m()\u001b[0m\n",
      "\u001b[0;32m/geode2/home/u015/baotruon/BigRed200/conda/envs/simsomremoval/lib/python3.8/site-packages/pandas/_libs/index.pyx\u001b[0m in \u001b[0;36mpandas._libs.index.IndexEngine.get_loc\u001b[0;34m()\u001b[0m\n",
      "\u001b[0;32mpandas/_libs/hashtable_class_helper.pxi\u001b[0m in \u001b[0;36mpandas._libs.hashtable.PyObjectHashTable.get_item\u001b[0;34m()\u001b[0m\n",
      "\u001b[0;32mpandas/_libs/hashtable_class_helper.pxi\u001b[0m in \u001b[0;36mpandas._libs.hashtable.PyObjectHashTable.get_item\u001b[0;34m()\u001b[0m\n",
      "\u001b[0;31mKeyError\u001b[0m: 'no_exposures'",
      "\nThe above exception was the direct cause of the following exception:\n",
      "\u001b[0;31mKeyError\u001b[0m                                  Traceback (most recent call last)",
      "\u001b[0;32m<ipython-input-13-307345649901>\u001b[0m in \u001b[0;36m<cell line: 14>\u001b[0;34m()\u001b[0m\n\u001b[1;32m     16\u001b[0m         \u001b[0mdf\u001b[0m\u001b[0;34m[\u001b[0m\u001b[0mmetric\u001b[0m\u001b[0;34m]\u001b[0m \u001b[0;34m=\u001b[0m \u001b[0mdf\u001b[0m\u001b[0;34m[\u001b[0m\u001b[0mmetric\u001b[0m\u001b[0;34m]\u001b[0m\u001b[0;34m.\u001b[0m\u001b[0mapply\u001b[0m\u001b[0;34m(\u001b[0m\u001b[0;32mlambda\u001b[0m \u001b[0mx\u001b[0m\u001b[0;34m:\u001b[0m \u001b[0madjust_reshares\u001b[0m\u001b[0;34m(\u001b[0m\u001b[0mx\u001b[0m\u001b[0;34m)\u001b[0m\u001b[0;34m)\u001b[0m\u001b[0;34m\u001b[0m\u001b[0;34m\u001b[0m\u001b[0m\n\u001b[1;32m     17\u001b[0m     \u001b[0;31m# df[f\"{metric}_total\"] = df[metric].apply(lambda x: x.sum())\u001b[0m\u001b[0;34m\u001b[0m\u001b[0;34m\u001b[0m\u001b[0;34m\u001b[0m\u001b[0m\n\u001b[0;32m---> 18\u001b[0;31m     \u001b[0mdf\u001b[0m\u001b[0;34m[\u001b[0m\u001b[0;34mf\"{metric}_mean\"\u001b[0m\u001b[0;34m]\u001b[0m \u001b[0;34m=\u001b[0m \u001b[0mdf\u001b[0m\u001b[0;34m[\u001b[0m\u001b[0mmetric\u001b[0m\u001b[0;34m]\u001b[0m\u001b[0;34m.\u001b[0m\u001b[0mapply\u001b[0m\u001b[0;34m(\u001b[0m\u001b[0;32mlambda\u001b[0m \u001b[0mx\u001b[0m\u001b[0;34m:\u001b[0m \u001b[0mx\u001b[0m\u001b[0;34m.\u001b[0m\u001b[0mmean\u001b[0m\u001b[0;34m(\u001b[0m\u001b[0;34m)\u001b[0m\u001b[0;34m)\u001b[0m\u001b[0;34m\u001b[0m\u001b[0;34m\u001b[0m\u001b[0m\n\u001b[0m\u001b[1;32m     19\u001b[0m     \u001b[0;31m# df[f\"{metric}_std\"] = df[metric].apply(lambda x: x.std())\u001b[0m\u001b[0;34m\u001b[0m\u001b[0;34m\u001b[0m\u001b[0;34m\u001b[0m\u001b[0m\n",
      "\u001b[0;32m/geode2/home/u015/baotruon/BigRed200/conda/envs/simsomremoval/lib/python3.8/site-packages/pandas/core/frame.py\u001b[0m in \u001b[0;36m__getitem__\u001b[0;34m(self, key)\u001b[0m\n\u001b[1;32m   3759\u001b[0m             \u001b[0;32mif\u001b[0m \u001b[0mself\u001b[0m\u001b[0;34m.\u001b[0m\u001b[0mcolumns\u001b[0m\u001b[0;34m.\u001b[0m\u001b[0mnlevels\u001b[0m \u001b[0;34m>\u001b[0m \u001b[0;36m1\u001b[0m\u001b[0;34m:\u001b[0m\u001b[0;34m\u001b[0m\u001b[0;34m\u001b[0m\u001b[0m\n\u001b[1;32m   3760\u001b[0m                 \u001b[0;32mreturn\u001b[0m \u001b[0mself\u001b[0m\u001b[0;34m.\u001b[0m\u001b[0m_getitem_multilevel\u001b[0m\u001b[0;34m(\u001b[0m\u001b[0mkey\u001b[0m\u001b[0;34m)\u001b[0m\u001b[0;34m\u001b[0m\u001b[0;34m\u001b[0m\u001b[0m\n\u001b[0;32m-> 3761\u001b[0;31m             \u001b[0mindexer\u001b[0m \u001b[0;34m=\u001b[0m \u001b[0mself\u001b[0m\u001b[0;34m.\u001b[0m\u001b[0mcolumns\u001b[0m\u001b[0;34m.\u001b[0m\u001b[0mget_loc\u001b[0m\u001b[0;34m(\u001b[0m\u001b[0mkey\u001b[0m\u001b[0;34m)\u001b[0m\u001b[0;34m\u001b[0m\u001b[0;34m\u001b[0m\u001b[0m\n\u001b[0m\u001b[1;32m   3762\u001b[0m             \u001b[0;32mif\u001b[0m \u001b[0mis_integer\u001b[0m\u001b[0;34m(\u001b[0m\u001b[0mindexer\u001b[0m\u001b[0;34m)\u001b[0m\u001b[0;34m:\u001b[0m\u001b[0;34m\u001b[0m\u001b[0;34m\u001b[0m\u001b[0m\n\u001b[1;32m   3763\u001b[0m                 \u001b[0mindexer\u001b[0m \u001b[0;34m=\u001b[0m \u001b[0;34m[\u001b[0m\u001b[0mindexer\u001b[0m\u001b[0;34m]\u001b[0m\u001b[0;34m\u001b[0m\u001b[0;34m\u001b[0m\u001b[0m\n",
      "\u001b[0;32m/geode2/home/u015/baotruon/BigRed200/conda/envs/simsomremoval/lib/python3.8/site-packages/pandas/core/indexes/base.py\u001b[0m in \u001b[0;36mget_loc\u001b[0;34m(self, key)\u001b[0m\n\u001b[1;32m   3653\u001b[0m             \u001b[0;32mreturn\u001b[0m \u001b[0mself\u001b[0m\u001b[0;34m.\u001b[0m\u001b[0m_engine\u001b[0m\u001b[0;34m.\u001b[0m\u001b[0mget_loc\u001b[0m\u001b[0;34m(\u001b[0m\u001b[0mcasted_key\u001b[0m\u001b[0;34m)\u001b[0m\u001b[0;34m\u001b[0m\u001b[0;34m\u001b[0m\u001b[0m\n\u001b[1;32m   3654\u001b[0m         \u001b[0;32mexcept\u001b[0m \u001b[0mKeyError\u001b[0m \u001b[0;32mas\u001b[0m \u001b[0merr\u001b[0m\u001b[0;34m:\u001b[0m\u001b[0;34m\u001b[0m\u001b[0;34m\u001b[0m\u001b[0m\n\u001b[0;32m-> 3655\u001b[0;31m             \u001b[0;32mraise\u001b[0m \u001b[0mKeyError\u001b[0m\u001b[0;34m(\u001b[0m\u001b[0mkey\u001b[0m\u001b[0;34m)\u001b[0m \u001b[0;32mfrom\u001b[0m \u001b[0merr\u001b[0m\u001b[0;34m\u001b[0m\u001b[0;34m\u001b[0m\u001b[0m\n\u001b[0m\u001b[1;32m   3656\u001b[0m         \u001b[0;32mexcept\u001b[0m \u001b[0mTypeError\u001b[0m\u001b[0;34m:\u001b[0m\u001b[0;34m\u001b[0m\u001b[0;34m\u001b[0m\u001b[0m\n\u001b[1;32m   3657\u001b[0m             \u001b[0;31m# If we have a listlike key, _check_indexing_error will raise\u001b[0m\u001b[0;34m\u001b[0m\u001b[0;34m\u001b[0m\u001b[0;34m\u001b[0m\u001b[0m\n",
      "\u001b[0;31mKeyError\u001b[0m: 'no_exposures'"
     ]
    }
   ],
   "source": [
    "df = exposure\n",
    "df = df.reset_index()\n",
    "\n",
    "\n",
    "def adjust_reshares(x):\n",
    "    # Because the original poster is considered as the first reshare, every post gets 1 reshare even if it's removed immediately\n",
    "    # So we need to subtract 1 from all elements larger than 0\n",
    "    arr = np.array(x)\n",
    "    arr[arr > 0] -= 1\n",
    "    return arr\n",
    "\n",
    "\n",
    "all_metrics = [\"no_exposures\", \"no_reach\", \"no_reshares\", \"no_unique_reshares\"]\n",
    "for metric in all_metrics:\n",
    "    if \"reshares\" in metric:\n",
    "        df[metric] = df[metric].apply(lambda x: adjust_reshares(x))\n",
    "    # df[f\"{metric}_total\"] = df[metric].apply(lambda x: x.sum())\n",
    "    df[f\"{metric}_mean\"] = df[metric].apply(lambda x: x.mean())\n",
    "    # df[f\"{metric}_std\"] = df[metric].apply(lambda x: x.std())"
   ]
  },
  {
   "cell_type": "code",
   "execution_count": null,
   "metadata": {},
   "outputs": [
    {
     "data": {
      "text/plain": [
       "Index(['index', 'type', 'no_exposures', 'no_reach', 'no_reshares',\n",
       "       'no_unique_reshares', 'fpath', 'base_name', 'illegal_prob', 'delay',\n",
       "       'half_life', 'no_exposures_mean', 'no_reach_mean', 'no_reshares_mean',\n",
       "       'no_unique_reshares_mean'],\n",
       "      dtype='object')"
      ]
     },
     "execution_count": 25,
     "metadata": {},
     "output_type": "execute_result"
    }
   ],
   "source": [
    "df.columns"
   ]
  },
  {
   "cell_type": "markdown",
   "metadata": {},
   "source": [
    "## Plotting helper"
   ]
  },
  {
   "cell_type": "code",
   "execution_count": null,
   "metadata": {},
   "outputs": [],
   "source": [
    "# Function to convert days to the nearest unit, round to 0 decimal places\n",
    "def convert_days_to_nearest_unit(days, sep=\"\"):\n",
    "\n",
    "    if days <= 1.5 / 24:  # if around 90 minutes\n",
    "        return f\"{days * 24 * 60:.0f} {sep}minutes\"\n",
    "    elif days <= 1:\n",
    "        return f\"{days * 24:.0f} {sep}hours\"\n",
    "    else:\n",
    "        return f\"{days:.0f}{sep}d\""
   ]
  },
  {
   "cell_type": "markdown",
   "metadata": {},
   "source": [
    "# Make exposure plot data"
   ]
  },
  {
   "cell_type": "code",
   "execution_count": null,
   "metadata": {},
   "outputs": [],
   "source": [
    "from scipy import stats\n",
    "from tqdm import tqdm\n",
    "import numpy as np\n",
    "\n",
    "\n",
    "def make_plot_data(df, focal_metric=\"no_reshares\", random_state=0):\n",
    "    \"\"\"\n",
    "    agg_type: mean or total\n",
    "    metrics could be {no_unique_reshares_mean, no_unique_reshares_total}\n",
    "    Aggregation step to get the mean and std of the metrics for each delay value across runs\n",
    "    \"\"\"\n",
    "    ## BASELINE\n",
    "    # Agg baseline results: For each delay value, the baseline is engagement of normal messages\n",
    "    print(\"Filter baseline results...\")\n",
    "    # keep only information columns in metric of interest\n",
    "    retain_cols = [i for i in df.columns if (\"no\" not in i) or (focal_metric in i)]\n",
    "    baseline = df[(df.half_life == -1) & (df.type == \"illegal\")][focal_metric]\n",
    "\n",
    "    # NON-BASELINE\n",
    "    print(\"Filter treatment results...\")\n",
    "    res = df[(df.half_life != -1) & (df.type == \"illegal\")][retain_cols]\n",
    "\n",
    "    raw_bootstrap = []\n",
    "    bootstrap_res = []\n",
    "\n",
    "    for half_life in res.half_life.unique():\n",
    "        print(f\"Processing half_life: {half_life}\")\n",
    "        half_life_group = res[res.half_life == half_life]\n",
    "        # make sure 2 groups have the same number of records\n",
    "        no_records = min(\n",
    "            half_life_group.shape[0], baseline.shape[0]\n",
    "        )  # uncomment if using all records\n",
    "        baseline_vals = baseline[:no_records]\n",
    "        removal = half_life_group[:no_records][focal_metric]\n",
    "        # create bootstrap sample of pair of observations\n",
    "        pct_changes = []\n",
    "        for i in tqdm(range(100), desc=f\"Bootstrap half_life={half_life}\"):\n",
    "\n",
    "            bs_removal = removal.sample(\n",
    "                n=no_records, replace=True, random_state=random_state\n",
    "            )\n",
    "            bs_baseline = baseline_vals.sample(\n",
    "                n=no_records, replace=True, random_state=random_state\n",
    "            )\n",
    "            pct_change = get_pct_change(bs_baseline, bs_removal)\n",
    "            record = {\n",
    "                \"bs_removal\": bs_removal,\n",
    "                \"bs_baseline\": bs_baseline,\n",
    "                \"pct_changes\": pct_changes,\n",
    "                \"half_life\": half_life,\n",
    "            }\n",
    "            raw_bootstrap.append(record)\n",
    "            pct_changes.append(pct_change)\n",
    "        print(\"Calculate bootstrap statistics...\")\n",
    "        pct_changes = np.array(pct_changes)\n",
    "        mu, sigma = np.mean(pct_changes), pct_changes.std(ddof=1)\n",
    "        N = len(pct_changes)\n",
    "        std = np.std(pct_changes)\n",
    "        ci = stats.norm.interval(0.95, loc=mu, scale=sigma / np.sqrt(N))\n",
    "        print(f\"Mean: {mu}, Std: {std}, CI: {ci}\")\n",
    "        bootstrap_res.append(\n",
    "            {\n",
    "                \"half_life\": half_life,\n",
    "                \"pct_mean\": mu,\n",
    "                \"std\": std,\n",
    "                \"lower\": ci[0],\n",
    "                \"upper\": ci[1],\n",
    "            }\n",
    "        )\n",
    "        bootstrap_df = pd.DataFrame(bootstrap_res).sort_values(by=\"half_life\")\n",
    "    return bootstrap_df"
   ]
  },
  {
   "cell_type": "markdown",
   "metadata": {},
   "source": [
    "# Setting & Get plotting data for all metrics "
   ]
  },
  {
   "cell_type": "code",
   "execution_count": null,
   "metadata": {},
   "outputs": [
    {
     "name": "stdout",
     "output_type": "stream",
     "text": [
      "Filter baseline results...\n",
      "Filter treatment results...\n",
      "Processing half_life: 0.25\n"
     ]
    },
    {
     "name": "stderr",
     "output_type": "stream",
     "text": [
      "Bootstrap half_life=0.25: 100%|██████████| 100/100 [00:00<00:00, 1596.13it/s]\n"
     ]
    },
    {
     "name": "stdout",
     "output_type": "stream",
     "text": [
      "Calculate bootstrap statistics...\n",
      "Mean: -0.9830639467432782, Std: 0.0018314710070090944, CI: (-0.9834229443660824, -0.9827049491204741)\n",
      "Processing half_life: 32.0\n"
     ]
    },
    {
     "name": "stderr",
     "output_type": "stream",
     "text": [
      "Bootstrap half_life=32.0: 100%|██████████| 100/100 [00:00<00:00, 1630.52it/s]\n"
     ]
    },
    {
     "name": "stdout",
     "output_type": "stream",
     "text": [
      "Calculate bootstrap statistics...\n",
      "Mean: -0.5128306483519471, Std: 0.2027096155937097, CI: (-0.5525638411268757, -0.4730974555770185)\n",
      "Processing half_life: 1.0\n"
     ]
    },
    {
     "name": "stderr",
     "output_type": "stream",
     "text": [
      "Bootstrap half_life=1.0: 100%|██████████| 100/100 [00:00<00:00, 1648.43it/s]\n"
     ]
    },
    {
     "name": "stdout",
     "output_type": "stream",
     "text": [
      "Calculate bootstrap statistics...\n",
      "Mean: -0.8421716585562238, Std: 0.016248495994941395, CI: (-0.8453565234004254, -0.8389867937120221)\n",
      "Processing half_life: 16.0\n"
     ]
    },
    {
     "name": "stderr",
     "output_type": "stream",
     "text": [
      "Bootstrap half_life=16.0: 100%|██████████| 100/100 [00:00<00:00, 1579.45it/s]\n"
     ]
    },
    {
     "name": "stdout",
     "output_type": "stream",
     "text": [
      "Calculate bootstrap statistics...\n",
      "Mean: -0.573581860561673, Std: 0.08619753682248524, CI: (-0.5904774742071369, -0.5566862469162092)\n",
      "Processing half_life: 64.0\n"
     ]
    },
    {
     "name": "stderr",
     "output_type": "stream",
     "text": [
      "Bootstrap half_life=64.0: 100%|██████████| 100/100 [00:00<00:00, 1651.69it/s]\n"
     ]
    },
    {
     "name": "stdout",
     "output_type": "stream",
     "text": [
      "Calculate bootstrap statistics...\n",
      "Mean: -0.044839479434629605, Std: 3.040539548284144, CI: (-0.6408168515880461, 0.5511378927187869)\n",
      "Processing half_life: 512.0\n"
     ]
    },
    {
     "name": "stderr",
     "output_type": "stream",
     "text": [
      "Bootstrap half_life=512.0: 100%|██████████| 100/100 [00:00<00:00, 1672.76it/s]\n"
     ]
    },
    {
     "name": "stdout",
     "output_type": "stream",
     "text": [
      "Calculate bootstrap statistics...\n",
      "Mean: 0.19513491920872406, Std: 3.7768347666114424, CI: (-0.5451639729839447, 0.9354338114013928)\n",
      "Processing half_life: 256.0\n"
     ]
    },
    {
     "name": "stderr",
     "output_type": "stream",
     "text": [
      "Bootstrap half_life=256.0: 100%|██████████| 100/100 [00:00<00:00, 1676.49it/s]\n"
     ]
    },
    {
     "name": "stdout",
     "output_type": "stream",
     "text": [
      "Calculate bootstrap statistics...\n",
      "Mean: -0.15017086949158454, Std: 1.8911311437416738, CI: (-0.5208522408556515, 0.2205105018724825)\n",
      "Processing half_life: 4.0\n"
     ]
    },
    {
     "name": "stderr",
     "output_type": "stream",
     "text": [
      "Bootstrap half_life=4.0: 100%|██████████| 100/100 [00:00<00:00, 1642.11it/s]\n"
     ]
    },
    {
     "name": "stdout",
     "output_type": "stream",
     "text": [
      "Calculate bootstrap statistics...\n",
      "Mean: -0.6555784880441133, Std: 0.1173306612416055, CI: (-0.6785765178507823, -0.6325804582374444)\n",
      "Processing half_life: 2.0\n"
     ]
    },
    {
     "name": "stderr",
     "output_type": "stream",
     "text": [
      "Bootstrap half_life=2.0: 100%|██████████| 100/100 [00:00<00:00, 1662.95it/s]\n"
     ]
    },
    {
     "name": "stdout",
     "output_type": "stream",
     "text": [
      "Calculate bootstrap statistics...\n",
      "Mean: -0.7503400460852229, Std: 0.026314088658546106, CI: (-0.7554978659783317, -0.745182226192114)\n",
      "Processing half_life: 128.0\n"
     ]
    },
    {
     "name": "stderr",
     "output_type": "stream",
     "text": [
      "Bootstrap half_life=128.0: 100%|██████████| 100/100 [00:00<00:00, 1658.29it/s]\n"
     ]
    },
    {
     "name": "stdout",
     "output_type": "stream",
     "text": [
      "Calculate bootstrap statistics...\n",
      "Mean: 0.24287972727413737, Std: 2.011510837241935, CI: (-0.15139731592830658, 0.6371567704765813)\n",
      "Processing half_life: 8.0\n"
     ]
    },
    {
     "name": "stderr",
     "output_type": "stream",
     "text": [
      "Bootstrap half_life=8.0: 100%|██████████| 100/100 [00:00<00:00, 1672.82it/s]\n"
     ]
    },
    {
     "name": "stdout",
     "output_type": "stream",
     "text": [
      "Calculate bootstrap statistics...\n",
      "Mean: -0.6079415504337421, Std: 0.08758865087704981, CI: (-0.6251098196267054, -0.5907732812407788)\n",
      "Processing half_life: 0.5\n"
     ]
    },
    {
     "name": "stderr",
     "output_type": "stream",
     "text": [
      "Bootstrap half_life=0.5: 100%|██████████| 100/100 [00:00<00:00, 1674.91it/s]\n"
     ]
    },
    {
     "name": "stdout",
     "output_type": "stream",
     "text": [
      "Calculate bootstrap statistics...\n",
      "Mean: -0.9200673181438744, Std: 0.012600453348925546, CI: (-0.9225371821525694, -0.9175974541351795)\n",
      "Processing half_life: 0.0625\n"
     ]
    },
    {
     "name": "stderr",
     "output_type": "stream",
     "text": [
      "Bootstrap half_life=0.0625: 100%|██████████| 100/100 [00:00<00:00, 1650.01it/s]\n"
     ]
    },
    {
     "name": "stdout",
     "output_type": "stream",
     "text": [
      "Calculate bootstrap statistics...\n",
      "Mean: -0.9998997006655347, Std: 0.00017720920931737585, CI: (-0.9999344365060915, -0.9998649648249779)\n",
      "Processing half_life: 0.125\n"
     ]
    },
    {
     "name": "stderr",
     "output_type": "stream",
     "text": [
      "Bootstrap half_life=0.125: 100%|██████████| 100/100 [00:00<00:00, 1652.35it/s]\n"
     ]
    },
    {
     "name": "stdout",
     "output_type": "stream",
     "text": [
      "Calculate bootstrap statistics...\n",
      "Mean: -0.9987605600052508, Std: 0.00037538434262857366, CI: (-0.9988341407977939, -0.9986869792127078)\n",
      "Filter baseline results...\n",
      "Filter treatment results...\n",
      "Processing half_life: 0.25\n"
     ]
    },
    {
     "name": "stderr",
     "output_type": "stream",
     "text": [
      "Bootstrap half_life=0.25: 100%|██████████| 100/100 [00:00<00:00, 650.51it/s]\n"
     ]
    },
    {
     "name": "stdout",
     "output_type": "stream",
     "text": [
      "Calculate bootstrap statistics...\n",
      "Mean: -0.9703450311101296, Std: 0.003340665319822917, CI: (-0.9709998549669152, -0.969690207253344)\n",
      "Processing half_life: 32.0\n"
     ]
    },
    {
     "name": "stderr",
     "output_type": "stream",
     "text": [
      "Bootstrap half_life=32.0: 100%|██████████| 100/100 [00:00<00:00, 1645.24it/s]\n"
     ]
    },
    {
     "name": "stdout",
     "output_type": "stream",
     "text": [
      "Calculate bootstrap statistics...\n",
      "Mean: -0.20048785109218223, Std: 0.2532905198346011, CI: (-0.25013542712439873, -0.1508402750599657)\n",
      "Processing half_life: 1.0\n"
     ]
    },
    {
     "name": "stderr",
     "output_type": "stream",
     "text": [
      "Bootstrap half_life=1.0: 100%|██████████| 100/100 [00:00<00:00, 1649.53it/s]\n"
     ]
    },
    {
     "name": "stdout",
     "output_type": "stream",
     "text": [
      "Calculate bootstrap statistics...\n",
      "Mean: -0.7285573763949297, Std: 0.02751657483496063, CI: (-0.7339508953921337, -0.7231638573977257)\n",
      "Processing half_life: 16.0\n"
     ]
    },
    {
     "name": "stderr",
     "output_type": "stream",
     "text": [
      "Bootstrap half_life=16.0: 100%|██████████| 100/100 [00:00<00:00, 1644.74it/s]\n"
     ]
    },
    {
     "name": "stdout",
     "output_type": "stream",
     "text": [
      "Calculate bootstrap statistics...\n",
      "Mean: -0.2793391557458166, Std: 0.11412535220845738, CI: (-0.30170891164774616, -0.256969399843887)\n",
      "Processing half_life: 64.0\n"
     ]
    },
    {
     "name": "stderr",
     "output_type": "stream",
     "text": [
      "Bootstrap half_life=64.0: 100%|██████████| 100/100 [00:00<00:00, 1662.05it/s]\n"
     ]
    },
    {
     "name": "stdout",
     "output_type": "stream",
     "text": [
      "Calculate bootstrap statistics...\n",
      "Mean: -0.007410830855060551, Std: 0.9709235940688163, CI: (-0.19772195260364298, 0.18290029089352186)\n",
      "Processing half_life: 512.0\n"
     ]
    },
    {
     "name": "stderr",
     "output_type": "stream",
     "text": [
      "Bootstrap half_life=512.0: 100%|██████████| 100/100 [00:00<00:00, 1669.53it/s]\n"
     ]
    },
    {
     "name": "stdout",
     "output_type": "stream",
     "text": [
      "Calculate bootstrap statistics...\n",
      "Mean: 0.1353934796410963, Std: 2.065198331037043, CI: (-0.26940687067885183, 0.5401938299610445)\n",
      "Processing half_life: 256.0\n"
     ]
    },
    {
     "name": "stderr",
     "output_type": "stream",
     "text": [
      "Bootstrap half_life=256.0: 100%|██████████| 100/100 [00:00<00:00, 1660.37it/s]\n"
     ]
    },
    {
     "name": "stdout",
     "output_type": "stream",
     "text": [
      "Calculate bootstrap statistics...\n",
      "Mean: -0.06042070409118887, Std: 0.6118442911204443, CI: (-0.18034854814597553, 0.0595071399635978)\n",
      "Processing half_life: 4.0\n"
     ]
    },
    {
     "name": "stderr",
     "output_type": "stream",
     "text": [
      "Bootstrap half_life=4.0: 100%|██████████| 100/100 [00:00<00:00, 1682.68it/s]\n"
     ]
    },
    {
     "name": "stdout",
     "output_type": "stream",
     "text": [
      "Calculate bootstrap statistics...\n",
      "Mean: -0.4219830967880802, Std: 0.12901062420708623, CI: (-0.44727052080405816, -0.39669567277210227)\n",
      "Processing half_life: 2.0\n"
     ]
    },
    {
     "name": "stderr",
     "output_type": "stream",
     "text": [
      "Bootstrap half_life=2.0: 100%|██████████| 100/100 [00:00<00:00, 1514.75it/s]\n"
     ]
    },
    {
     "name": "stdout",
     "output_type": "stream",
     "text": [
      "Calculate bootstrap statistics...\n",
      "Mean: -0.5717273275312204, Std: 0.04513216088369379, CI: (-0.5805736744537957, -0.562880980608645)\n",
      "Processing half_life: 128.0\n"
     ]
    },
    {
     "name": "stderr",
     "output_type": "stream",
     "text": [
      "Bootstrap half_life=128.0: 100%|██████████| 100/100 [00:00<00:00, 1644.96it/s]\n"
     ]
    },
    {
     "name": "stdout",
     "output_type": "stream",
     "text": [
      "Calculate bootstrap statistics...\n",
      "Mean: 0.1786406915952145, Std: 0.8903350244753829, CI: (0.004125767583642664, 0.3531556156067863)\n",
      "Processing half_life: 8.0\n"
     ]
    },
    {
     "name": "stderr",
     "output_type": "stream",
     "text": [
      "Bootstrap half_life=8.0: 100%|██████████| 100/100 [00:00<00:00, 1649.61it/s]\n"
     ]
    },
    {
     "name": "stdout",
     "output_type": "stream",
     "text": [
      "Calculate bootstrap statistics...\n",
      "Mean: -0.3307259589151829, Std: 0.13586572903172356, CI: (-0.35735702797216773, -0.3040948898581981)\n",
      "Processing half_life: 0.5\n"
     ]
    },
    {
     "name": "stderr",
     "output_type": "stream",
     "text": [
      "Bootstrap half_life=0.5: 100%|██████████| 100/100 [00:00<00:00, 1668.67it/s]\n"
     ]
    },
    {
     "name": "stdout",
     "output_type": "stream",
     "text": [
      "Calculate bootstrap statistics...\n",
      "Mean: -0.8668013596606597, Std: 0.01958956887329289, CI: (-0.8706411874641669, -0.8629615318571526)\n",
      "Processing half_life: 0.0625\n"
     ]
    },
    {
     "name": "stderr",
     "output_type": "stream",
     "text": [
      "Bootstrap half_life=0.0625: 100%|██████████| 100/100 [00:00<00:00, 1668.15it/s]\n"
     ]
    },
    {
     "name": "stdout",
     "output_type": "stream",
     "text": [
      "Calculate bootstrap statistics...\n",
      "Mean: -0.9998225185660893, Std: 0.0003135748082429007, CI: (-0.9998839842460261, -0.9997610528861525)\n",
      "Processing half_life: 0.125\n"
     ]
    },
    {
     "name": "stderr",
     "output_type": "stream",
     "text": [
      "Bootstrap half_life=0.125: 100%|██████████| 100/100 [00:00<00:00, 1648.52it/s]\n"
     ]
    },
    {
     "name": "stdout",
     "output_type": "stream",
     "text": [
      "Calculate bootstrap statistics...\n",
      "Mean: -0.9978976696793853, Std: 0.000625251371329014, CI: (-0.9980202280448165, -0.9977751113139541)\n",
      "Filter baseline results...\n",
      "Filter treatment results...\n",
      "Processing half_life: 0.25\n"
     ]
    },
    {
     "name": "stderr",
     "output_type": "stream",
     "text": [
      "Bootstrap half_life=0.25: 100%|██████████| 100/100 [00:00<00:00, 1670.45it/s]\n"
     ]
    },
    {
     "name": "stdout",
     "output_type": "stream",
     "text": [
      "Calculate bootstrap statistics...\n",
      "Mean: -0.9548028692697229, Std: 0.0039581609179953035, CI: (-0.9555787321443185, -0.9540270063951273)\n",
      "Processing half_life: 32.0\n"
     ]
    },
    {
     "name": "stderr",
     "output_type": "stream",
     "text": [
      "Bootstrap half_life=32.0: 100%|██████████| 100/100 [00:00<00:00, 1688.37it/s]\n"
     ]
    },
    {
     "name": "stdout",
     "output_type": "stream",
     "text": [
      "Calculate bootstrap statistics...\n",
      "Mean: -0.1131499742285209, Std: 0.0927284285411324, CI: (-0.13132571057013398, -0.09497423788690781)\n",
      "Processing half_life: 1.0\n"
     ]
    },
    {
     "name": "stderr",
     "output_type": "stream",
     "text": [
      "Bootstrap half_life=1.0: 100%|██████████| 100/100 [00:00<00:00, 1623.42it/s]\n"
     ]
    },
    {
     "name": "stdout",
     "output_type": "stream",
     "text": [
      "Calculate bootstrap statistics...\n",
      "Mean: -0.6165038745815714, Std: 0.023978121983210275, CI: (-0.6212038220572074, -0.6118039271059355)\n",
      "Processing half_life: 16.0\n"
     ]
    },
    {
     "name": "stderr",
     "output_type": "stream",
     "text": [
      "Bootstrap half_life=16.0: 100%|██████████| 100/100 [00:00<00:00, 1669.82it/s]\n"
     ]
    },
    {
     "name": "stdout",
     "output_type": "stream",
     "text": [
      "Calculate bootstrap statistics...\n",
      "Mean: -0.145711082143676, Std: 0.06449468404975886, CI: (-0.15835271094259473, -0.13306945334475728)\n",
      "Processing half_life: 64.0\n"
     ]
    },
    {
     "name": "stderr",
     "output_type": "stream",
     "text": [
      "Bootstrap half_life=64.0: 100%|██████████| 100/100 [00:00<00:00, 695.28it/s]\n"
     ]
    },
    {
     "name": "stdout",
     "output_type": "stream",
     "text": [
      "Calculate bootstrap statistics...\n",
      "Mean: -0.022716375950273662, Std: 0.421202758230385, CI: (-0.10527649694444949, 0.05984374504390216)\n",
      "Processing half_life: 512.0\n"
     ]
    },
    {
     "name": "stderr",
     "output_type": "stream",
     "text": [
      "Bootstrap half_life=512.0: 100%|██████████| 100/100 [00:00<00:00, 1672.83it/s]\n"
     ]
    },
    {
     "name": "stdout",
     "output_type": "stream",
     "text": [
      "Calculate bootstrap statistics...\n",
      "Mean: 0.03822860964889189, Std: 0.6279883935379612, CI: (-0.0848636463735, 0.1613208656712838)\n",
      "Processing half_life: 256.0\n"
     ]
    },
    {
     "name": "stderr",
     "output_type": "stream",
     "text": [
      "Bootstrap half_life=256.0: 100%|██████████| 100/100 [00:00<00:00, 1680.65it/s]\n"
     ]
    },
    {
     "name": "stdout",
     "output_type": "stream",
     "text": [
      "Calculate bootstrap statistics...\n",
      "Mean: -0.0191594572213141, Std: 0.33524624489910343, CI: (-0.08487120768087324, 0.04655229323824504)\n",
      "Processing half_life: 4.0\n"
     ]
    },
    {
     "name": "stderr",
     "output_type": "stream",
     "text": [
      "Bootstrap half_life=4.0: 100%|██████████| 100/100 [00:00<00:00, 1663.96it/s]\n"
     ]
    },
    {
     "name": "stdout",
     "output_type": "stream",
     "text": [
      "Calculate bootstrap statistics...\n",
      "Mean: -0.29200746832944247, Std: 0.05234876143570799, CI: (-0.30226836998209344, -0.2817465666767915)\n",
      "Processing half_life: 2.0\n"
     ]
    },
    {
     "name": "stderr",
     "output_type": "stream",
     "text": [
      "Bootstrap half_life=2.0: 100%|██████████| 100/100 [00:00<00:00, 1679.42it/s]\n"
     ]
    },
    {
     "name": "stdout",
     "output_type": "stream",
     "text": [
      "Calculate bootstrap statistics...\n",
      "Mean: -0.4282583687626775, Std: 0.04091616333785379, CI: (-0.43627833874727867, -0.4202383987780763)\n",
      "Processing half_life: 128.0\n"
     ]
    },
    {
     "name": "stderr",
     "output_type": "stream",
     "text": [
      "Bootstrap half_life=128.0: 100%|██████████| 100/100 [00:00<00:00, 1658.85it/s]\n"
     ]
    },
    {
     "name": "stdout",
     "output_type": "stream",
     "text": [
      "Calculate bootstrap statistics...\n",
      "Mean: 0.047692800268527555, Std: 0.33757467978980465, CI: (-0.018475347644626147, 0.11386094818168126)\n",
      "Processing half_life: 8.0\n"
     ]
    },
    {
     "name": "stderr",
     "output_type": "stream",
     "text": [
      "Bootstrap half_life=8.0: 100%|██████████| 100/100 [00:00<00:00, 1622.99it/s]\n"
     ]
    },
    {
     "name": "stdout",
     "output_type": "stream",
     "text": [
      "Calculate bootstrap statistics...\n",
      "Mean: -0.19206360192064859, Std: 0.06217709274676579, CI: (-0.20425094645927794, -0.17987625738201923)\n",
      "Processing half_life: 0.5\n"
     ]
    },
    {
     "name": "stderr",
     "output_type": "stream",
     "text": [
      "Bootstrap half_life=0.5: 100%|██████████| 100/100 [00:00<00:00, 1673.74it/s]\n"
     ]
    },
    {
     "name": "stdout",
     "output_type": "stream",
     "text": [
      "Calculate bootstrap statistics...\n",
      "Mean: -0.819986864507117, Std: 0.01683871638709336, CI: (-0.8232874869851686, -0.8166862420290654)\n",
      "Processing half_life: 0.0625\n"
     ]
    },
    {
     "name": "stderr",
     "output_type": "stream",
     "text": [
      "Bootstrap half_life=0.0625: 100%|██████████| 100/100 [00:00<00:00, 1668.45it/s]\n"
     ]
    },
    {
     "name": "stdout",
     "output_type": "stream",
     "text": [
      "Calculate bootstrap statistics...\n",
      "Mean: -0.9999580859950346, Std: 0.0001216124465651927, CI: (-0.9999819239804862, -0.9999342480095829)\n",
      "Processing half_life: 0.125\n"
     ]
    },
    {
     "name": "stderr",
     "output_type": "stream",
     "text": [
      "Bootstrap half_life=0.125: 100%|██████████| 100/100 [00:00<00:00, 1655.44it/s]\n"
     ]
    },
    {
     "name": "stdout",
     "output_type": "stream",
     "text": [
      "Calculate bootstrap statistics...\n",
      "Mean: -0.997374096595824, Std: 0.0007865418769030909, CI: (-0.9975282702469292, -0.9972199229447187)\n",
      "Filter baseline results...\n",
      "Filter treatment results...\n",
      "Processing half_life: 0.25\n"
     ]
    },
    {
     "name": "stderr",
     "output_type": "stream",
     "text": [
      "Bootstrap half_life=0.25: 100%|██████████| 100/100 [00:00<00:00, 1686.57it/s]\n"
     ]
    },
    {
     "name": "stdout",
     "output_type": "stream",
     "text": [
      "Calculate bootstrap statistics...\n",
      "Mean: -0.9487042032053269, Std: 0.0045003289189166915, CI: (-0.9495863396833519, -0.9478220667273018)\n",
      "Processing half_life: 32.0\n"
     ]
    },
    {
     "name": "stderr",
     "output_type": "stream",
     "text": [
      "Bootstrap half_life=32.0: 100%|██████████| 100/100 [00:00<00:00, 1668.75it/s]\n"
     ]
    },
    {
     "name": "stdout",
     "output_type": "stream",
     "text": [
      "Calculate bootstrap statistics...\n",
      "Mean: -0.04655872459338122, Std: 0.07282185507564068, CI: (-0.06083256551342751, -0.03228488367333494)\n",
      "Processing half_life: 1.0\n"
     ]
    },
    {
     "name": "stderr",
     "output_type": "stream",
     "text": [
      "Bootstrap half_life=1.0: 100%|██████████| 100/100 [00:00<00:00, 1655.64it/s]\n"
     ]
    },
    {
     "name": "stdout",
     "output_type": "stream",
     "text": [
      "Calculate bootstrap statistics...\n",
      "Mean: -0.5678480973373762, Std: 0.02668966742640115, CI: (-0.5730795343587621, -0.5626166603159902)\n",
      "Processing half_life: 16.0\n"
     ]
    },
    {
     "name": "stderr",
     "output_type": "stream",
     "text": [
      "Bootstrap half_life=16.0: 100%|██████████| 100/100 [00:00<00:00, 1648.94it/s]\n"
     ]
    },
    {
     "name": "stdout",
     "output_type": "stream",
     "text": [
      "Calculate bootstrap statistics...\n",
      "Mean: -0.06946542233613033, Std: 0.06784597462399847, CI: (-0.08276393894000622, -0.05616690573225444)\n",
      "Processing half_life: 64.0\n"
     ]
    },
    {
     "name": "stderr",
     "output_type": "stream",
     "text": [
      "Bootstrap half_life=64.0: 100%|██████████| 100/100 [00:00<00:00, 1674.06it/s]\n"
     ]
    },
    {
     "name": "stdout",
     "output_type": "stream",
     "text": [
      "Calculate bootstrap statistics...\n",
      "Mean: -0.02052024160479066, Std: 0.0724504584507486, CI: (-0.034721284923945765, -0.006319198285635553)\n",
      "Processing half_life: 512.0\n"
     ]
    },
    {
     "name": "stderr",
     "output_type": "stream",
     "text": [
      "Bootstrap half_life=512.0: 100%|██████████| 100/100 [00:00<00:00, 1639.29it/s]\n"
     ]
    },
    {
     "name": "stdout",
     "output_type": "stream",
     "text": [
      "Calculate bootstrap statistics...\n",
      "Mean: 0.0011181553595445088, Std: 0.09869898608464912, CI: (-0.018227872352586647, 0.020464183071675662)\n",
      "Processing half_life: 256.0\n"
     ]
    },
    {
     "name": "stderr",
     "output_type": "stream",
     "text": [
      "Bootstrap half_life=256.0: 100%|██████████| 100/100 [00:00<00:00, 1657.26it/s]\n"
     ]
    },
    {
     "name": "stdout",
     "output_type": "stream",
     "text": [
      "Calculate bootstrap statistics...\n",
      "Mean: -0.009940164719773551, Std: 0.0683677205998578, CI: (-0.02334094896091788, 0.0034606195213707763)\n",
      "Processing half_life: 4.0\n"
     ]
    },
    {
     "name": "stderr",
     "output_type": "stream",
     "text": [
      "Bootstrap half_life=4.0: 100%|██████████| 100/100 [00:00<00:00, 1679.42it/s]\n"
     ]
    },
    {
     "name": "stdout",
     "output_type": "stream",
     "text": [
      "Calculate bootstrap statistics...\n",
      "Mean: -0.21873861333692682, Std: 0.05981085558150205, CI: (-0.2304621630456708, -0.20701506362818284)\n",
      "Processing half_life: 2.0\n"
     ]
    },
    {
     "name": "stderr",
     "output_type": "stream",
     "text": [
      "Bootstrap half_life=2.0: 100%|██████████| 100/100 [00:00<00:00, 673.05it/s]\n"
     ]
    },
    {
     "name": "stdout",
     "output_type": "stream",
     "text": [
      "Calculate bootstrap statistics...\n",
      "Mean: -0.3631272483665804, Std: 0.04509056917146579, CI: (-0.371965442904952, -0.3542890538282088)\n",
      "Processing half_life: 128.0\n"
     ]
    },
    {
     "name": "stderr",
     "output_type": "stream",
     "text": [
      "Bootstrap half_life=128.0: 100%|██████████| 100/100 [00:00<00:00, 1668.60it/s]\n"
     ]
    },
    {
     "name": "stdout",
     "output_type": "stream",
     "text": [
      "Calculate bootstrap statistics...\n",
      "Mean: -0.00137245873607711, Std: 0.0663719712920594, CI: (-0.014382055357705056, 0.011637137885550835)\n",
      "Processing half_life: 8.0\n"
     ]
    },
    {
     "name": "stderr",
     "output_type": "stream",
     "text": [
      "Bootstrap half_life=8.0: 100%|██████████| 100/100 [00:00<00:00, 1659.67it/s]\n"
     ]
    },
    {
     "name": "stdout",
     "output_type": "stream",
     "text": [
      "Calculate bootstrap statistics...\n",
      "Mean: -0.11632446841695057, Std: 0.06398927679743192, CI: (-0.12886701951827378, -0.10378191731562736)\n",
      "Processing half_life: 0.5\n"
     ]
    },
    {
     "name": "stderr",
     "output_type": "stream",
     "text": [
      "Bootstrap half_life=0.5: 100%|██████████| 100/100 [00:00<00:00, 1551.37it/s]\n"
     ]
    },
    {
     "name": "stdout",
     "output_type": "stream",
     "text": [
      "Calculate bootstrap statistics...\n",
      "Mean: -0.7993005171972631, Std: 0.018784965385842713, CI: (-0.8029826315328581, -0.7956184028616682)\n",
      "Processing half_life: 0.0625\n"
     ]
    },
    {
     "name": "stderr",
     "output_type": "stream",
     "text": [
      "Bootstrap half_life=0.0625: 100%|██████████| 100/100 [00:00<00:00, 1675.76it/s]\n"
     ]
    },
    {
     "name": "stdout",
     "output_type": "stream",
     "text": [
      "Calculate bootstrap statistics...\n",
      "Mean: -0.9999523186588646, Std: 0.00013834622951867356, CI: (-0.999979436733533, -0.9999252005841962)\n",
      "Processing half_life: 0.125\n"
     ]
    },
    {
     "name": "stderr",
     "output_type": "stream",
     "text": [
      "Bootstrap half_life=0.125: 100%|██████████| 100/100 [00:00<00:00, 1664.00it/s]\n"
     ]
    },
    {
     "name": "stdout",
     "output_type": "stream",
     "text": [
      "Calculate bootstrap statistics...\n",
      "Mean: -0.9970379075348931, Std: 0.0008873208871745211, CI: (-0.9972118353382242, -0.9968639797315619)\n"
     ]
    }
   ],
   "source": [
    "metrics = [\n",
    "    (\"no_reshares\", \"mean\"),\n",
    "    (\"no_unique_reshares\", \"mean\"),\n",
    "    (\"no_exposures\", \"mean\"),\n",
    "    (\"no_reach\", \"mean\"),\n",
    "]\n",
    "exposure_data = dict()\n",
    "for focal_metric, agg_type in metrics:\n",
    "    focal_metric_agg = f\"{focal_metric}_{agg_type}\"\n",
    "\n",
    "    focal_data = make_plot_data(df, focal_metric=focal_metric_agg, random_state=30)\n",
    "    focal_data[\"mean_lifetime\"] = focal_data[x_col] / np.log(2)\n",
    "    focal_data[\"human_vals\"] = focal_data[\"mean_lifetime\"].apply(\n",
    "        lambda x: convert_days_to_nearest_unit(x, sep=\"\\n\")\n",
    "    )\n",
    "    exposure_data[focal_metric_agg] = focal_data"
   ]
  },
  {
   "cell_type": "markdown",
   "metadata": {},
   "source": [
    "# 2 panels"
   ]
  },
  {
   "cell_type": "code",
   "execution_count": null,
   "metadata": {},
   "outputs": [
    {
     "name": "stdout",
     "output_type": "stream",
     "text": [
      "Drawing line Prevalence\n",
      "X: (0.09016844005556021, 0.18033688011112042, 0.36067376022224085, 0.7213475204444817, 1.4426950408889634, 2.8853900817779268, 5.7707801635558535, 11.541560327111707, 23.083120654223414, 46.16624130844683, 92.33248261689366, 184.6649652337873, 369.3299304675746, 738.6598609351493)\n",
      "Y: (-100.0, -99.86036439059343, -96.70048034506668, -87.07582055592286, -70.65514652019152, -53.00883507191758, -31.518527505947127, -21.735210072938344, -8.149330267687096, -2.662384811985556, -0.8996742572606304, 2.268056860121284, -0.46999755503313084, -2.3061637398767876)\n",
      "Y lower: (nan, -99.95713411961536, -97.01053213833742, -87.93642838454616, -71.74989649566503, -55.2189208562149, -33.54599659679529, -24.48530178084467, -9.991048217350404, -4.750829713148651, -3.0760553464684626, 0.4995991164134579, -3.0597251899521902, -4.908977116913676)\n",
      "Y upper: (nan, -99.76359466157149, -96.39042855179592, -86.21521272729954, -69.56039654471802, -50.79874928762026, -29.49105841509896, -18.98511836503202, -6.307612318023789, -0.5739399108224617, 1.2767068319472015, 4.036514603829111, 2.1197300798859287, 0.2966496371601013)\n"
     ]
    },
    {
     "data": {
      "image/png": "[encoded data removed]",
      "text/plain": [
       "<Figure size 800x800 with 2 Axes>"
      ]
     },
     "metadata": {},
     "output_type": "display_data"
    }
   ],
   "source": [
    "import matplotlib.pyplot as plt\n",
    "\n",
    "PALETTE = [\n",
    "    \"#209B8A\",  # teal\n",
    "    \"#550F6B\",  # purple\n",
    "    \"#3863AC\",  # blue\n",
    "    \"#BC3684\",  # pink\n",
    "]\n",
    "plt.style.use(\"stylesheet.mplstyle\")\n",
    "fpath = os.path.join(PLOT_DIR, f\"main_res_dsa1year\")\n",
    "\n",
    "x_col = \"half_life\"\n",
    "y_labels = [\"Prevalence reduction (%)\", \"Exposure reduction (%)\"]\n",
    "x_label = \"Expected content takedown delay\"\n",
    "pct = True\n",
    "log_x = True\n",
    "\n",
    "fig, axs = plt.subplots(\n",
    "    2, 1, figsize=(8, 8), sharex=True, sharey=True\n",
    ")  # same size with contour plot\n",
    "plt.xticks(fontsize=15)\n",
    "plt.yticks(fontsize=15)\n",
    "\n",
    "# PLOT PREVALENCE\n",
    "plot_data_prevalence = zip(\n",
    "    *sorted(\n",
    "        zip(\n",
    "            np.array(prevalence_plot_data[\"x\"]) / np.log(2),\n",
    "            prevalence_plot_data[\"y\"],\n",
    "            prevalence_plot_data[\"y_lower\"],\n",
    "            prevalence_plot_data[\"y_upper\"],\n",
    "        ),\n",
    "        key=lambda x: x[0],\n",
    "    )\n",
    ")\n",
    "draw_lines(\n",
    "    axs[0],\n",
    "    plot_data_prevalence,\n",
    "    line_name=\"Prevalence\",\n",
    "    marker=\".\",\n",
    "    color=PALETTE[-1],\n",
    "    absolute=True,\n",
    ")\n",
    "\n",
    "## PLOT EXPOSURE\n",
    "ax = axs[1]\n",
    "# Define the focal metrics and aggregation types\n",
    "metrics = [\n",
    "    (\"no_reach\", \"mean\"),\n",
    "    # (\"no_unique_reshares\", \"mean\"),\n",
    "    (\"no_exposures\", \"mean\"),\n",
    "]\n",
    "labels = [\n",
    "    \"Reach\",\n",
    "    #   \"Engagement\",\n",
    "    \"Impressions\",\n",
    "]\n",
    "markers = [\"o\", \"*\", \"d\"]\n",
    "lines = [\"-\", \"-\", \"--\"]\n",
    "metric_col = \"pct_mean\"\n",
    "# Plot each focal_metric_agg as a line\n",
    "idx = 0\n",
    "xticks = None\n",
    "# x_tickvalues=None\n",
    "for focal_metric, agg_type in metrics:\n",
    "    focal_data = exposure_data[f\"{focal_metric}_{agg_type}\"]\n",
    "\n",
    "    x = focal_data[\"mean_lifetime\"]\n",
    "    if idx == 0:\n",
    "        xticks = focal_data[\"human_vals\"]\n",
    "    if labels[idx] == \"Impression\":\n",
    "        ax = axs[1]\n",
    "    y = focal_data[f\"{metric_col}\"] if not pct else focal_data[f\"{metric_col}\"] * 100\n",
    "    y_lower = focal_data[\"lower\"] if not pct else focal_data[\"lower\"] * 100\n",
    "    y_upper = focal_data[\"upper\"] if not pct else focal_data[\"upper\"] * 100\n",
    "    plot_data = zip(*sorted(zip(x, y, y_lower, y_upper, xticks), key=lambda x: x[0]))\n",
    "\n",
    "    # Input: data=(x,y, err)\n",
    "    x, y, y_lower, y_upper, xticks = plot_data\n",
    "    # plot absolute values\n",
    "    y = np.array(y) * -1\n",
    "    y_lower = np.array(y_lower) * -1\n",
    "    y_upper = np.array(y_upper) * -1\n",
    "    ax.plot(\n",
    "        x,\n",
    "        y,\n",
    "        marker=markers[idx],\n",
    "        color=PALETTE[idx],\n",
    "        linewidth=1,\n",
    "        linestyle=lines[idx],\n",
    "        alpha=0.7,\n",
    "        label=labels[idx],\n",
    "    )\n",
    "    ax.fill_between(\n",
    "        x,\n",
    "        y_lower,\n",
    "        y_upper,\n",
    "        color=PALETTE[idx],\n",
    "        alpha=0.3,\n",
    "    )\n",
    "    idx += 1\n",
    "\n",
    "    ax.legend(loc=\"lower left\")\n",
    "\n",
    "\n",
    "# Additional plot settings\n",
    "from matplotlib.ticker import FixedLocator, FuncFormatter\n",
    "\n",
    "for kdx, ax in enumerate(axs):\n",
    "    # Plot dashed lines at specified values with alternating colors\n",
    "    half_lives = {\n",
    "        \"TikTok\": 4.330755832477102,\n",
    "        \"Facebook\": 21.169685437132635,\n",
    "        \"Instagram\": 60.17239205413954,\n",
    "        \"Snapchat\": 94.12900430900339,\n",
    "        \"YouTube\": 198.41224859619473,\n",
    "    }\n",
    "    colors = {\n",
    "        \"Snapchat\": \"#fffc00\",\n",
    "        \"Facebook\": \"#3b5998\",\n",
    "        \"Instagram\": \"#E1306C\",\n",
    "        \"YouTube\": \"#CD201F\",\n",
    "        \"TikTok\": \"#000000\",\n",
    "    }\n",
    "\n",
    "    # Offset values for overlapping labels\n",
    "    # x ,y offset\n",
    "    offsets = [(0, 3), (-10, 3), (-28, 3), (-2, 3), (45, 3)]\n",
    "    # offsets = [(0, 0), (-35, 3), (-55, 3), (-20, 3), (-5, 3)]\n",
    "\n",
    "    for jdx, platform in enumerate(half_lives.keys()):\n",
    "        meanlife_value = half_lives[platform] / np.log(2)\n",
    "        human_meanlife_value = convert_days_to_nearest_unit(meanlife_value)\n",
    "        x_offset, y_offset = offsets[jdx]\n",
    "        label = f\"{platform} \\n{human_meanlife_value}\"\n",
    "        # plot shadow\n",
    "        shadow_offset = 0.1 + jdx * 0.2\n",
    "\n",
    "        ax.axvline(\n",
    "            x=half_lives[platform] + shadow_offset,\n",
    "            color=\"gray\",\n",
    "            linestyle=\"--\",\n",
    "            linewidth=2,\n",
    "            alpha=0.7,\n",
    "        )\n",
    "        ax.axvline(\n",
    "            x=half_lives[platform],\n",
    "            color=colors[platform],\n",
    "            linestyle=\"--\",\n",
    "            label=label,\n",
    "            linewidth=2,\n",
    "        )\n",
    "\n",
    "        if kdx == 0:\n",
    "            text = ax.text(\n",
    "                # half_lives[platform],\n",
    "                # ax.get_ylim()[1],\n",
    "                half_lives[platform] + x_offset,\n",
    "                ax.get_ylim()[1] + y_offset,\n",
    "                label,\n",
    "                rotation=15,\n",
    "                verticalalignment=\"bottom\",\n",
    "                fontsize=10,\n",
    "                color=colors[platform],\n",
    "            )\n",
    "            import matplotlib.patheffects as path_effects\n",
    "\n",
    "            # Add a shadow effect\n",
    "            text.set_path_effects(\n",
    "                [path_effects.withSimplePatchShadow(offset=(0.5, -0.5), alpha=0.7)]\n",
    "            )\n",
    "\n",
    "    ax.set_xscale(\"log\", base=2)\n",
    "    ax.set_ylabel(y_labels[kdx])\n",
    "\n",
    "    if kdx == 1:\n",
    "        # Setting for exposure plot\n",
    "        ax.set_xlabel(x_label)\n",
    "\n",
    "        custom_xticks = x\n",
    "        # if the x is the first element in xticks contains \"hours\", keep the same, else remove \"hours\" from x\n",
    "        custom_xtick_labels = []\n",
    "        first_hour = False\n",
    "        first_day = False\n",
    "        for idx, xtick in enumerate(xticks):\n",
    "            if \"hours\" in xtick and not first_hour:\n",
    "                custom_xtick_labels.append(xtick)\n",
    "                first_hour = True\n",
    "            elif \"days\" in xtick and not first_day:\n",
    "                custom_xtick_labels.append(xtick)\n",
    "                first_day = True\n",
    "            else:\n",
    "                custom_xtick_labels.append(xtick.split(\"\\n\")[0])\n",
    "\n",
    "        ## NOTE: Set y-axis limits to eliminate the big CI. DELETE THIS LATER\n",
    "        ax.set_ylim(-10, 110)\n",
    "\n",
    "    ax.xaxis.set_major_locator(FixedLocator(custom_xticks))\n",
    "    ax.xaxis.set_major_formatter(\n",
    "        FuncFormatter(lambda x, _: custom_xtick_labels[custom_xticks.index(x)])\n",
    "    )\n",
    "    if kdx == 0:\n",
    "        ax.set_xticklabels([])\n",
    "    ax.tick_params(\n",
    "        labelleft=True,\n",
    "        labelright=False,\n",
    "        left=True,\n",
    "        right=True,\n",
    "    )\n",
    "\n",
    "    # Hide spines\n",
    "    ax.spines.right.set_visible(False)\n",
    "    ax.spines.top.set_visible(False)\n",
    "\n",
    "    ax.grid(True, axis=\"y\", linestyle=\"--\", linewidth=0.5, color=\"grey\")\n",
    "plt.tight_layout()\n",
    "\n",
    "plt.savefig(f\"{fpath}.png\", dpi=300)\n",
    "plt.savefig(f\"{fpath}.pdf\", dpi=300)\n",
    "plt.show()"
   ]
  }
 ],
 "metadata": {
  "kernelspec": {
   "display_name": "simsomremoval",
   "language": "python",
   "name": "python3"
  },
  "language_info": {
   "codemirror_mode": {
    "name": "ipython",
    "version": 3
   },
   "file_extension": ".py",
   "mimetype": "text/x-python",
   "name": "python",
   "nbconvert_exporter": "python",
   "pygments_lexer": "ipython3",
   "version": "3.8.20"
  }
 },
 "nbformat": 4,
 "nbformat_minor": 2
}
